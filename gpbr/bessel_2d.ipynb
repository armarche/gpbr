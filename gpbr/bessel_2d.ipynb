{
 "cells": [
  {
   "cell_type": "code",
   "execution_count": 23,
   "metadata": {},
   "outputs": [],
   "source": [
    "from sympy import besselk\n",
    "from sympy.abc import x, y, z, n\n",
    "import sympy"
   ]
  },
  {
   "cell_type": "code",
   "execution_count": 48,
   "metadata": {},
   "outputs": [],
   "source": [
    "N=2"
   ]
  },
  {
   "cell_type": "code",
   "execution_count": null,
   "metadata": {},
   "outputs": [],
   "source": [
    "from sympy import symbols\n",
    "\n",
    "mu = sympy.Symbol('\\\\mu')\n",
    "mu = 1\n",
    "an = symbols(f'a0:{N+1}')\n",
    "ro = sympy.Symbol('\\\\rho')\n",
    "z = mu*ro\n",
    "ro"
   ]
  },
  {
   "cell_type": "code",
   "execution_count": 60,
   "metadata": {},
   "outputs": [],
   "source": [
    "vn = sympy.Function('vn')(ro)\n",
    "wn = sympy.Function('wn')(ro)"
   ]
  },
  {
   "cell_type": "code",
   "execution_count": 61,
   "metadata": {},
   "outputs": [],
   "source": [
    "Phi = besselk(0,z)*vn + besselk(1,z)*wn"
   ]
  },
  {
   "cell_type": "code",
   "execution_count": 64,
   "metadata": {},
   "outputs": [
    {
     "data": {
      "text/latex": [
       "$\\displaystyle \\frac{\\mu^{2} \\left(K_{0}\\left(\\mu \\rho\\right) + K_{2}\\left(\\mu \\rho\\right)\\right) \\operatorname{vn}{\\left(\\rho \\right)}}{2} + \\frac{\\mu^{2} \\left(3 K_{1}\\left(\\mu \\rho\\right) + K_{3}\\left(\\mu \\rho\\right)\\right) \\operatorname{wn}{\\left(\\rho \\right)}}{4} - \\mu \\left(K_{0}\\left(\\mu \\rho\\right) + K_{2}\\left(\\mu \\rho\\right)\\right) \\frac{d}{d \\rho} \\operatorname{wn}{\\left(\\rho \\right)} - 2 \\mu K_{1}\\left(\\mu \\rho\\right) \\frac{d}{d \\rho} \\operatorname{vn}{\\left(\\rho \\right)} + K_{0}\\left(\\mu \\rho\\right) \\frac{d^{2}}{d \\rho^{2}} \\operatorname{vn}{\\left(\\rho \\right)} + K_{1}\\left(\\mu \\rho\\right) \\frac{d^{2}}{d \\rho^{2}} \\operatorname{wn}{\\left(\\rho \\right)}$"
      ],
      "text/plain": [
       "\\mu**2*(besselk(0, \\mu*\\rho) + besselk(2, \\mu*\\rho))*vn(\\rho)/2 + \\mu**2*(3*besselk(1, \\mu*\\rho) + besselk(3, \\mu*\\rho))*wn(\\rho)/4 - \\mu*(besselk(0, \\mu*\\rho) + besselk(2, \\mu*\\rho))*Derivative(wn(\\rho), \\rho) - 2*\\mu*besselk(1, \\mu*\\rho)*Derivative(vn(\\rho), \\rho) + besselk(0, \\mu*\\rho)*Derivative(vn(\\rho), (\\rho, 2)) + besselk(1, \\mu*\\rho)*Derivative(wn(\\rho), (\\rho, 2))"
      ]
     },
     "execution_count": 64,
     "metadata": {},
     "output_type": "execute_result"
    }
   ],
   "source": [
    "Phi.diff(ro,2)"
   ]
  },
  {
   "cell_type": "code",
   "execution_count": null,
   "metadata": {},
   "outputs": [],
   "source": []
  },
  {
   "cell_type": "code",
   "execution_count": 58,
   "metadata": {},
   "outputs": [],
   "source": [
    "A = sympy.Matrix(N+1,N+1, sympy.symbols(f'a:{N+1}:{N+1}'))"
   ]
  },
  {
   "cell_type": "code",
   "execution_count": 59,
   "metadata": {},
   "outputs": [
    {
     "data": {
      "text/latex": [
       "$\\displaystyle \\left[\\begin{matrix}a_{00} & a_{01} & a_{02}\\\\a_{10} & a_{11} & a_{12}\\\\a_{20} & a_{21} & a_{22}\\end{matrix}\\right]$"
      ],
      "text/plain": [
       "Matrix([\n",
       "[a00, a01, a02],\n",
       "[a10, a11, a12],\n",
       "[a20, a21, a22]])"
      ]
     },
     "execution_count": 59,
     "metadata": {},
     "output_type": "execute_result"
    }
   ],
   "source": [
    "A"
   ]
  },
  {
   "cell_type": "code",
   "execution_count": 34,
   "metadata": {},
   "outputs": [
    {
     "data": {
      "text/latex": [
       "$\\displaystyle \\rho$"
      ],
      "text/plain": [
       "\\rho"
      ]
     },
     "execution_count": 34,
     "metadata": {},
     "output_type": "execute_result"
    }
   ],
   "source": [
    "from sympy import symbols\n",
    "\n",
    "mu = sympy.Symbol('\\\\mu')\n",
    "mu = 1\n",
    "an = symbols(f'a0:{N+1}')\n",
    "ro = sympy.Symbol('\\\\rho')\n",
    "z = mu*ro\n",
    "ro"
   ]
  },
  {
   "cell_type": "code",
   "execution_count": 35,
   "metadata": {},
   "outputs": [
    {
     "data": {
      "text/latex": [
       "$\\displaystyle \\mu \\rho$"
      ],
      "text/plain": [
       "\\mu*\\rho"
      ]
     },
     "execution_count": 35,
     "metadata": {},
     "output_type": "execute_result"
    }
   ],
   "source": [
    "z"
   ]
  },
  {
   "cell_type": "code",
   "execution_count": 36,
   "metadata": {},
   "outputs": [
    {
     "data": {
      "text/latex": [
       "$\\displaystyle \\rho$"
      ],
      "text/plain": [
       "\\rho"
      ]
     },
     "execution_count": 36,
     "metadata": {},
     "output_type": "execute_result"
    }
   ],
   "source": [
    "ro"
   ]
  },
  {
   "cell_type": "code",
   "execution_count": null,
   "metadata": {},
   "outputs": [],
   "source": []
  },
  {
   "cell_type": "code",
   "execution_count": 37,
   "metadata": {},
   "outputs": [
    {
     "data": {
      "text/latex": [
       "$\\displaystyle \\operatorname{Poly}{\\left( a_{0} \\rho^{2} + a_{2}, \\rho, domain=\\mathbb{Z}\\left[a_{0}, a_{2}\\right] \\right)}$"
      ],
      "text/plain": [
       "Poly(a0*\\rho**2 + a2, \\rho, domain='ZZ[a0,a2]')"
      ]
     },
     "execution_count": 37,
     "metadata": {},
     "output_type": "execute_result"
    }
   ],
   "source": [
    "vn_coeff = sympy.zeros(1,N+1)\n",
    "for m in range(0, int(N/2)+1):\n",
    "    vn_coeff[2*m] = an[2*m]\n",
    "vn_coeff\n",
    "vn = sympy.Poly(vn_coeff, ro)\n",
    "vn"
   ]
  },
  {
   "cell_type": "code",
   "execution_count": 38,
   "metadata": {},
   "outputs": [
    {
     "data": {
      "text/latex": [
       "$\\displaystyle \\operatorname{Poly}{\\left( a_{1} \\rho, \\rho, domain=\\mathbb{Z}\\left[a_{1}\\right] \\right)}$"
      ],
      "text/plain": [
       "Poly(a1*\\rho, \\rho, domain='ZZ[a1]')"
      ]
     },
     "execution_count": 38,
     "metadata": {},
     "output_type": "execute_result"
    }
   ],
   "source": [
    "wn_coeff = sympy.zeros(1,N+1)\n",
    "for m in range(0, int((N-1)/2)+1):\n",
    "    wn_coeff[2*m+1] = an[2*m+1]\n",
    "wn_coeff\n",
    "wn = sympy.Poly(wn_coeff, ro)\n",
    "wn"
   ]
  },
  {
   "cell_type": "code",
   "execution_count": 39,
   "metadata": {},
   "outputs": [],
   "source": [
    "Phi = besselk(0,z)*vn.as_expr() + besselk(1,z)*wn.as_expr()"
   ]
  },
  {
   "cell_type": "code",
   "execution_count": 44,
   "metadata": {},
   "outputs": [
    {
     "data": {
      "text/latex": [
       "$\\displaystyle \\mu \\rho a_{1} \\left(- \\frac{K_{0}\\left(\\mu \\rho\\right)}{2} - \\frac{K_{2}\\left(\\mu \\rho\\right)}{2}\\right) - \\mu \\left(\\rho^{2} a_{0} + a_{2}\\right) K_{1}\\left(\\mu \\rho\\right) + 2 \\rho a_{0} K_{0}\\left(\\mu \\rho\\right) + a_{1} K_{1}\\left(\\mu \\rho\\right)$"
      ],
      "text/plain": [
       "\\mu*\\rho*a1*(-besselk(0, \\mu*\\rho)/2 - besselk(2, \\mu*\\rho)/2) - \\mu*(\\rho**2*a0 + a2)*besselk(1, \\mu*\\rho) + 2*\\rho*a0*besselk(0, \\mu*\\rho) + a1*besselk(1, \\mu*\\rho)"
      ]
     },
     "execution_count": 44,
     "metadata": {},
     "output_type": "execute_result"
    }
   ],
   "source": [
    "Phi.diff(ro)"
   ]
  },
  {
   "cell_type": "code",
   "execution_count": 46,
   "metadata": {},
   "outputs": [
    {
     "data": {
      "text/latex": [
       "$\\displaystyle - 3 \\mu \\rho a_{0} K_{1}\\left(\\mu \\rho\\right) - \\mu a_{1} K_{0}\\left(\\mu \\rho\\right) + \\frac{\\mu a_{2} K_{1}\\left(\\mu \\rho\\right)}{\\rho} + 2 a_{0} K_{0}\\left(\\mu \\rho\\right)$"
      ],
      "text/plain": [
       "-3*\\mu*\\rho*a0*besselk(1, \\mu*\\rho) - \\mu*a1*besselk(0, \\mu*\\rho) + \\mu*a2*besselk(1, \\mu*\\rho)/\\rho + 2*a0*besselk(0, \\mu*\\rho)"
      ]
     },
     "execution_count": 46,
     "metadata": {},
     "output_type": "execute_result"
    }
   ],
   "source": [
    "(Phi.diff(ro,2) - mu**2*Phi).simplify()"
   ]
  },
  {
   "cell_type": "code",
   "execution_count": null,
   "metadata": {},
   "outputs": [],
   "source": []
  },
  {
   "cell_type": "code",
   "execution_count": 21,
   "metadata": {},
   "outputs": [
    {
     "data": {
      "text/latex": [
       "$\\displaystyle \\operatorname{Poly}{\\left( a_{0} \\rho^{7} + a_{1} \\rho^{6} + a_{2} \\rho^{5} + a_{3} \\rho^{4} + a_{4} \\rho^{3} + a_{5} \\rho^{2} + a_{6} \\rho + a_{7}, \\rho, domain=\\mathbb{Z}\\left[a_{0}, a_{1}, a_{2}, a_{3}, a_{4}, a_{5}, a_{6}, a_{7}\\right] \\right)}$"
      ],
      "text/plain": [
       "Poly(a0*\\rho**7 + a1*\\rho**6 + a2*\\rho**5 + a3*\\rho**4 + a4*\\rho**3 + a5*\\rho**2 + a6*\\rho + a7, \\rho, domain='ZZ[a0,a1,a2,a3,a4,a5,a6,a7]')"
      ]
     },
     "execution_count": 21,
     "metadata": {},
     "output_type": "execute_result"
    }
   ],
   "source": [
    "from sympy import Poly\n",
    "\n",
    "\n",
    "Poly(an, ro)"
   ]
  },
  {
   "cell_type": "code",
   "execution_count": null,
   "metadata": {},
   "outputs": [],
   "source": []
  },
  {
   "cell_type": "code",
   "execution_count": 3,
   "metadata": {},
   "outputs": [
    {
     "data": {
      "text/latex": [
       "$\\displaystyle K_{0}\\left(z\\right)$"
      ],
      "text/plain": [
       "besselk(0, z)"
      ]
     },
     "execution_count": 3,
     "metadata": {},
     "output_type": "execute_result"
    }
   ],
   "source": [
    "K0 = besselk(0,z)\n",
    "K0"
   ]
  },
  {
   "cell_type": "code",
   "execution_count": 4,
   "metadata": {},
   "outputs": [
    {
     "data": {
      "text/latex": [
       "$\\displaystyle K_{1}\\left(z\\right)$"
      ],
      "text/plain": [
       "besselk(1, z)"
      ]
     },
     "execution_count": 4,
     "metadata": {},
     "output_type": "execute_result"
    }
   ],
   "source": [
    "K1 = besselk(1,z)\n",
    "K1"
   ]
  },
  {
   "cell_type": "code",
   "execution_count": null,
   "metadata": {},
   "outputs": [],
   "source": []
  },
  {
   "cell_type": "code",
   "execution_count": null,
   "metadata": {},
   "outputs": [],
   "source": []
  },
  {
   "cell_type": "code",
   "execution_count": null,
   "metadata": {},
   "outputs": [],
   "source": []
  },
  {
   "cell_type": "code",
   "execution_count": 2,
   "metadata": {},
   "outputs": [
    {
     "data": {
      "text/latex": [
       "$\\displaystyle - \\frac{K_{n - 1}\\left(z\\right)}{2} - \\frac{K_{n + 1}\\left(z\\right)}{2}$"
      ],
      "text/plain": [
       "-besselk(n - 1, z)/2 - besselk(n + 1, z)/2"
      ]
     },
     "execution_count": 2,
     "metadata": {},
     "output_type": "execute_result"
    }
   ],
   "source": [
    "besselk(n, z).diff(z)"
   ]
  },
  {
   "cell_type": "code",
   "execution_count": null,
   "metadata": {},
   "outputs": [],
   "source": []
  },
  {
   "cell_type": "code",
   "execution_count": null,
   "metadata": {},
   "outputs": [],
   "source": []
  }
 ],
 "metadata": {
  "kernelspec": {
   "display_name": "Python 3",
   "language": "python",
   "name": "python3"
  },
  "language_info": {
   "codemirror_mode": {
    "name": "ipython",
    "version": 3
   },
   "file_extension": ".py",
   "mimetype": "text/x-python",
   "name": "python",
   "nbconvert_exporter": "python",
   "pygments_lexer": "ipython3",
   "version": "3.12.0"
  }
 },
 "nbformat": 4,
 "nbformat_minor": 2
}
