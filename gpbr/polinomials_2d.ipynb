{
 "cells": [
  {
   "cell_type": "code",
   "execution_count": 1,
   "metadata": {},
   "outputs": [],
   "source": [
    "import numpy as np\n",
    "# from gpbr.mfs.polinomial import calculate_3d_polinomials, MFSPolinomials3D, MfSData, calculate_3d_polinomial_coeeficients\n",
    "from gpbr.mfs.polinomial import calculate_2d_polinomials, MfSData"
   ]
  },
  {
   "cell_type": "code",
   "execution_count": 2,
   "metadata": {},
   "outputs": [],
   "source": [
    "N=8"
   ]
  },
  {
   "cell_type": "code",
   "execution_count": 3,
   "metadata": {},
   "outputs": [],
   "source": [
    "beta = np.ones(N+1)\n",
    "nu = beta[0]\n",
    "mfs_data = MfSData(beta,nu)"
   ]
  },
  {
   "cell_type": "code",
   "execution_count": 4,
   "metadata": {},
   "outputs": [
    {
     "data": {
      "text/plain": [
       "MfSData(Beta=array([1., 1., 1., 1., 1., 1., 1., 1., 1.]), nu=1.0)"
      ]
     },
     "execution_count": 4,
     "metadata": {},
     "output_type": "execute_result"
    }
   ],
   "source": [
    "mfs_data"
   ]
  },
  {
   "cell_type": "code",
   "execution_count": 5,
   "metadata": {},
   "outputs": [],
   "source": [
    "polinomials_data = calculate_2d_polinomials(mfs_data, N)"
   ]
  },
  {
   "cell_type": "code",
   "execution_count": 6,
   "metadata": {},
   "outputs": [
    {
     "data": {
      "text/plain": [
       "array([ 1.        , -0.91666667,  0.29166667, -0.02083333,         nan,\n",
       "               nan,         nan,         nan,         nan])"
      ]
     },
     "execution_count": 6,
     "metadata": {},
     "output_type": "execute_result"
    }
   ],
   "source": [
    "polinomials_data.A[3]"
   ]
  },
  {
   "cell_type": "code",
   "execution_count": 7,
   "metadata": {},
   "outputs": [
    {
     "name": "stdout",
     "output_type": "stream",
     "text": [
      "[[ 1.               nan        nan        nan        nan        nan\n",
      "         nan        nan        nan]\n",
      " [ 1.        -0.5              nan        nan        nan        nan\n",
      "         nan        nan        nan]\n",
      " [ 1.        -0.75       0.125            nan        nan        nan\n",
      "         nan        nan        nan]\n",
      " [ 1.        -0.9166667  0.2916667 -0.0208333        nan        nan\n",
      "         nan        nan        nan]\n",
      " [ 1.        -1.0416667  0.4791667 -0.0625     0.0026042        nan\n",
      "         nan        nan        nan]\n",
      " [ 1.        -1.1416667  0.6791667 -0.1229167  0.0098958 -0.0002604\n",
      "         nan        nan        nan]\n",
      " [ 1.        -1.225      0.8875    -0.2        0.0234375 -0.0011719\n",
      "   0.0000217        nan        nan]\n",
      " [ 1.        -1.2964286  1.1017857 -0.2919643  0.0444196 -0.0031808\n",
      "   0.0001147 -0.0000016        nan]\n",
      " [ 1.        -1.3589286  1.3205357 -0.3973214  0.0737723 -0.0067522\n",
      "   0.0003565 -0.0000093  0.0000001]]\n"
     ]
    }
   ],
   "source": [
    "with np.printoptions(precision=7, suppress=True):\n",
    "    print(polinomials_data.A)"
   ]
  },
  {
   "cell_type": "code",
   "execution_count": 8,
   "metadata": {},
   "outputs": [
    {
     "name": "stdout",
     "output_type": "stream",
     "text": [
      "1.0\n",
      "1.0 + 0.0 x\n",
      "1.0 + 0.0 x + 0.125 x**2\n",
      "1.0 + 0.0 x + 0.29166667 x**2 + 0.0 x**3\n",
      "1.0 + 0.0 x + 0.47916667 x**2 + 0.0 x**3 + 0.00260417 x**4\n",
      "1.0 + 0.0 x + 0.67916667 x**2 + 0.0 x**3 + 0.00989583 x**4 + 0.0 x**5\n",
      "1.0 + 0.0 x + 0.8875 x**2 + 0.0 x**3 + 0.0234375 x**4 + 0.0 x**5 +\n",
      "(2.17013889e-05) x**6\n",
      "1.0 + 0.0 x + 1.10178571 x**2 + 0.0 x**3 + 0.04441964 x**4 + 0.0 x**5 +\n",
      "0.00011471 x**6 + 0.0 x**7\n",
      "1.0 + 0.0 x + 1.32053571 x**2 + 0.0 x**3 + 0.07377232 x**4 + 0.0 x**5 +\n",
      "0.00035652 x**6 + 0.0 x**7 + (9.68812004e-08) x**8\n"
     ]
    }
   ],
   "source": [
    "for v_p in polinomials_data.v_polynomials:\n",
    "    print(v_p)"
   ]
  },
  {
   "cell_type": "code",
   "execution_count": 9,
   "metadata": {},
   "outputs": [
    {
     "name": "stdout",
     "output_type": "stream",
     "text": [
      "0.0\n",
      "0.0 - 0.5 x\n",
      "0.0 - 0.75 x + 0.0 x**2\n",
      "0.0 - 0.91666667 x + 0.0 x**2 - 0.02083333 x**3\n",
      "0.0 - 1.04166667 x + 0.0 x**2 - 0.0625 x**3 + 0.0 x**4\n",
      "0.0 - 1.14166667 x + 0.0 x**2 - 0.12291667 x**3 + 0.0 x**4 -\n",
      "0.00026042 x**5\n",
      "0.0 - 1.225 x + 0.0 x**2 - 0.2 x**3 + 0.0 x**4 - 0.00117187 x**5 +\n",
      "0.0 x**6\n",
      "0.0 - 1.29642857 x + 0.0 x**2 - 0.29196429 x**3 + 0.0 x**4 -\n",
      "0.0031808 x**5 + 0.0 x**6 - (1.55009921e-06) x**7\n",
      "0.0 - 1.35892857 x + 0.0 x**2 - 0.39732143 x**3 + 0.0 x**4 -\n",
      "0.00675223 x**5 + 0.0 x**6 - (9.30059524e-06) x**7 + 0.0 x**8\n"
     ]
    }
   ],
   "source": [
    "for w_p in polinomials_data.w_polynomials:\n",
    "    print(w_p)"
   ]
  },
  {
   "cell_type": "code",
   "execution_count": null,
   "metadata": {},
   "outputs": [],
   "source": [
    "with np.printoptions(precision=4, suppress=True):\n",
    "    print(polinomials_data.A)"
   ]
  },
  {
   "cell_type": "code",
   "execution_count": null,
   "metadata": {},
   "outputs": [],
   "source": []
  },
  {
   "cell_type": "code",
   "execution_count": null,
   "metadata": {},
   "outputs": [],
   "source": []
  },
  {
   "cell_type": "code",
   "execution_count": null,
   "metadata": {},
   "outputs": [],
   "source": []
  },
  {
   "cell_type": "code",
   "execution_count": null,
   "metadata": {},
   "outputs": [],
   "source": []
  },
  {
   "cell_type": "code",
   "execution_count": null,
   "metadata": {},
   "outputs": [],
   "source": []
  },
  {
   "cell_type": "code",
   "execution_count": 6,
   "metadata": {},
   "outputs": [
    {
     "name": "stdout",
     "output_type": "stream",
     "text": [
      "[[ 1.         nan     nan     nan     nan     nan     nan     nan     nan]\n",
      " [ 1.     -0.5        nan     nan     nan     nan     nan     nan     nan]\n",
      " [ 1.     -0.75    0.125      nan     nan     nan     nan     nan     nan]\n",
      " [ 1.     -0.9167  0.2917 -0.0208     nan     nan     nan     nan     nan]\n",
      " [ 1.     -1.0417  0.4792 -0.0625  0.0026     nan     nan     nan     nan]\n",
      " [ 1.     -1.1417  0.6792 -0.1229  0.0099 -0.0003     nan     nan     nan]\n",
      " [ 1.     -1.225   0.8875 -0.2     0.0234 -0.0012  0.         nan     nan]\n",
      " [ 1.     -1.2964  1.1018 -0.292   0.0444 -0.0032  0.0001 -0.         nan]\n",
      " [ 1.     -1.3589  1.3205 -0.3973  0.0738 -0.0068  0.0004 -0.      0.    ]]\n"
     ]
    }
   ],
   "source": [
    "with np.printoptions(precision=4, suppress=True):\n",
    "    print(polinomials_data.A)"
   ]
  },
  {
   "cell_type": "code",
   "execution_count": 10,
   "metadata": {},
   "outputs": [
    {
     "data": {
      "text/plain": [
       "array([[ 1.00000000e+00,             nan,             nan,\n",
       "                    nan,             nan,             nan,\n",
       "                    nan,             nan,             nan],\n",
       "       [ 1.00000000e+00, -5.00000000e-01,             nan,\n",
       "                    nan,             nan,             nan,\n",
       "                    nan,             nan,             nan],\n",
       "       [ 1.00000000e+00, -7.50000000e-01,  1.25000000e-01,\n",
       "                    nan,             nan,             nan,\n",
       "                    nan,             nan,             nan],\n",
       "       [ 1.00000000e+00, -9.16666667e-01,  2.91666667e-01,\n",
       "        -2.08333333e-02,             nan,             nan,\n",
       "                    nan,             nan,             nan],\n",
       "       [ 1.00000000e+00, -1.04166667e+00,  4.79166667e-01,\n",
       "        -6.25000000e-02,  2.60416667e-03,             nan,\n",
       "                    nan,             nan,             nan],\n",
       "       [ 1.00000000e+00, -1.14166667e+00,  6.79166667e-01,\n",
       "        -1.22916667e-01,  9.89583333e-03, -2.60416667e-04,\n",
       "                    nan,             nan,             nan],\n",
       "       [ 1.00000000e+00, -1.22500000e+00,  8.87500000e-01,\n",
       "        -2.00000000e-01,  2.34375000e-02, -1.17187500e-03,\n",
       "         2.17013889e-05,             nan,             nan],\n",
       "       [ 1.00000000e+00, -1.29642857e+00,  1.10178571e+00,\n",
       "        -2.91964286e-01,  4.44196429e-02, -3.18080357e-03,\n",
       "         1.14707341e-04, -1.55009921e-06,             nan],\n",
       "       [ 1.00000000e+00, -1.35892857e+00,  1.32053571e+00,\n",
       "        -3.97321429e-01,  7.37723214e-02, -6.75223214e-03,\n",
       "         3.56522817e-04, -9.30059524e-06,  9.68812004e-08]])"
      ]
     },
     "execution_count": 10,
     "metadata": {},
     "output_type": "execute_result"
    }
   ],
   "source": [
    "A = polinomials_data.A\n",
    "A"
   ]
  },
  {
   "cell_type": "code",
   "execution_count": 21,
   "metadata": {},
   "outputs": [
    {
     "data": {
      "text/plain": [
       "array([ 1.00000000e+00, -1.35892857e+00,  1.32053571e+00, -3.97321429e-01,\n",
       "        7.37723214e-02, -6.75223214e-03,  3.56522817e-04, -9.30059524e-06,\n",
       "        9.68812004e-08])"
      ]
     },
     "execution_count": 21,
     "metadata": {},
     "output_type": "execute_result"
    }
   ],
   "source": [
    "arr = A[8,:]\n",
    "arr"
   ]
  },
  {
   "cell_type": "code",
   "execution_count": 22,
   "metadata": {},
   "outputs": [
    {
     "data": {
      "text/plain": [
       "array([1.00000000e+00, 1.32053571e+00, 7.37723214e-02, 3.56522817e-04,\n",
       "       9.68812004e-08])"
      ]
     },
     "execution_count": 22,
     "metadata": {},
     "output_type": "execute_result"
    }
   ],
   "source": [
    "arr[::2]"
   ]
  },
  {
   "cell_type": "code",
   "execution_count": 23,
   "metadata": {},
   "outputs": [
    {
     "data": {
      "text/plain": [
       "array([-1.35892857e+00, -3.97321429e-01, -6.75223214e-03, -9.30059524e-06])"
      ]
     },
     "execution_count": 23,
     "metadata": {},
     "output_type": "execute_result"
    }
   ],
   "source": [
    "arr[1::2]\n"
   ]
  },
  {
   "cell_type": "code",
   "execution_count": null,
   "metadata": {},
   "outputs": [],
   "source": []
  },
  {
   "cell_type": "code",
   "execution_count": 7,
   "metadata": {},
   "outputs": [
    {
     "name": "stdout",
     "output_type": "stream",
     "text": [
      "1.0\n",
      "1.0 - 0.5 x\n",
      "1.0 - 0.75 x + 0.125 x**2\n",
      "1.0 - 0.91666667 x + 0.29166667 x**2 - 0.02083333 x**3\n",
      "1.0 - 1.04166667 x + 0.47916667 x**2 - 0.0625 x**3 + 0.00260417 x**4\n",
      "1.0 - 1.14166667 x + 0.67916667 x**2 - 0.12291667 x**3 + 0.00989583 x**4 -\n",
      "0.00026042 x**5\n",
      "1.0 - 1.225 x + 0.8875 x**2 - 0.2 x**3 + 0.0234375 x**4 -\n",
      "0.00117187 x**5 + (2.17013889e-05) x**6\n",
      "1.0 - 1.29642857 x + 1.10178571 x**2 - 0.29196429 x**3 + 0.04441964 x**4 -\n",
      "0.0031808 x**5 + 0.00011471 x**6 - (1.55009921e-06) x**7\n",
      "1.0 - 1.35892857 x + 1.32053571 x**2 - 0.39732143 x**3 + 0.07377232 x**4 -\n",
      "0.00675223 x**5 + 0.00035652 x**6 - (9.30059524e-06) x**7 +\n",
      "(9.68812004e-08) x**8\n"
     ]
    }
   ],
   "source": [
    "for p in polinomials_data.polinomials:\n",
    "    print(p)"
   ]
  },
  {
   "cell_type": "code",
   "execution_count": 8,
   "metadata": {},
   "outputs": [
    {
     "data": {
      "text/plain": [
       "array([ 0,  1,  2,  3,  4,  5,  6,  7,  8,  9, 10, 11, 12, 13, 14, 15, 16,\n",
       "       17, 18, 19])"
      ]
     },
     "execution_count": 8,
     "metadata": {},
     "output_type": "execute_result"
    }
   ],
   "source": [
    "points = np.arange(0, 20)\n",
    "points"
   ]
  },
  {
   "cell_type": "code",
   "execution_count": 9,
   "metadata": {},
   "outputs": [
    {
     "name": "stdout",
     "output_type": "stream",
     "text": [
      "0.0\n",
      "0.0\n",
      "-0.25\n",
      "-0.5833333333333335\n",
      "-0.958333333333333\n",
      "-1.3583333333333334\n",
      "-1.7750000000000004\n",
      "-2.2035714285714283\n",
      "-2.641071428571429\n"
     ]
    }
   ],
   "source": [
    "for n, polinomial in enumerate(polinomials_data.polinomials):\n",
    "    v = polinomial(points)\n",
    "    dv = polinomial.deriv()(points)\n",
    "    d2v = polinomial.deriv(2)(points)\n",
    "    right = 0\n",
    "    for m in range(n):\n",
    "        right += mfs_data.Beta[n-m]*polinomials_data.polinomials[m](points)\n",
    "    print(max(d2v - 2*mfs_data.nu*dv - right))"
   ]
  },
  {
   "cell_type": "code",
   "execution_count": null,
   "metadata": {},
   "outputs": [],
   "source": []
  }
 ],
 "metadata": {
  "kernelspec": {
   "display_name": "Python 3",
   "language": "python",
   "name": "python3"
  },
  "language_info": {
   "codemirror_mode": {
    "name": "ipython",
    "version": 3
   },
   "file_extension": ".py",
   "mimetype": "text/x-python",
   "name": "python",
   "nbconvert_exporter": "python",
   "pygments_lexer": "ipython3",
   "version": "3.12.0"
  }
 },
 "nbformat": 4,
 "nbformat_minor": 2
}
