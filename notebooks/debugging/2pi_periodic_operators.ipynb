{
 "cells": [
  {
   "cell_type": "code",
   "execution_count": 1,
   "id": "d9eb0eb0",
   "metadata": {},
   "outputs": [],
   "source": [
    "from deap import gp\n",
    "import numpy as np\n",
    "import os\n",
    "import sys\n",
    "sys.path.append(os.path.abspath('../..'))  # or the full path to the \"project\" directory. This hack should be really fixed\n",
    "from gpbr.gp.funcs import pow2, sqrtabs, expplusone\n",
    "\n",
    "\n",
    "pset = gp.PrimitiveSet(\"main\", 1)\n",
    "pset.addPrimitive(np.add, 2)\n",
    "# pset.addPrimitive(np.subtract, 2)\n",
    "pset.addPrimitive(np.multiply, 2)\n",
    "pset.addPrimitive(np.cos, 1)\n",
    "pset.addPrimitive(np.sin, 1)\n",
    "pset.addPrimitive(sqrtabs, 1)\n",
    "# pset.addPrimitive(pow2, 1)\n",
    "pset.addPrimitive(expplusone, 1)\n",
    "pset.addEphemeralConstant('rand', (np.random.rand, 1)[0])\n",
    "# pset.addTerminal(np.pi, 'pi')\n",
    "\n",
    "pset.renameArguments(ARG0=\"s\")"
   ]
  },
  {
   "cell_type": "code",
   "execution_count": 2,
   "id": "d9b8d592",
   "metadata": {},
   "outputs": [],
   "source": [
    "from deap import creator, base, tools, algorithms\n",
    "creator.create(\"FitnessMin\", base.Fitness, weights=(-1.0,), subtree_values=None)\n",
    "creator.create(\"Individual\", gp.PrimitiveTree, fitness=creator.FitnessMin)"
   ]
  },
  {
   "cell_type": "code",
   "execution_count": 3,
   "id": "6ebad1e6",
   "metadata": {},
   "outputs": [],
   "source": [
    "toolbox = base.Toolbox()\n",
    "toolbox.register('expr', gp.genHalfAndHalf, pset=pset, min_=3, max_=6)\n",
    "toolbox.register('individual', tools.initIterate, creator.Individual, toolbox.expr)\n",
    "toolbox.register('population', tools.initRepeat, list, toolbox.individual)\n",
    "toolbox.register('compile', gp.compile, pset=pset)"
   ]
  },
  {
   "cell_type": "code",
   "execution_count": 4,
   "id": "1190a2e3",
   "metadata": {},
   "outputs": [],
   "source": [
    "def is_2pi_periodic(values, tolerance=1e-5):\n",
    "    if isinstance(values, (np.integer, int, float)):\n",
    "        return True\n",
    "    return np.allclose(values[0], values[-1], atol=tolerance)"
   ]
  },
  {
   "cell_type": "code",
   "execution_count": 5,
   "id": "90079ee3",
   "metadata": {},
   "outputs": [],
   "source": [
    "interval = np.linspace(0, 2*np.pi, 100, endpoint=True)"
   ]
  },
  {
   "cell_type": "code",
   "execution_count": 6,
   "id": "e1468b83",
   "metadata": {},
   "outputs": [
    {
     "name": "stdout",
     "output_type": "stream",
     "text": [
      "sqrtabs(cos(cos(s)))\n"
     ]
    }
   ],
   "source": [
    "ind1 = toolbox.individual()\n",
    "print(ind1)"
   ]
  },
  {
   "cell_type": "code",
   "execution_count": 7,
   "id": "4ce8fa34",
   "metadata": {},
   "outputs": [
    {
     "name": "stdout",
     "output_type": "stream",
     "text": [
      "multiply(sqrtabs(multiply(multiply(cos(0.5363023413412188), cos(0.7097879091999092)), sin(cos(0.08763838998087636)))), sqrtabs(sqrtabs(sin(s))))\n"
     ]
    }
   ],
   "source": [
    "ind2 = toolbox.individual()\n",
    "print(ind2)"
   ]
  },
  {
   "cell_type": "code",
   "execution_count": 8,
   "id": "b641cc1b",
   "metadata": {},
   "outputs": [],
   "source": [
    "from gpbr.gp.evaluators import evaluate_subtrees\n",
    "ind1.subtree_values = evaluate_subtrees(ind1, pset, s=interval)\n",
    "ind2.subtree_values = evaluate_subtrees(ind2, pset, s=interval)\n"
   ]
  },
  {
   "cell_type": "code",
   "execution_count": 9,
   "id": "0dadf394",
   "metadata": {},
   "outputs": [],
   "source": [
    "def print_periodic_subtrees(individual):\n",
    "    for i, vals in enumerate(individual.subtree_values):\n",
    "        if is_2pi_periodic(vals):\n",
    "            print(gp.PrimitiveTree(individual[individual.searchSubtree(i)]))"
   ]
  },
  {
   "cell_type": "code",
   "execution_count": 10,
   "id": "fa6ce146",
   "metadata": {},
   "outputs": [
    {
     "name": "stdout",
     "output_type": "stream",
     "text": [
      "sqrtabs(cos(cos(s)))\n",
      "cos(cos(s))\n",
      "cos(s)\n"
     ]
    }
   ],
   "source": [
    "print_periodic_subtrees(ind1)"
   ]
  },
  {
   "cell_type": "code",
   "execution_count": 11,
   "id": "b362b993",
   "metadata": {},
   "outputs": [
    {
     "name": "stdout",
     "output_type": "stream",
     "text": [
      "sqrtabs(multiply(multiply(cos(0.5363023413412188), cos(0.7097879091999092)), sin(cos(0.08763838998087636))))\n",
      "multiply(multiply(cos(0.5363023413412188), cos(0.7097879091999092)), sin(cos(0.08763838998087636)))\n",
      "multiply(cos(0.5363023413412188), cos(0.7097879091999092))\n",
      "cos(0.5363023413412188)\n",
      "0.5363023413412188\n",
      "cos(0.7097879091999092)\n",
      "0.7097879091999092\n",
      "sin(cos(0.08763838998087636))\n",
      "cos(0.08763838998087636)\n",
      "0.08763838998087636\n",
      "sqrtabs(sin(s))\n",
      "sin(s)\n"
     ]
    }
   ],
   "source": [
    "print_periodic_subtrees(ind2)"
   ]
  },
  {
   "cell_type": "code",
   "execution_count": 12,
   "id": "f4955dfc",
   "metadata": {},
   "outputs": [],
   "source": [
    "def cx_perioic_subtrees(ind1, ind2):\n",
    "    \"\"\"Crossover that exchanges only 2pi-periodic subtrees between individuals.\"\"\"\n",
    "    # Find periodic subtrees in both individuals\n",
    "    periodic_indexes1 = [i for i, vals in enumerate(ind1.subtree_values) if is_2pi_periodic(vals) and i != 0]\n",
    "    periodic_indexes2 = [i for i, vals in enumerate(ind2.subtree_values) if is_2pi_periodic(vals) and i != 0]\n",
    "    \n",
    "    if not periodic_indexes1 or not periodic_indexes2:\n",
    "        return ind1, ind2  # No periodic subtrees to exchange\n",
    "    \n",
    "    # Select random periodic subtree from each individual\n",
    "    idx1 = np.random.choice(periodic_indexes1)\n",
    "    idx2 = np.random.choice(periodic_indexes2)\n",
    "    \n",
    "    # Get the subtrees\n",
    "    subtree1 = ind1[ind1.searchSubtree(idx1)]\n",
    "    subtree2 = ind2[ind2.searchSubtree(idx2)]\n",
    "    \n",
    "    # Swap the subtrees\n",
    "    ind1[ind1.searchSubtree(idx1)] = subtree2\n",
    "    ind2[ind2.searchSubtree(idx2)] = subtree1\n",
    "    \n",
    "    return ind1, ind2"
   ]
  },
  {
   "cell_type": "code",
   "execution_count": 13,
   "id": "945d79dc",
   "metadata": {},
   "outputs": [],
   "source": [
    "ind1, ind2 = cx_perioic_subtrees(ind1, ind2)"
   ]
  },
  {
   "cell_type": "code",
   "execution_count": 14,
   "id": "5ed49d17",
   "metadata": {},
   "outputs": [
    {
     "name": "stdout",
     "output_type": "stream",
     "text": [
      "sqrtabs(sqrtabs(sin(s)))\n"
     ]
    }
   ],
   "source": [
    "print(ind1)"
   ]
  },
  {
   "cell_type": "code",
   "execution_count": 15,
   "id": "34f04795",
   "metadata": {},
   "outputs": [
    {
     "name": "stdout",
     "output_type": "stream",
     "text": [
      "multiply(sqrtabs(multiply(multiply(cos(0.5363023413412188), cos(0.7097879091999092)), sin(cos(0.08763838998087636)))), sqrtabs(cos(cos(s))))\n"
     ]
    }
   ],
   "source": [
    "print(ind2)"
   ]
  },
  {
   "cell_type": "code",
   "execution_count": 87,
   "id": "2294808d",
   "metadata": {},
   "outputs": [
    {
     "data": {
      "text/plain": [
       "['cos(cos(expplusone(add(sin(s), sin(0.5960927048090293)))))',\n",
       " 'cos(expplusone(add(sin(s), sin(0.5960927048090293))))',\n",
       " 'expplusone(add(sin(s), sin(0.5960927048090293)))',\n",
       " 'add(sin(s), sin(0.5960927048090293))',\n",
       " 'sin(s)',\n",
       " 's',\n",
       " 'sin(0.5960927048090293)',\n",
       " '0.5960927048090293']"
      ]
     },
     "execution_count": 87,
     "metadata": {},
     "output_type": "execute_result"
    }
   ],
   "source": [
    "[str(gp.PrimitiveTree(ind[ind.searchSubtree(i)])) for i in range(len(ind))]"
   ]
  }
 ],
 "metadata": {
  "kernelspec": {
   "display_name": "Python 3",
   "language": "python",
   "name": "python3"
  },
  "language_info": {
   "codemirror_mode": {
    "name": "ipython",
    "version": 3
   },
   "file_extension": ".py",
   "mimetype": "text/x-python",
   "name": "python",
   "nbconvert_exporter": "python",
   "pygments_lexer": "ipython3",
   "version": "3.12.0"
  }
 },
 "nbformat": 4,
 "nbformat_minor": 5
}
