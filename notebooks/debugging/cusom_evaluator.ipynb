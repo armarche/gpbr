{
 "cells": [
  {
   "cell_type": "code",
   "execution_count": 1,
   "id": "d9eb0eb0",
   "metadata": {},
   "outputs": [],
   "source": [
    "from deap import gp\n",
    "import numpy as np\n",
    "import os\n",
    "import sys\n",
    "sys.path.append(os.path.abspath('../..'))  # or the full path to the \"project\" directory. This hack should be really fixed\n",
    "from gpbr.gp.funcs import pow2, sqrtabs, expplusone\n",
    "\n",
    "\n",
    "pset = gp.PrimitiveSet(\"main\", 1)\n",
    "pset.addPrimitive(np.add, 2)\n",
    "# pset.addPrimitive(np.subtract, 2)\n",
    "pset.addPrimitive(np.multiply, 2)\n",
    "pset.addPrimitive(np.cos, 1)\n",
    "pset.addPrimitive(np.sin, 1)\n",
    "pset.addPrimitive(sqrtabs, 1)\n",
    "# pset.addPrimitive(pow2, 1)\n",
    "pset.addPrimitive(expplusone, 1)\n",
    "pset.addEphemeralConstant('rand', (np.random.rand, 1)[0])\n",
    "# pset.addTerminal(np.pi, 'pi')\n",
    "\n",
    "pset.renameArguments(ARG0=\"s\")"
   ]
  },
  {
   "cell_type": "code",
   "execution_count": 2,
   "id": "d9b8d592",
   "metadata": {},
   "outputs": [],
   "source": [
    "from deap import creator, base, tools, algorithms\n",
    "creator.create(\"FitnessMin\", base.Fitness, weights=(-1.0,))\n",
    "creator.create(\"Individual\", gp.PrimitiveTree, fitness=creator.FitnessMin)"
   ]
  },
  {
   "cell_type": "code",
   "execution_count": 3,
   "id": "6ebad1e6",
   "metadata": {},
   "outputs": [],
   "source": [
    "toolbox = base.Toolbox()\n",
    "toolbox.register('expr', gp.genHalfAndHalf, pset=pset, min_=3, max_=6)\n",
    "toolbox.register('individual', tools.initIterate, creator.Individual, toolbox.expr)\n",
    "toolbox.register('population', tools.initRepeat, list, toolbox.individual)\n",
    "toolbox.register('compile', gp.compile, pset=pset)"
   ]
  },
  {
   "cell_type": "code",
   "execution_count": 95,
   "id": "e1468b83",
   "metadata": {},
   "outputs": [
    {
     "name": "stdout",
     "output_type": "stream",
     "text": [
      "expplusone(add(cos(sin(add(0.5041008352677898, s))), sin(multiply(sin(0.9508309438650218), expplusone(s)))))\n"
     ]
    }
   ],
   "source": [
    "ind = toolbox.individual()\n",
    "print(ind)"
   ]
  },
  {
   "cell_type": "code",
   "execution_count": 59,
   "id": "94381935",
   "metadata": {},
   "outputs": [
    {
     "data": {
      "text/plain": [
       "array([0.        , 0.6981317 , 1.3962634 , 2.0943951 , 2.7925268 ,\n",
       "       3.4906585 , 4.1887902 , 4.88692191, 5.58505361, 6.28318531])"
      ]
     },
     "execution_count": 59,
     "metadata": {},
     "output_type": "execute_result"
    }
   ],
   "source": [
    "test_set = np.linspace(0, 2*np.pi, 10)\n",
    "test_set"
   ]
  },
  {
   "cell_type": "code",
   "execution_count": null,
   "id": "0f2267dd",
   "metadata": {},
   "outputs": [],
   "source": []
  },
  {
   "cell_type": "code",
   "execution_count": 60,
   "id": "b26de986",
   "metadata": {},
   "outputs": [
    {
     "name": "stdout",
     "output_type": "stream",
     "text": [
      "0.9878138859066259\n"
     ]
    }
   ],
   "source": [
    "ind_compiled =toolbox.compile(expr=ind)\n",
    "print(ind_compiled(0.5))  # example of use"
   ]
  },
  {
   "cell_type": "code",
   "execution_count": 61,
   "id": "07b943ea",
   "metadata": {},
   "outputs": [
    {
     "data": {
      "text/plain": [
       "array([0.99858852, 0.59359999, 0.55574055, 0.94666834, 0.61315501,\n",
       "       0.56489499, 0.9129983 , 0.97851449, 0.69337964, 0.99858852])"
      ]
     },
     "execution_count": 61,
     "metadata": {},
     "output_type": "execute_result"
    }
   ],
   "source": [
    "ind_compiled(test_set)"
   ]
  },
  {
   "cell_type": "code",
   "execution_count": null,
   "id": "a96664b6",
   "metadata": {},
   "outputs": [],
   "source": []
  },
  {
   "cell_type": "code",
   "execution_count": 88,
   "id": "e917a55f",
   "metadata": {},
   "outputs": [],
   "source": [
    "import deap.gp as gp\n",
    "\n",
    "def evaluate_subtrees(tree, pset, **kwargs):\n",
    "    \"\"\"\n",
    "    Evaluate the GP tree and compute results for every subtree using a stack-based approach,\n",
    "    inspired by the __str__ method in PrimitiveTree.\n",
    "    \n",
    "    :param tree: deap.gp.PrimitiveTree, the tree to evaluate.\n",
    "    :param pset: deap.gp.PrimitiveSet, the primitive set used to define functions and terminals.\n",
    "    :param args: Variable arguments representing the inputs for ARG0, ARG1, etc.\n",
    "    :return: A tuple (root_value, subtree_values), where root_value is the result of the entire tree,\n",
    "             and subtree_values is a list where subtree_values[i] is the result of the subtree rooted at tree[i].\n",
    "    \"\"\"\n",
    "    subtree_values = [None] * len(tree)\n",
    "    stack = []\n",
    "    \n",
    "    for i in range(len(tree)):\n",
    "        stack.append((i, []))\n",
    "        \n",
    "        while stack and len(stack[-1][1]) == tree[stack[-1][0]].arity:\n",
    "            idx, child_vals = stack.pop()\n",
    "            node = tree[idx]\n",
    "            \n",
    "            if node.arity == 0:  # Terminal\n",
    "                if node.name.startswith('ARG'):\n",
    "                    val = kwargs[node.value]\n",
    "                else:\n",
    "                    val = node.value\n",
    "            else:  # Primitive\n",
    "                func = pset.context[node.name]\n",
    "                val = func(*child_vals)\n",
    "            \n",
    "            subtree_values[idx] = val\n",
    "            \n",
    "            if stack:\n",
    "                stack[-1][1].append(val)\n",
    "    \n",
    "    root_value = subtree_values[0]\n",
    "    return root_value, subtree_values"
   ]
  },
  {
   "cell_type": "code",
   "execution_count": null,
   "id": "26b4b9b7",
   "metadata": {},
   "outputs": [],
   "source": []
  },
  {
   "cell_type": "code",
   "execution_count": null,
   "id": "03859a45",
   "metadata": {},
   "outputs": [],
   "source": []
  },
  {
   "cell_type": "code",
   "execution_count": 89,
   "id": "f1abad70",
   "metadata": {},
   "outputs": [],
   "source": [
    "val, subtree_vals =evaluate_subtrees(ind, pset, s=test_set)"
   ]
  },
  {
   "cell_type": "code",
   "execution_count": 90,
   "id": "1208f5fa",
   "metadata": {},
   "outputs": [
    {
     "data": {
      "text/plain": [
       "array([0.99858852, 0.59359999, 0.55574055, 0.94666834, 0.61315501,\n",
       "       0.56489499, 0.9129983 , 0.97851449, 0.69337964, 0.99858852])"
      ]
     },
     "execution_count": 90,
     "metadata": {},
     "output_type": "execute_result"
    }
   ],
   "source": [
    "val"
   ]
  },
  {
   "cell_type": "code",
   "execution_count": 91,
   "id": "b251ebbe",
   "metadata": {},
   "outputs": [
    {
     "data": {
      "text/plain": [
       "[array([0.99858852, 0.59359999, 0.55574055, 0.94666834, 0.61315501,\n",
       "        0.56489499, 0.9129983 , 0.97851449, 0.69337964, 0.99858852]),\n",
       " array([ 0.05313782, -0.93527145,  0.98154286,  0.32806269,  0.91074802,\n",
       "        -0.97049034, -0.42022223, -0.20766746, -0.80462758,  0.05313782]),\n",
       " array([ 4.76555184,  9.06300689, 12.75879828, 11.32982632,  6.70888981,\n",
       "         3.38513301,  2.00448654,  1.77998616,  2.50584432,  4.76555184]),\n",
       " array([ 0.56141334,  1.20420095,  1.54622109,  1.42743875,  0.90343348,\n",
       "         0.2193932 , -0.30461206, -0.42339441, -0.08137427,  0.56141334]),\n",
       " array([ 0.00000000e+00,  6.42787610e-01,  9.84807753e-01,  8.66025404e-01,\n",
       "         3.42020143e-01, -3.42020143e-01, -8.66025404e-01, -9.84807753e-01,\n",
       "        -6.42787610e-01, -2.44929360e-16]),\n",
       " array([0.        , 0.6981317 , 1.3962634 , 2.0943951 , 2.7925268 ,\n",
       "        3.4906585 , 4.1887902 , 4.88692191, 5.58505361, 6.28318531]),\n",
       " 0.5614133415411786,\n",
       " 0.5960927048090293]"
      ]
     },
     "execution_count": 91,
     "metadata": {},
     "output_type": "execute_result"
    }
   ],
   "source": [
    "subtree_vals"
   ]
  },
  {
   "cell_type": "code",
   "execution_count": 50,
   "id": "358379bb",
   "metadata": {},
   "outputs": [
    {
     "name": "stdout",
     "output_type": "stream",
     "text": [
      "sin\n",
      "sqrtabs\n",
      "expplusone\n",
      "add\n",
      "ARG0\n",
      "ARG0\n"
     ]
    }
   ],
   "source": [
    "for el in ind:\n",
    "    print(el.name)"
   ]
  },
  {
   "cell_type": "code",
   "execution_count": 66,
   "id": "1190a2e3",
   "metadata": {},
   "outputs": [],
   "source": [
    "def is_2pi_periodic(values, tolerance=1e-5):\n",
    "    if isinstance(values, (np.integer, int, float)):\n",
    "        return True\n",
    "    return np.allclose(values[0], values[-1], atol=tolerance)"
   ]
  },
  {
   "cell_type": "code",
   "execution_count": 70,
   "id": "c45de32e",
   "metadata": {},
   "outputs": [
    {
     "name": "stdout",
     "output_type": "stream",
     "text": [
      "True\n",
      "True\n",
      "True\n",
      "True\n",
      "True\n",
      "False\n",
      "True\n",
      "True\n"
     ]
    }
   ],
   "source": [
    "for el in subtree_vals:\n",
    "    print(is_2pi_periodic(el))"
   ]
  },
  {
   "cell_type": "code",
   "execution_count": 85,
   "id": "1fffa0c0",
   "metadata": {},
   "outputs": [
    {
     "data": {
      "text/plain": [
       "'cos(cos(expplusone(add(sin(s), sin(0.5960927048090293)))))'"
      ]
     },
     "execution_count": 85,
     "metadata": {},
     "output_type": "execute_result"
    }
   ],
   "source": [
    "str(ind)"
   ]
  },
  {
   "cell_type": "code",
   "execution_count": 87,
   "id": "2294808d",
   "metadata": {},
   "outputs": [
    {
     "data": {
      "text/plain": [
       "['cos(cos(expplusone(add(sin(s), sin(0.5960927048090293)))))',\n",
       " 'cos(expplusone(add(sin(s), sin(0.5960927048090293))))',\n",
       " 'expplusone(add(sin(s), sin(0.5960927048090293)))',\n",
       " 'add(sin(s), sin(0.5960927048090293))',\n",
       " 'sin(s)',\n",
       " 's',\n",
       " 'sin(0.5960927048090293)',\n",
       " '0.5960927048090293']"
      ]
     },
     "execution_count": 87,
     "metadata": {},
     "output_type": "execute_result"
    }
   ],
   "source": [
    "[str(gp.PrimitiveTree(ind[ind.searchSubtree(i)])) for i in range(len(ind))]"
   ]
  },
  {
   "cell_type": "code",
   "execution_count": 79,
   "id": "02d910a0",
   "metadata": {},
   "outputs": [
    {
     "data": {
      "text/plain": [
       "[<deap.gp.Primitive at 0x1bd57264180>, <deap.gp.Terminal at 0x1bd57253240>]"
      ]
     },
     "execution_count": 79,
     "metadata": {},
     "output_type": "execute_result"
    }
   ],
   "source": [
    "ind.searchSubtree(2)\n",
    "ind[ind.searchSubtree(4)]"
   ]
  },
  {
   "cell_type": "code",
   "execution_count": null,
   "id": "106b6917",
   "metadata": {},
   "outputs": [],
   "source": [
    "# Test: compare DEAP compiled subtree outputs with custom evaluate_subtrees\n",
    "import numpy as np\n",
    "import deap.gp as gp\n",
    "import traceback\n",
    "\n",
    "# import project helpers\n",
    "from gpbr.gp.funcs import sqrtabs, expplusone\n",
    "from gpbr.gp.evaluators import evaluate_subtrees\n",
    "\n",
    "# Build primitive set similar to the notebook\n",
    "pset = gp.PrimitiveSet(\"main\", 1)\n",
    "pset.addPrimitive(np.add, 2)\n",
    "pset.addPrimitive(np.multiply, 2)\n",
    "pset.addPrimitive(np.cos, 1)\n",
    "pset.addPrimitive(np.sin, 1)\n",
    "pset.addPrimitive(sqrtabs, 1)\n",
    "pset.addPrimitive(expplusone, 1)\n",
    "pset.addEphemeralConstant('rand', lambda: np.random.rand())\n",
    "pset.renameArguments(ARG0='s')\n",
    "\n",
    "# Test inputs\n",
    "test_set = np.linspace(0, 2*np.pi, 10)\n",
    "\n",
    "# Example expressions (use argument name 's' because pset was renamed)\n",
    "examples = [\n",
    "    \"add(sin(s), 1.0)\",\n",
    "    \"multiply(s, cos(s))\",\n",
    "    \"expplusone(s)\",\n",
    "    \"add(multiply(s, s), 0.5)\",\n",
    "    \"sqrtabs(s)\",\n",
    "    \"add(add(sin(s), cos(s)), multiply(s, 0.1))\",\n",
    "]\n",
    "\n",
    "print(f\"Running {len(examples)} examples; test_set shape: {test_set.shape}\")\n",
    "\n",
    "for expr in examples:\n",
    "    print('\\nExpression:', expr)\n",
    "    try:\n",
    "        tree = gp.PrimitiveTree.from_string(expr, pset)\n",
    "    except Exception as e:\n",
    "        print('  Failed to parse into PrimitiveTree:', e)\n",
    "        traceback.print_exc()\n",
    "        continue\n",
    "\n",
    "    # Evaluate all subtrees using the custom evaluator\n",
    "    try:\n",
    "        root_val, subtree_vals = evaluate_subtrees(tree, pset, s=test_set)\n",
    "    except Exception as e:\n",
    "        print('  evaluate_subtrees failed:', e)\n",
    "        traceback.print_exc()\n",
    "        continue\n",
    "\n",
    "    all_ok = True\n",
    "    for i in range(len(tree)):\n",
    "        node = tree[i]\n",
    "        sl = tree.searchSubtree(i)\n",
    "        subtree = gp.PrimitiveTree(tree[sl])\n",
    "\n",
    "        # Compile subtree with DEAP\n",
    "        try:\n",
    "            compiled_fn = gp.compile(subtree, pset)\n",
    "        except Exception as e:\n",
    "            print(f\"  Failed to compile subtree {i} ({node.name}):\", e)\n",
    "            traceback.print_exc()\n",
    "            all_ok = False\n",
    "            continue\n",
    "\n",
    "        # Evaluate compiled subtree\n",
    "        try:\n",
    "            compiled_val = compiled_fn(test_set)\n",
    "        except Exception as e:\n",
    "            # Some compiled functions might expect scalar input — try elementwise\n",
    "            try:\n",
    "                compiled_val = np.array([compiled_fn(x) for x in test_set])\n",
    "            except Exception as e2:\n",
    "                print(f\"  Failed to run compiled subtree {i} ({node.name}):\", e)\n",
    "                traceback.print_exc()\n",
    "                all_ok = False\n",
    "                continue\n",
    "\n",
    "        eval_val = subtree_vals[i]\n",
    "\n",
    "        # Normalize to numpy arrays\n",
    "        a = np.asarray(compiled_val)\n",
    "        b = np.asarray(eval_val)\n",
    "\n",
    "        # Compare shapes and numeric closeness\n",
    "        shapes_match = a.shape == b.shape\n",
    "        nums_match = False\n",
    "        if shapes_match:\n",
    "            try:\n",
    "                nums_match = np.allclose(a, b, equal_nan=True)\n",
    "            except Exception:\n",
    "                nums_match = False\n",
    "\n",
    "        if not (shapes_match and nums_match):\n",
    "            all_ok = False\n",
    "            print(f\"  MISMATCH at node {i} ({node.name}): compiled shape {a.shape}, evaluator shape {b.shape}\")\n",
    "            # show short samples\n",
    "            def sample(arr):\n",
    "                try:\n",
    "                    arr = np.asarray(arr)\n",
    "                    if arr.size > 5:\n",
    "                        return arr.flatten()[:5]\n",
    "                    return arr\n",
    "                except Exception:\n",
    "                    return str(arr)\n",
    "            print('    compiled sample =', sample(a))\n",
    "            print('    evaluator sample=', sample(b))\n",
    "\n",
    "    print('  OK' if all_ok else '  FAIL')\n",
    "\n",
    "print('\\nDone.')"
   ]
  }
 ],
 "metadata": {
  "kernelspec": {
   "display_name": "Python 3",
   "language": "python",
   "name": "python3"
  },
  "language_info": {
   "codemirror_mode": {
    "name": "ipython",
    "version": 3
   },
   "file_extension": ".py",
   "mimetype": "text/x-python",
   "name": "python",
   "nbconvert_exporter": "python",
   "pygments_lexer": "ipython3",
   "version": "3.12.0"
  }
 },
 "nbformat": 4,
 "nbformat_minor": 5
}
