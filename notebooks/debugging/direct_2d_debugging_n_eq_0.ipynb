{
 "cells": [
  {
   "cell_type": "code",
   "execution_count": 1,
   "metadata": {},
   "outputs": [],
   "source": [
    "import sys\n",
    "import os\n",
    "sys.path.append(os.path.abspath('..'))  # or the full path to the \"project\" directory\n",
    "import numpy as np\n",
    "import gpbr"
   ]
  },
  {
   "cell_type": "code",
   "execution_count": 2,
   "metadata": {},
   "outputs": [],
   "source": [
    "def u2de(xp, t):\n",
    "    if abs(t) < 1e-10:\n",
    "        return 0\n",
    "    return xp.x**2 + xp.y**2 + 4*t\n",
    "    "
   ]
  },
  {
   "cell_type": "code",
   "execution_count": 3,
   "metadata": {},
   "outputs": [],
   "source": [
    "def du2de(xb, t, rfunc, s):\n",
    "    if abs(t) < 1e-10:\n",
    "        return 0\n",
    "    r_s = rfunc(s)\n",
    "    nu = (-np.sin(s)/r_s, np.cos(s)/r_s)\n",
    "\n",
    "    return 2*xb.x*nu[0] + 2*xb.y*nu[1]\n"
   ]
  },
  {
   "cell_type": "code",
   "execution_count": 4,
   "metadata": {},
   "outputs": [],
   "source": [
    "T = 2 # final time\n",
    "N = 9 # N+1=10 time points\n",
    "# M = 64 # number of collocation points\n",
    "# M = 16 # number of collocation points\n",
    "M = 32 # number of collocation points"
   ]
  },
  {
   "cell_type": "code",
   "execution_count": 5,
   "metadata": {},
   "outputs": [
    {
     "data": {
      "text/plain": [
       "CollocationData2D(n=32, theta=array([0.19634954, 0.39269908, 0.58904862, 0.78539816, 0.9817477 ,\n",
       "       1.17809725, 1.37444679, 1.57079633, 1.76714587, 1.96349541,\n",
       "       2.15984495, 2.35619449, 2.55254403, 2.74889357, 2.94524311,\n",
       "       3.14159265, 3.33794219, 3.53429174, 3.73064128, 3.92699082,\n",
       "       4.12334036, 4.3196899 , 4.51603944, 4.71238898, 4.90873852,\n",
       "       5.10508806, 5.3014376 , 5.49778714, 5.69413668, 5.89048623,\n",
       "       6.08683577, 6.28318531]))"
      ]
     },
     "execution_count": 5,
     "metadata": {},
     "output_type": "execute_result"
    }
   ],
   "source": [
    "from gpbr.direct.common.collocation import collocation_points_2d, CollocationData2D\n",
    "coll_2d = collocation_points_2d(M, startpoint=False)\n",
    "coll_2d"
   ]
  },
  {
   "cell_type": "code",
   "execution_count": 6,
   "metadata": {},
   "outputs": [],
   "source": [
    "from gpbr.direct.common.boundary import StarlikeCurve, starlike_circle_base, starlike_curve\n",
    "point_circle = starlike_circle_base(coll_2d)\n",
    "\n",
    "Gamma1 = point_circle*0.5\n",
    "Gamma2 = point_circle*1.5"
   ]
  },
  {
   "cell_type": "code",
   "execution_count": 7,
   "metadata": {},
   "outputs": [],
   "source": [
    "from gpbr.direct.common.boundary import Point2D\n",
    "# test_points = [Point2D(0.0, 0.98), Point2D(1.0, -0.73), Point2D(0.51, 0.54), Point2D(-0.501, 0.52), Point2D(-1.11, -0.75), Point2D(0.0, -1.0)]\n",
    "test_points = [Point2D(1.0, 1.0), Point2D(-1.0, 1.0)]"
   ]
  },
  {
   "cell_type": "code",
   "execution_count": 8,
   "metadata": {},
   "outputs": [],
   "source": [
    "import matplotlib.pyplot as plt\n",
    "\n",
    "def plot_boundaries_and_points(G1: StarlikeCurve, G2: StarlikeCurve, test_points, t):\n",
    "    fig_plot, ax_plot = plt.subplots()\n",
    "    g1_x, g1_y = G1.raw_points()\n",
    "    g2_x, g2_y = G2.raw_points()\n",
    "    ax_plot.plot(g1_x, g1_y, 'b--')\n",
    "    ax_plot.plot(g2_x, g2_y, 'r--')\n",
    "    for i, p in enumerate(test_points):\n",
    "        ax_plot.plot(p.x, p.y, 'go')\n",
    "        ax_plot.annotate(f'ue_i={u2de(p,t)}', (p.x, p.y), textcoords=\"offset points\", xytext=(15,-5), ha='center')\n",
    "\n",
    "    ax_plot.axis('equal')\n",
    "    plt.grid()\n",
    "    plt.show()\n",
    "    plt.close()"
   ]
  },
  {
   "cell_type": "code",
   "execution_count": 9,
   "metadata": {},
   "outputs": [
    {
     "data": {
      "image/png": "[encoded data removed]",
      "text/plain": [
       "<Figure size 640x480 with 1 Axes>"
      ]
     },
     "metadata": {},
     "output_type": "display_data"
    }
   ],
   "source": [
    "plot_boundaries_and_points(Gamma1, Gamma2, test_points,0.2)"
   ]
  },
  {
   "cell_type": "markdown",
   "metadata": {},
   "source": [
    "# Approximation"
   ]
  },
  {
   "cell_type": "code",
   "execution_count": 10,
   "metadata": {},
   "outputs": [],
   "source": [
    "tn = np.array([(n+1)*(T/(N+1)) for n in range(0, N+1)])\n",
    "h = T/(N+1)"
   ]
  },
  {
   "cell_type": "code",
   "execution_count": 11,
   "metadata": {},
   "outputs": [
    {
     "data": {
      "text/plain": [
       "array([0.2, 0.4, 0.6, 0.8, 1. , 1.2, 1.4, 1.6, 1.8, 2. ])"
      ]
     },
     "execution_count": 11,
     "metadata": {},
     "output_type": "execute_result"
    }
   ],
   "source": [
    "tn"
   ]
  },
  {
   "cell_type": "code",
   "execution_count": 12,
   "metadata": {},
   "outputs": [
    {
     "data": {
      "text/plain": [
       "np.float64(3.1622776601683795)"
      ]
     },
     "execution_count": 12,
     "metadata": {},
     "output_type": "execute_result"
    }
   ],
   "source": [
    "nu = np.sqrt(2/h)\n",
    "nu"
   ]
  },
  {
   "cell_type": "code",
   "execution_count": 13,
   "metadata": {},
   "outputs": [
    {
     "data": {
      "text/plain": [
       "[nan, -20.0, 20.0, -20.0, 20.0, -20.0, 20.0, -20.0, 20.0, -20.0]"
      ]
     },
     "execution_count": 13,
     "metadata": {},
     "output_type": "execute_result"
    }
   ],
   "source": [
    "betta_array = []\n",
    "for n in range(0, N+1):\n",
    "    sign = (-1)**n\n",
    "    betta_array.append(sign*(4/h))\n",
    "betta_array[0] = np.nan\n",
    "betta_array"
   ]
  },
  {
   "cell_type": "code",
   "execution_count": 14,
   "metadata": {},
   "outputs": [],
   "source": [
    "from gpbr.direct.heat_equation.common import MFSData\n",
    "mfs_data =MFSData(N, T, tn, M, betta_array, nu)"
   ]
  },
  {
   "cell_type": "code",
   "execution_count": 15,
   "metadata": {},
   "outputs": [],
   "source": [
    "from gpbr.direct.common.source import SourcePoints2D, source_points_2d\n",
    "source_coll_2d = collocation_points_2d(M//2, startpoint=False)\n",
    "source_point_circle = starlike_circle_base(source_coll_2d)\n",
    "eta1 = 0.5\n",
    "eta2 = 1.5\n",
    "\n",
    "\n",
    "Gamma1_source = source_point_circle*0.5\n",
    "Gamma2_source = source_point_circle*1.5\n",
    "\n",
    "source_points = source_points_2d(eta1, eta2, Gamma1_source, Gamma2_source)"
   ]
  },
  {
   "cell_type": "code",
   "execution_count": 16,
   "metadata": {},
   "outputs": [],
   "source": [
    "## Plot\n",
    "import matplotlib.pyplot as plt\n",
    "def plot_2d(G1: StarlikeCurve, G2: StarlikeCurve, artG1: StarlikeCurve, artG2: StarlikeCurve):\n",
    "    fig_plot, ax_plot = plt.subplots()\n",
    "    g1_x, g1_y = G1.raw_points()\n",
    "    g2_x, g2_y = G2.raw_points()\n",
    "    art1_x, art1_y = artG1.raw_points()\n",
    "    art2_x, art2_y = artG2.raw_points()\n",
    "    ax_plot.plot(g1_x, g1_y, 'b--')\n",
    "    ax_plot.plot(g2_x, g2_y, 'r--')\n",
    "    ax_plot.plot(art1_x, art1_y, 'bo')\n",
    "    ax_plot.plot(art2_x, art2_y, 'ro')\n",
    "\n",
    "    ax_plot.axis('equal')\n",
    "    plt.grid()\n",
    "    plt.show()\n",
    "    plt.close()\n"
   ]
  },
  {
   "cell_type": "code",
   "execution_count": 17,
   "metadata": {},
   "outputs": [
    {
     "data": {
      "image/png": "[encoded data removed]",
      "text/plain": [
       "<Figure size 640x480 with 1 Axes>"
      ]
     },
     "metadata": {},
     "output_type": "display_data"
    }
   ],
   "source": [
    "plot_2d(Gamma1, Gamma2, source_points.gart1, source_points.gart2)"
   ]
  },
  {
   "cell_type": "code",
   "execution_count": 18,
   "metadata": {},
   "outputs": [],
   "source": [
    "from gpbr.direct.heat_equation.polynomial import MFSPolinomials2D, calculate_2d_polinomials\n",
    "\n",
    "mfs_polynomyals = calculate_2d_polinomials(mfs_data, N)"
   ]
  },
  {
   "cell_type": "code",
   "execution_count": 19,
   "metadata": {},
   "outputs": [
    {
     "data": {
      "text/plain": [
       "MFSPolinomials2D(A=array([[ 1.00000000e+00,             nan,             nan,\n",
       "                    nan,             nan,             nan,\n",
       "                    nan,             nan,             nan,\n",
       "                    nan],\n",
       "       [ 1.00000000e+00,  3.16227766e+00,             nan,\n",
       "                    nan,             nan,             nan,\n",
       "                    nan,             nan,             nan,\n",
       "                    nan],\n",
       "       [ 1.00000000e+00,  3.16227766e+00,  5.00000000e+00,\n",
       "                    nan,             nan,             nan,\n",
       "                    nan,             nan,             nan,\n",
       "                    nan],\n",
       "       [ 1.00000000e+00,  4.21637021e+00,  1.66666667e+00,\n",
       "         5.27046277e+00,             nan,             nan,\n",
       "                    nan,             nan,             nan,\n",
       "                    nan],\n",
       "       [ 1.00000000e+00,  4.21637021e+00,  6.66666667e+00,\n",
       "        -1.87244452e-15,  4.16666667e+00,             nan,\n",
       "                    nan,             nan,             nan,\n",
       "                    nan],\n",
       "       [ 1.00000000e+00,  4.84882575e+00,  2.66666667e+00,\n",
       "         8.43274043e+00, -2.50000000e+00,  2.63523138e+00,\n",
       "                    nan,             nan,             nan,\n",
       "                    nan],\n",
       "       [ 1.00000000e+00,  4.84882575e+00,  7.66666667e+00,\n",
       "        -2.24693342e-15,  9.16666667e+00, -2.63523138e+00,\n",
       "         1.38888889e+00,             nan,             nan,\n",
       "                    nan],\n",
       "       [ 1.00000000e+00,  5.30057970e+00,  3.38095238e+00,\n",
       "         1.06915102e+01, -6.07142857e+00,  7.52923252e+00,\n",
       "        -2.18253968e+00,  6.27436044e-01,             nan,\n",
       "                    nan],\n",
       "       [ 1.00000000e+00,  5.30057970e+00,  8.38095238e+00,\n",
       "        -1.49795561e-15,  1.45238095e+01, -7.52923252e+00,\n",
       "         5.55555556e+00, -1.25487209e+00,  2.48015873e-01,\n",
       "                    nan],\n",
       "       [ 1.00000000e+00,  5.65194388e+00,  3.93650794e+00,\n",
       "         1.24483311e+01, -1.02380952e+01,  1.43055418e+01,\n",
       "        -7.67195767e+00,  3.20689533e+00, -6.33818342e-01,\n",
       "         8.71438950e-02]]), v_polynomials=[Polynomial([1.], domain=[-1.,  1.], window=[-1.,  1.], symbol='x'), Polynomial([1., 0.], domain=[-1.,  1.], window=[-1.,  1.], symbol='x'), Polynomial([1., 0., 5.], domain=[-1.,  1.], window=[-1.,  1.], symbol='x'), Polynomial([1.        , 0.        , 1.66666667, 0.        ], domain=[-1.,  1.], window=[-1.,  1.], symbol='x'), Polynomial([1.        , 0.        , 6.66666667, 0.        , 4.16666667], domain=[-1.,  1.], window=[-1.,  1.], symbol='x'), Polynomial([ 1.        ,  0.        ,  2.66666667,  0.        , -2.5       ,\n",
       "        0.        ], domain=[-1.,  1.], window=[-1.,  1.], symbol='x'), Polynomial([1.        , 0.        , 7.66666667, 0.        , 9.16666667,\n",
       "       0.        , 1.38888889], domain=[-1.,  1.], window=[-1.,  1.], symbol='x'), Polynomial([ 1.        ,  0.        ,  3.38095238,  0.        , -6.07142857,\n",
       "        0.        , -2.18253968,  0.        ], domain=[-1.,  1.], window=[-1.,  1.], symbol='x'), Polynomial([ 1.        ,  0.        ,  8.38095238,  0.        , 14.52380952,\n",
       "        0.        ,  5.55555556,  0.        ,  0.24801587], domain=[-1.,  1.], window=[-1.,  1.], symbol='x'), Polynomial([  1.        ,   0.        ,   3.93650794,   0.        ,\n",
       "       -10.23809524,   0.        ,  -7.67195767,   0.        ,\n",
       "        -0.63381834,   0.        ], domain=[-1.,  1.], window=[-1.,  1.], symbol='x')], w_polynomials=[Polynomial([0.], domain=[-1.,  1.], window=[-1.,  1.], symbol='x'), Polynomial([0.        , 3.16227766], domain=[-1.,  1.], window=[-1.,  1.], symbol='x'), Polynomial([0.        , 3.16227766, 0.        ], domain=[-1.,  1.], window=[-1.,  1.], symbol='x'), Polynomial([0.        , 4.21637021, 0.        , 5.27046277], domain=[-1.,  1.], window=[-1.,  1.], symbol='x'), Polynomial([ 0.00000000e+00,  4.21637021e+00,  0.00000000e+00, -1.87244452e-15,\n",
       "        0.00000000e+00], domain=[-1.,  1.], window=[-1.,  1.], symbol='x'), Polynomial([0.        , 4.84882575, 0.        , 8.43274043, 0.        ,\n",
       "       2.63523138], domain=[-1.,  1.], window=[-1.,  1.], symbol='x'), Polynomial([ 0.00000000e+00,  4.84882575e+00,  0.00000000e+00, -2.24693342e-15,\n",
       "        0.00000000e+00, -2.63523138e+00,  0.00000000e+00], domain=[-1.,  1.], window=[-1.,  1.], symbol='x'), Polynomial([ 0.        ,  5.3005797 ,  0.        , 10.69151018,  0.        ,\n",
       "        7.52923252,  0.        ,  0.62743604], domain=[-1.,  1.], window=[-1.,  1.], symbol='x'), Polynomial([ 0.00000000e+00,  5.30057970e+00,  0.00000000e+00, -1.49795561e-15,\n",
       "        0.00000000e+00, -7.52923252e+00,  0.00000000e+00, -1.25487209e+00,\n",
       "        0.00000000e+00], domain=[-1.,  1.], window=[-1.,  1.], symbol='x'), Polynomial([ 0.        ,  5.65194388,  0.        , 12.44833111,  0.        ,\n",
       "       14.3055418 ,  0.        ,  3.20689533,  0.        ,  0.08714389], domain=[-1.,  1.], window=[-1.,  1.], symbol='x')])"
      ]
     },
     "execution_count": 19,
     "metadata": {},
     "output_type": "execute_result"
    }
   ],
   "source": [
    "mfs_polynomyals"
   ]
  },
  {
   "cell_type": "code",
   "execution_count": 20,
   "metadata": {},
   "outputs": [],
   "source": [
    "from gpbr.direct.heat_equation.fundamental_sequence import fundamental_sequence_2d, FundamentalSequence\n",
    "\n",
    "fundamental_sequence_gamma1 = fundamental_sequence_2d(Gamma1, source_points, mfs_data, mfs_polynomyals)\n",
    "fundamental_sequence_gamma2 = fundamental_sequence_2d(Gamma2, source_points, mfs_data, mfs_polynomyals)"
   ]
  },
  {
   "cell_type": "code",
   "execution_count": 21,
   "metadata": {},
   "outputs": [],
   "source": [
    "from gpbr.direct.common.boundary import Point2D, Point3D\n",
    "from gpbr.direct.common.distance import point_distance\n",
    "\n",
    "\n",
    "def f1(x: Point2D | Point3D , t):\n",
    "    return 0\n",
    "    # return 0\n",
    "\n",
    "def f2(x: Point2D | Point3D, t: float) -> np.array:\n",
    "    return u2de(x, t)\n",
    "    # return (t**2)*np.exp(-4*t+2)*point_distance(x, Point2D(0,0))"
   ]
  },
  {
   "cell_type": "code",
   "execution_count": 22,
   "metadata": {},
   "outputs": [
    {
     "data": {
      "text/plain": [
       "(64, 32)"
      ]
     },
     "execution_count": 22,
     "metadata": {},
     "output_type": "execute_result"
    }
   ],
   "source": [
    "from gpbr.direct.heat_equation.helpers import form_fs_matrix, form_fs_vector_2d\n",
    "PHI_MAT = form_fs_matrix(fundamental_sequence_gamma1, fundamental_sequence_gamma2)\n",
    "PHI_MAT.shape"
   ]
  },
  {
   "cell_type": "code",
   "execution_count": 23,
   "metadata": {},
   "outputs": [
    {
     "data": {
      "text/plain": [
       "array([[1.97577723e-03, 1.43701144e-03, 8.31459015e-04, ...,\n",
       "        2.71776725e-01, 4.07504155e-01, 5.48112410e-01],\n",
       "       [2.06113276e-03, 1.74635755e-03, 1.11617542e-03, ...,\n",
       "        2.21583394e-01, 3.34143799e-01, 4.84629024e-01],\n",
       "       [1.97577723e-03, 1.97577723e-03, 1.43701144e-03, ...,\n",
       "        1.82283032e-01, 2.71776725e-01, 4.07504155e-01],\n",
       "       ...,\n",
       "       [3.53528183e-03, 4.84507691e-04, 8.17031070e-05, ...,\n",
       "        1.08591262e-02, 1.17644837e-02, 1.08591262e-02],\n",
       "       [9.72500144e-03, 1.28694614e-03, 1.92390448e-04, ...,\n",
       "        9.87345969e-03, 1.15273338e-02, 1.15273338e-02],\n",
       "       [2.51588989e-02, 3.53528183e-03, 4.84507691e-04, ...,\n",
       "        8.71563713e-03, 1.08591262e-02, 1.17644837e-02]])"
      ]
     },
     "execution_count": 23,
     "metadata": {},
     "output_type": "execute_result"
    }
   ],
   "source": [
    "PHI_MAT"
   ]
  },
  {
   "cell_type": "code",
   "execution_count": 24,
   "metadata": {},
   "outputs": [],
   "source": [
    "from gpbr.direct.heat_equation.fundamental_sequence import FundamentalSequenceCoefs\n",
    "\n",
    "alpha_coeeff = np.empty((N+1, M), dtype=np.float64)\n",
    "alpha_coeeff[:] = np.nan\n",
    "fs_coefs = FundamentalSequenceCoefs(alpha_coeeff)"
   ]
  },
  {
   "cell_type": "code",
   "execution_count": 25,
   "metadata": {},
   "outputs": [
    {
     "name": "stdout",
     "output_type": "stream",
     "text": [
      "[[23.4578221  23.4578221  23.4578221  23.4578221  23.4578221  23.4578221\n",
      "  23.4578221  23.4578221  23.4578221  23.4578221  23.4578221  23.4578221\n",
      "  23.4578221  23.4578221  23.4578221  23.4578221  -0.06808842 -0.06808842\n",
      "  -0.06808842 -0.06808842 -0.06808842 -0.06808842 -0.06808842 -0.06808842\n",
      "  -0.06808842 -0.06808842 -0.06808842 -0.06808842 -0.06808842 -0.06808842\n",
      "  -0.06808842 -0.06808842]\n",
      " [        nan         nan         nan         nan         nan         nan\n",
      "          nan         nan         nan         nan         nan         nan\n",
      "          nan         nan         nan         nan         nan         nan\n",
      "          nan         nan         nan         nan         nan         nan\n",
      "          nan         nan         nan         nan         nan         nan\n",
      "          nan         nan]\n",
      " [        nan         nan         nan         nan         nan         nan\n",
      "          nan         nan         nan         nan         nan         nan\n",
      "          nan         nan         nan         nan         nan         nan\n",
      "          nan         nan         nan         nan         nan         nan\n",
      "          nan         nan         nan         nan         nan         nan\n",
      "          nan         nan]\n",
      " [        nan         nan         nan         nan         nan         nan\n",
      "          nan         nan         nan         nan         nan         nan\n",
      "          nan         nan         nan         nan         nan         nan\n",
      "          nan         nan         nan         nan         nan         nan\n",
      "          nan         nan         nan         nan         nan         nan\n",
      "          nan         nan]\n",
      " [        nan         nan         nan         nan         nan         nan\n",
      "          nan         nan         nan         nan         nan         nan\n",
      "          nan         nan         nan         nan         nan         nan\n",
      "          nan         nan         nan         nan         nan         nan\n",
      "          nan         nan         nan         nan         nan         nan\n",
      "          nan         nan]\n",
      " [        nan         nan         nan         nan         nan         nan\n",
      "          nan         nan         nan         nan         nan         nan\n",
      "          nan         nan         nan         nan         nan         nan\n",
      "          nan         nan         nan         nan         nan         nan\n",
      "          nan         nan         nan         nan         nan         nan\n",
      "          nan         nan]\n",
      " [        nan         nan         nan         nan         nan         nan\n",
      "          nan         nan         nan         nan         nan         nan\n",
      "          nan         nan         nan         nan         nan         nan\n",
      "          nan         nan         nan         nan         nan         nan\n",
      "          nan         nan         nan         nan         nan         nan\n",
      "          nan         nan]\n",
      " [        nan         nan         nan         nan         nan         nan\n",
      "          nan         nan         nan         nan         nan         nan\n",
      "          nan         nan         nan         nan         nan         nan\n",
      "          nan         nan         nan         nan         nan         nan\n",
      "          nan         nan         nan         nan         nan         nan\n",
      "          nan         nan]\n",
      " [        nan         nan         nan         nan         nan         nan\n",
      "          nan         nan         nan         nan         nan         nan\n",
      "          nan         nan         nan         nan         nan         nan\n",
      "          nan         nan         nan         nan         nan         nan\n",
      "          nan         nan         nan         nan         nan         nan\n",
      "          nan         nan]\n",
      " [        nan         nan         nan         nan         nan         nan\n",
      "          nan         nan         nan         nan         nan         nan\n",
      "          nan         nan         nan         nan         nan         nan\n",
      "          nan         nan         nan         nan         nan         nan\n",
      "          nan         nan         nan         nan         nan         nan\n",
      "          nan         nan]]\n",
      "[[ 2.34578221e+01  2.34578221e+01  2.34578221e+01  2.34578221e+01\n",
      "   2.34578221e+01  2.34578221e+01  2.34578221e+01  2.34578221e+01\n",
      "   2.34578221e+01  2.34578221e+01  2.34578221e+01  2.34578221e+01\n",
      "   2.34578221e+01  2.34578221e+01  2.34578221e+01  2.34578221e+01\n",
      "  -6.80884244e-02 -6.80884244e-02 -6.80884244e-02 -6.80884244e-02\n",
      "  -6.80884244e-02 -6.80884244e-02 -6.80884244e-02 -6.80884244e-02\n",
      "  -6.80884244e-02 -6.80884244e-02 -6.80884244e-02 -6.80884244e-02\n",
      "  -6.80884244e-02 -6.80884244e-02 -6.80884244e-02 -6.80884244e-02]\n",
      " [-7.31028831e+01 -7.31028831e+01 -7.31028831e+01 -7.31028831e+01\n",
      "  -7.31028831e+01 -7.31028831e+01 -7.31028831e+01 -7.31028831e+01\n",
      "  -7.31028831e+01 -7.31028831e+01 -7.31028831e+01 -7.31028831e+01\n",
      "  -7.31028831e+01 -7.31028831e+01 -7.31028831e+01 -7.31028831e+01\n",
      "  -1.20604033e-01 -1.20604033e-01 -1.20604033e-01 -1.20604033e-01\n",
      "  -1.20604033e-01 -1.20604033e-01 -1.20604033e-01 -1.20604033e-01\n",
      "  -1.20604033e-01 -1.20604033e-01 -1.20604033e-01 -1.20604033e-01\n",
      "  -1.20604033e-01 -1.20604033e-01 -1.20604033e-01 -1.20604033e-01]\n",
      " [            nan             nan             nan             nan\n",
      "              nan             nan             nan             nan\n",
      "              nan             nan             nan             nan\n",
      "              nan             nan             nan             nan\n",
      "              nan             nan             nan             nan\n",
      "              nan             nan             nan             nan\n",
      "              nan             nan             nan             nan\n",
      "              nan             nan             nan             nan]\n",
      " [            nan             nan             nan             nan\n",
      "              nan             nan             nan             nan\n",
      "              nan             nan             nan             nan\n",
      "              nan             nan             nan             nan\n",
      "              nan             nan             nan             nan\n",
      "              nan             nan             nan             nan\n",
      "              nan             nan             nan             nan\n",
      "              nan             nan             nan             nan]\n",
      " [            nan             nan             nan             nan\n",
      "              nan             nan             nan             nan\n",
      "              nan             nan             nan             nan\n",
      "              nan             nan             nan             nan\n",
      "              nan             nan             nan             nan\n",
      "              nan             nan             nan             nan\n",
      "              nan             nan             nan             nan\n",
      "              nan             nan             nan             nan]\n",
      " [            nan             nan             nan             nan\n",
      "              nan             nan             nan             nan\n",
      "              nan             nan             nan             nan\n",
      "              nan             nan             nan             nan\n",
      "              nan             nan             nan             nan\n",
      "              nan             nan             nan             nan\n",
      "              nan             nan             nan             nan\n",
      "              nan             nan             nan             nan]\n",
      " [            nan             nan             nan             nan\n",
      "              nan             nan             nan             nan\n",
      "              nan             nan             nan             nan\n",
      "              nan             nan             nan             nan\n",
      "              nan             nan             nan             nan\n",
      "              nan             nan             nan             nan\n",
      "              nan             nan             nan             nan\n",
      "              nan             nan             nan             nan]\n",
      " [            nan             nan             nan             nan\n",
      "              nan             nan             nan             nan\n",
      "              nan             nan             nan             nan\n",
      "              nan             nan             nan             nan\n",
      "              nan             nan             nan             nan\n",
      "              nan             nan             nan             nan\n",
      "              nan             nan             nan             nan\n",
      "              nan             nan             nan             nan]\n",
      " [            nan             nan             nan             nan\n",
      "              nan             nan             nan             nan\n",
      "              nan             nan             nan             nan\n",
      "              nan             nan             nan             nan\n",
      "              nan             nan             nan             nan\n",
      "              nan             nan             nan             nan\n",
      "              nan             nan             nan             nan\n",
      "              nan             nan             nan             nan]\n",
      " [            nan             nan             nan             nan\n",
      "              nan             nan             nan             nan\n",
      "              nan             nan             nan             nan\n",
      "              nan             nan             nan             nan\n",
      "              nan             nan             nan             nan\n",
      "              nan             nan             nan             nan\n",
      "              nan             nan             nan             nan\n",
      "              nan             nan             nan             nan]]\n",
      "[[ 2.34578221e+01  2.34578221e+01  2.34578221e+01  2.34578221e+01\n",
      "   2.34578221e+01  2.34578221e+01  2.34578221e+01  2.34578221e+01\n",
      "   2.34578221e+01  2.34578221e+01  2.34578221e+01  2.34578221e+01\n",
      "   2.34578221e+01  2.34578221e+01  2.34578221e+01  2.34578221e+01\n",
      "  -6.80884244e-02 -6.80884244e-02 -6.80884244e-02 -6.80884244e-02\n",
      "  -6.80884244e-02 -6.80884244e-02 -6.80884244e-02 -6.80884244e-02\n",
      "  -6.80884244e-02 -6.80884244e-02 -6.80884244e-02 -6.80884244e-02\n",
      "  -6.80884244e-02 -6.80884244e-02 -6.80884244e-02 -6.80884244e-02]\n",
      " [-7.31028831e+01 -7.31028831e+01 -7.31028831e+01 -7.31028831e+01\n",
      "  -7.31028831e+01 -7.31028831e+01 -7.31028831e+01 -7.31028831e+01\n",
      "  -7.31028831e+01 -7.31028831e+01 -7.31028831e+01 -7.31028831e+01\n",
      "  -7.31028831e+01 -7.31028831e+01 -7.31028831e+01 -7.31028831e+01\n",
      "  -1.20604033e-01 -1.20604033e-01 -1.20604033e-01 -1.20604033e-01\n",
      "  -1.20604033e-01 -1.20604033e-01 -1.20604033e-01 -1.20604033e-01\n",
      "  -1.20604033e-01 -1.20604033e-01 -1.20604033e-01 -1.20604033e-01\n",
      "  -1.20604033e-01 -1.20604033e-01 -1.20604033e-01 -1.20604033e-01]\n",
      " [ 1.47458876e+02  1.47458876e+02  1.47458876e+02  1.47458876e+02\n",
      "   1.47458876e+02  1.47458876e+02  1.47458876e+02  1.47458876e+02\n",
      "   1.47458876e+02  1.47458876e+02  1.47458876e+02  1.47458876e+02\n",
      "   1.47458876e+02  1.47458876e+02  1.47458876e+02  1.47458876e+02\n",
      "  -5.09984659e-02 -5.09984659e-02 -5.09984659e-02 -5.09984659e-02\n",
      "  -5.09984659e-02 -5.09984659e-02 -5.09984659e-02 -5.09984659e-02\n",
      "  -5.09984659e-02 -5.09984659e-02 -5.09984659e-02 -5.09984659e-02\n",
      "  -5.09984659e-02 -5.09984659e-02 -5.09984659e-02 -5.09984659e-02]\n",
      " [            nan             nan             nan             nan\n",
      "              nan             nan             nan             nan\n",
      "              nan             nan             nan             nan\n",
      "              nan             nan             nan             nan\n",
      "              nan             nan             nan             nan\n",
      "              nan             nan             nan             nan\n",
      "              nan             nan             nan             nan\n",
      "              nan             nan             nan             nan]\n",
      " [            nan             nan             nan             nan\n",
      "              nan             nan             nan             nan\n",
      "              nan             nan             nan             nan\n",
      "              nan             nan             nan             nan\n",
      "              nan             nan             nan             nan\n",
      "              nan             nan             nan             nan\n",
      "              nan             nan             nan             nan\n",
      "              nan             nan             nan             nan]\n",
      " [            nan             nan             nan             nan\n",
      "              nan             nan             nan             nan\n",
      "              nan             nan             nan             nan\n",
      "              nan             nan             nan             nan\n",
      "              nan             nan             nan             nan\n",
      "              nan             nan             nan             nan\n",
      "              nan             nan             nan             nan\n",
      "              nan             nan             nan             nan]\n",
      " [            nan             nan             nan             nan\n",
      "              nan             nan             nan             nan\n",
      "              nan             nan             nan             nan\n",
      "              nan             nan             nan             nan\n",
      "              nan             nan             nan             nan\n",
      "              nan             nan             nan             nan\n",
      "              nan             nan             nan             nan\n",
      "              nan             nan             nan             nan]\n",
      " [            nan             nan             nan             nan\n",
      "              nan             nan             nan             nan\n",
      "              nan             nan             nan             nan\n",
      "              nan             nan             nan             nan\n",
      "              nan             nan             nan             nan\n",
      "              nan             nan             nan             nan\n",
      "              nan             nan             nan             nan\n",
      "              nan             nan             nan             nan]\n",
      " [            nan             nan             nan             nan\n",
      "              nan             nan             nan             nan\n",
      "              nan             nan             nan             nan\n",
      "              nan             nan             nan             nan\n",
      "              nan             nan             nan             nan\n",
      "              nan             nan             nan             nan\n",
      "              nan             nan             nan             nan\n",
      "              nan             nan             nan             nan]\n",
      " [            nan             nan             nan             nan\n",
      "              nan             nan             nan             nan\n",
      "              nan             nan             nan             nan\n",
      "              nan             nan             nan             nan\n",
      "              nan             nan             nan             nan\n",
      "              nan             nan             nan             nan\n",
      "              nan             nan             nan             nan\n",
      "              nan             nan             nan             nan]]\n",
      "[[ 2.34578221e+01  2.34578221e+01  2.34578221e+01  2.34578221e+01\n",
      "   2.34578221e+01  2.34578221e+01  2.34578221e+01  2.34578221e+01\n",
      "   2.34578221e+01  2.34578221e+01  2.34578221e+01  2.34578221e+01\n",
      "   2.34578221e+01  2.34578221e+01  2.34578221e+01  2.34578221e+01\n",
      "  -6.80884244e-02 -6.80884244e-02 -6.80884244e-02 -6.80884244e-02\n",
      "  -6.80884244e-02 -6.80884244e-02 -6.80884244e-02 -6.80884244e-02\n",
      "  -6.80884244e-02 -6.80884244e-02 -6.80884244e-02 -6.80884244e-02\n",
      "  -6.80884244e-02 -6.80884244e-02 -6.80884244e-02 -6.80884244e-02]\n",
      " [-7.31028831e+01 -7.31028831e+01 -7.31028831e+01 -7.31028831e+01\n",
      "  -7.31028831e+01 -7.31028831e+01 -7.31028831e+01 -7.31028831e+01\n",
      "  -7.31028831e+01 -7.31028831e+01 -7.31028831e+01 -7.31028831e+01\n",
      "  -7.31028831e+01 -7.31028831e+01 -7.31028831e+01 -7.31028831e+01\n",
      "  -1.20604033e-01 -1.20604033e-01 -1.20604033e-01 -1.20604033e-01\n",
      "  -1.20604033e-01 -1.20604033e-01 -1.20604033e-01 -1.20604033e-01\n",
      "  -1.20604033e-01 -1.20604033e-01 -1.20604033e-01 -1.20604033e-01\n",
      "  -1.20604033e-01 -1.20604033e-01 -1.20604033e-01 -1.20604033e-01]\n",
      " [ 1.47458876e+02  1.47458876e+02  1.47458876e+02  1.47458876e+02\n",
      "   1.47458876e+02  1.47458876e+02  1.47458876e+02  1.47458876e+02\n",
      "   1.47458876e+02  1.47458876e+02  1.47458876e+02  1.47458876e+02\n",
      "   1.47458876e+02  1.47458876e+02  1.47458876e+02  1.47458876e+02\n",
      "  -5.09984659e-02 -5.09984659e-02 -5.09984659e-02 -5.09984659e-02\n",
      "  -5.09984659e-02 -5.09984659e-02 -5.09984659e-02 -5.09984659e-02\n",
      "  -5.09984659e-02 -5.09984659e-02 -5.09984659e-02 -5.09984659e-02\n",
      "  -5.09984659e-02 -5.09984659e-02 -5.09984659e-02 -5.09984659e-02]\n",
      " [-2.53028888e+02 -2.53028888e+02 -2.53028888e+02 -2.53028888e+02\n",
      "  -2.53028888e+02 -2.53028888e+02 -2.53028888e+02 -2.53028888e+02\n",
      "  -2.53028888e+02 -2.53028888e+02 -2.53028888e+02 -2.53028888e+02\n",
      "  -2.53028888e+02 -2.53028888e+02 -2.53028888e+02 -2.53028888e+02\n",
      "  -3.87311273e-02 -3.87311273e-02 -3.87311273e-02 -3.87311273e-02\n",
      "  -3.87311273e-02 -3.87311273e-02 -3.87311273e-02 -3.87311273e-02\n",
      "  -3.87311273e-02 -3.87311273e-02 -3.87311273e-02 -3.87311273e-02\n",
      "  -3.87311273e-02 -3.87311273e-02 -3.87311273e-02 -3.87311273e-02]\n",
      " [            nan             nan             nan             nan\n",
      "              nan             nan             nan             nan\n",
      "              nan             nan             nan             nan\n",
      "              nan             nan             nan             nan\n",
      "              nan             nan             nan             nan\n",
      "              nan             nan             nan             nan\n",
      "              nan             nan             nan             nan\n",
      "              nan             nan             nan             nan]\n",
      " [            nan             nan             nan             nan\n",
      "              nan             nan             nan             nan\n",
      "              nan             nan             nan             nan\n",
      "              nan             nan             nan             nan\n",
      "              nan             nan             nan             nan\n",
      "              nan             nan             nan             nan\n",
      "              nan             nan             nan             nan\n",
      "              nan             nan             nan             nan]\n",
      " [            nan             nan             nan             nan\n",
      "              nan             nan             nan             nan\n",
      "              nan             nan             nan             nan\n",
      "              nan             nan             nan             nan\n",
      "              nan             nan             nan             nan\n",
      "              nan             nan             nan             nan\n",
      "              nan             nan             nan             nan\n",
      "              nan             nan             nan             nan]\n",
      " [            nan             nan             nan             nan\n",
      "              nan             nan             nan             nan\n",
      "              nan             nan             nan             nan\n",
      "              nan             nan             nan             nan\n",
      "              nan             nan             nan             nan\n",
      "              nan             nan             nan             nan\n",
      "              nan             nan             nan             nan\n",
      "              nan             nan             nan             nan]\n",
      " [            nan             nan             nan             nan\n",
      "              nan             nan             nan             nan\n",
      "              nan             nan             nan             nan\n",
      "              nan             nan             nan             nan\n",
      "              nan             nan             nan             nan\n",
      "              nan             nan             nan             nan\n",
      "              nan             nan             nan             nan\n",
      "              nan             nan             nan             nan]\n",
      " [            nan             nan             nan             nan\n",
      "              nan             nan             nan             nan\n",
      "              nan             nan             nan             nan\n",
      "              nan             nan             nan             nan\n",
      "              nan             nan             nan             nan\n",
      "              nan             nan             nan             nan\n",
      "              nan             nan             nan             nan\n",
      "              nan             nan             nan             nan]]\n",
      "[[ 2.34578221e+01  2.34578221e+01  2.34578221e+01  2.34578221e+01\n",
      "   2.34578221e+01  2.34578221e+01  2.34578221e+01  2.34578221e+01\n",
      "   2.34578221e+01  2.34578221e+01  2.34578221e+01  2.34578221e+01\n",
      "   2.34578221e+01  2.34578221e+01  2.34578221e+01  2.34578221e+01\n",
      "  -6.80884244e-02 -6.80884244e-02 -6.80884244e-02 -6.80884244e-02\n",
      "  -6.80884244e-02 -6.80884244e-02 -6.80884244e-02 -6.80884244e-02\n",
      "  -6.80884244e-02 -6.80884244e-02 -6.80884244e-02 -6.80884244e-02\n",
      "  -6.80884244e-02 -6.80884244e-02 -6.80884244e-02 -6.80884244e-02]\n",
      " [-7.31028831e+01 -7.31028831e+01 -7.31028831e+01 -7.31028831e+01\n",
      "  -7.31028831e+01 -7.31028831e+01 -7.31028831e+01 -7.31028831e+01\n",
      "  -7.31028831e+01 -7.31028831e+01 -7.31028831e+01 -7.31028831e+01\n",
      "  -7.31028831e+01 -7.31028831e+01 -7.31028831e+01 -7.31028831e+01\n",
      "  -1.20604033e-01 -1.20604033e-01 -1.20604033e-01 -1.20604033e-01\n",
      "  -1.20604033e-01 -1.20604033e-01 -1.20604033e-01 -1.20604033e-01\n",
      "  -1.20604033e-01 -1.20604033e-01 -1.20604033e-01 -1.20604033e-01\n",
      "  -1.20604033e-01 -1.20604033e-01 -1.20604033e-01 -1.20604033e-01]\n",
      " [ 1.47458876e+02  1.47458876e+02  1.47458876e+02  1.47458876e+02\n",
      "   1.47458876e+02  1.47458876e+02  1.47458876e+02  1.47458876e+02\n",
      "   1.47458876e+02  1.47458876e+02  1.47458876e+02  1.47458876e+02\n",
      "   1.47458876e+02  1.47458876e+02  1.47458876e+02  1.47458876e+02\n",
      "  -5.09984659e-02 -5.09984659e-02 -5.09984659e-02 -5.09984659e-02\n",
      "  -5.09984659e-02 -5.09984659e-02 -5.09984659e-02 -5.09984659e-02\n",
      "  -5.09984659e-02 -5.09984659e-02 -5.09984659e-02 -5.09984659e-02\n",
      "  -5.09984659e-02 -5.09984659e-02 -5.09984659e-02 -5.09984659e-02]\n",
      " [-2.53028888e+02 -2.53028888e+02 -2.53028888e+02 -2.53028888e+02\n",
      "  -2.53028888e+02 -2.53028888e+02 -2.53028888e+02 -2.53028888e+02\n",
      "  -2.53028888e+02 -2.53028888e+02 -2.53028888e+02 -2.53028888e+02\n",
      "  -2.53028888e+02 -2.53028888e+02 -2.53028888e+02 -2.53028888e+02\n",
      "  -3.87311273e-02 -3.87311273e-02 -3.87311273e-02 -3.87311273e-02\n",
      "  -3.87311273e-02 -3.87311273e-02 -3.87311273e-02 -3.87311273e-02\n",
      "  -3.87311273e-02 -3.87311273e-02 -3.87311273e-02 -3.87311273e-02\n",
      "  -3.87311273e-02 -3.87311273e-02 -3.87311273e-02 -3.87311273e-02]\n",
      " [ 3.98950222e+02  3.98950222e+02  3.98950222e+02  3.98950222e+02\n",
      "   3.98950222e+02  3.98950222e+02  3.98950222e+02  3.98950222e+02\n",
      "   3.98950222e+02  3.98950222e+02  3.98950222e+02  3.98950222e+02\n",
      "   3.98950222e+02  3.98950222e+02  3.98950222e+02  3.98950222e+02\n",
      "  -5.23887017e-02 -5.23887017e-02 -5.23887017e-02 -5.23887017e-02\n",
      "  -5.23887017e-02 -5.23887017e-02 -5.23887017e-02 -5.23887017e-02\n",
      "  -5.23887017e-02 -5.23887017e-02 -5.23887017e-02 -5.23887017e-02\n",
      "  -5.23887017e-02 -5.23887017e-02 -5.23887017e-02 -5.23887017e-02]\n",
      " [            nan             nan             nan             nan\n",
      "              nan             nan             nan             nan\n",
      "              nan             nan             nan             nan\n",
      "              nan             nan             nan             nan\n",
      "              nan             nan             nan             nan\n",
      "              nan             nan             nan             nan\n",
      "              nan             nan             nan             nan\n",
      "              nan             nan             nan             nan]\n",
      " [            nan             nan             nan             nan\n",
      "              nan             nan             nan             nan\n",
      "              nan             nan             nan             nan\n",
      "              nan             nan             nan             nan\n",
      "              nan             nan             nan             nan\n",
      "              nan             nan             nan             nan\n",
      "              nan             nan             nan             nan\n",
      "              nan             nan             nan             nan]\n",
      " [            nan             nan             nan             nan\n",
      "              nan             nan             nan             nan\n",
      "              nan             nan             nan             nan\n",
      "              nan             nan             nan             nan\n",
      "              nan             nan             nan             nan\n",
      "              nan             nan             nan             nan\n",
      "              nan             nan             nan             nan\n",
      "              nan             nan             nan             nan]\n",
      " [            nan             nan             nan             nan\n",
      "              nan             nan             nan             nan\n",
      "              nan             nan             nan             nan\n",
      "              nan             nan             nan             nan\n",
      "              nan             nan             nan             nan\n",
      "              nan             nan             nan             nan\n",
      "              nan             nan             nan             nan\n",
      "              nan             nan             nan             nan]\n",
      " [            nan             nan             nan             nan\n",
      "              nan             nan             nan             nan\n",
      "              nan             nan             nan             nan\n",
      "              nan             nan             nan             nan\n",
      "              nan             nan             nan             nan\n",
      "              nan             nan             nan             nan\n",
      "              nan             nan             nan             nan\n",
      "              nan             nan             nan             nan]]\n",
      "[[ 2.34578221e+01  2.34578221e+01  2.34578221e+01  2.34578221e+01\n",
      "   2.34578221e+01  2.34578221e+01  2.34578221e+01  2.34578221e+01\n",
      "   2.34578221e+01  2.34578221e+01  2.34578221e+01  2.34578221e+01\n",
      "   2.34578221e+01  2.34578221e+01  2.34578221e+01  2.34578221e+01\n",
      "  -6.80884244e-02 -6.80884244e-02 -6.80884244e-02 -6.80884244e-02\n",
      "  -6.80884244e-02 -6.80884244e-02 -6.80884244e-02 -6.80884244e-02\n",
      "  -6.80884244e-02 -6.80884244e-02 -6.80884244e-02 -6.80884244e-02\n",
      "  -6.80884244e-02 -6.80884244e-02 -6.80884244e-02 -6.80884244e-02]\n",
      " [-7.31028831e+01 -7.31028831e+01 -7.31028831e+01 -7.31028831e+01\n",
      "  -7.31028831e+01 -7.31028831e+01 -7.31028831e+01 -7.31028831e+01\n",
      "  -7.31028831e+01 -7.31028831e+01 -7.31028831e+01 -7.31028831e+01\n",
      "  -7.31028831e+01 -7.31028831e+01 -7.31028831e+01 -7.31028831e+01\n",
      "  -1.20604033e-01 -1.20604033e-01 -1.20604033e-01 -1.20604033e-01\n",
      "  -1.20604033e-01 -1.20604033e-01 -1.20604033e-01 -1.20604033e-01\n",
      "  -1.20604033e-01 -1.20604033e-01 -1.20604033e-01 -1.20604033e-01\n",
      "  -1.20604033e-01 -1.20604033e-01 -1.20604033e-01 -1.20604033e-01]\n",
      " [ 1.47458876e+02  1.47458876e+02  1.47458876e+02  1.47458876e+02\n",
      "   1.47458876e+02  1.47458876e+02  1.47458876e+02  1.47458876e+02\n",
      "   1.47458876e+02  1.47458876e+02  1.47458876e+02  1.47458876e+02\n",
      "   1.47458876e+02  1.47458876e+02  1.47458876e+02  1.47458876e+02\n",
      "  -5.09984659e-02 -5.09984659e-02 -5.09984659e-02 -5.09984659e-02\n",
      "  -5.09984659e-02 -5.09984659e-02 -5.09984659e-02 -5.09984659e-02\n",
      "  -5.09984659e-02 -5.09984659e-02 -5.09984659e-02 -5.09984659e-02\n",
      "  -5.09984659e-02 -5.09984659e-02 -5.09984659e-02 -5.09984659e-02]\n",
      " [-2.53028888e+02 -2.53028888e+02 -2.53028888e+02 -2.53028888e+02\n",
      "  -2.53028888e+02 -2.53028888e+02 -2.53028888e+02 -2.53028888e+02\n",
      "  -2.53028888e+02 -2.53028888e+02 -2.53028888e+02 -2.53028888e+02\n",
      "  -2.53028888e+02 -2.53028888e+02 -2.53028888e+02 -2.53028888e+02\n",
      "  -3.87311273e-02 -3.87311273e-02 -3.87311273e-02 -3.87311273e-02\n",
      "  -3.87311273e-02 -3.87311273e-02 -3.87311273e-02 -3.87311273e-02\n",
      "  -3.87311273e-02 -3.87311273e-02 -3.87311273e-02 -3.87311273e-02\n",
      "  -3.87311273e-02 -3.87311273e-02 -3.87311273e-02 -3.87311273e-02]\n",
      " [ 3.98950222e+02  3.98950222e+02  3.98950222e+02  3.98950222e+02\n",
      "   3.98950222e+02  3.98950222e+02  3.98950222e+02  3.98950222e+02\n",
      "   3.98950222e+02  3.98950222e+02  3.98950222e+02  3.98950222e+02\n",
      "   3.98950222e+02  3.98950222e+02  3.98950222e+02  3.98950222e+02\n",
      "  -5.23887017e-02 -5.23887017e-02 -5.23887017e-02 -5.23887017e-02\n",
      "  -5.23887017e-02 -5.23887017e-02 -5.23887017e-02 -5.23887017e-02\n",
      "  -5.23887017e-02 -5.23887017e-02 -5.23887017e-02 -5.23887017e-02\n",
      "  -5.23887017e-02 -5.23887017e-02 -5.23887017e-02 -5.23887017e-02]\n",
      " [-5.92729522e+02 -5.92729522e+02 -5.92729522e+02 -5.92729522e+02\n",
      "  -5.92729522e+02 -5.92729522e+02 -5.92729522e+02 -5.92729522e+02\n",
      "  -5.92729522e+02 -5.92729522e+02 -5.92729522e+02 -5.92729522e+02\n",
      "  -5.92729522e+02 -5.92729522e+02 -5.92729522e+02 -5.92729522e+02\n",
      "  -3.97316429e-02 -3.97316429e-02 -3.97316429e-02 -3.97316429e-02\n",
      "  -3.97316429e-02 -3.97316429e-02 -3.97316429e-02 -3.97316429e-02\n",
      "  -3.97316429e-02 -3.97316429e-02 -3.97316429e-02 -3.97316429e-02\n",
      "  -3.97316429e-02 -3.97316429e-02 -3.97316429e-02 -3.97316429e-02]\n",
      " [            nan             nan             nan             nan\n",
      "              nan             nan             nan             nan\n",
      "              nan             nan             nan             nan\n",
      "              nan             nan             nan             nan\n",
      "              nan             nan             nan             nan\n",
      "              nan             nan             nan             nan\n",
      "              nan             nan             nan             nan\n",
      "              nan             nan             nan             nan]\n",
      " [            nan             nan             nan             nan\n",
      "              nan             nan             nan             nan\n",
      "              nan             nan             nan             nan\n",
      "              nan             nan             nan             nan\n",
      "              nan             nan             nan             nan\n",
      "              nan             nan             nan             nan\n",
      "              nan             nan             nan             nan\n",
      "              nan             nan             nan             nan]\n",
      " [            nan             nan             nan             nan\n",
      "              nan             nan             nan             nan\n",
      "              nan             nan             nan             nan\n",
      "              nan             nan             nan             nan\n",
      "              nan             nan             nan             nan\n",
      "              nan             nan             nan             nan\n",
      "              nan             nan             nan             nan\n",
      "              nan             nan             nan             nan]\n",
      " [            nan             nan             nan             nan\n",
      "              nan             nan             nan             nan\n",
      "              nan             nan             nan             nan\n",
      "              nan             nan             nan             nan\n",
      "              nan             nan             nan             nan\n",
      "              nan             nan             nan             nan\n",
      "              nan             nan             nan             nan\n",
      "              nan             nan             nan             nan]]\n",
      "[[ 2.34578221e+01  2.34578221e+01  2.34578221e+01  2.34578221e+01\n",
      "   2.34578221e+01  2.34578221e+01  2.34578221e+01  2.34578221e+01\n",
      "   2.34578221e+01  2.34578221e+01  2.34578221e+01  2.34578221e+01\n",
      "   2.34578221e+01  2.34578221e+01  2.34578221e+01  2.34578221e+01\n",
      "  -6.80884244e-02 -6.80884244e-02 -6.80884244e-02 -6.80884244e-02\n",
      "  -6.80884244e-02 -6.80884244e-02 -6.80884244e-02 -6.80884244e-02\n",
      "  -6.80884244e-02 -6.80884244e-02 -6.80884244e-02 -6.80884244e-02\n",
      "  -6.80884244e-02 -6.80884244e-02 -6.80884244e-02 -6.80884244e-02]\n",
      " [-7.31028831e+01 -7.31028831e+01 -7.31028831e+01 -7.31028831e+01\n",
      "  -7.31028831e+01 -7.31028831e+01 -7.31028831e+01 -7.31028831e+01\n",
      "  -7.31028831e+01 -7.31028831e+01 -7.31028831e+01 -7.31028831e+01\n",
      "  -7.31028831e+01 -7.31028831e+01 -7.31028831e+01 -7.31028831e+01\n",
      "  -1.20604033e-01 -1.20604033e-01 -1.20604033e-01 -1.20604033e-01\n",
      "  -1.20604033e-01 -1.20604033e-01 -1.20604033e-01 -1.20604033e-01\n",
      "  -1.20604033e-01 -1.20604033e-01 -1.20604033e-01 -1.20604033e-01\n",
      "  -1.20604033e-01 -1.20604033e-01 -1.20604033e-01 -1.20604033e-01]\n",
      " [ 1.47458876e+02  1.47458876e+02  1.47458876e+02  1.47458876e+02\n",
      "   1.47458876e+02  1.47458876e+02  1.47458876e+02  1.47458876e+02\n",
      "   1.47458876e+02  1.47458876e+02  1.47458876e+02  1.47458876e+02\n",
      "   1.47458876e+02  1.47458876e+02  1.47458876e+02  1.47458876e+02\n",
      "  -5.09984659e-02 -5.09984659e-02 -5.09984659e-02 -5.09984659e-02\n",
      "  -5.09984659e-02 -5.09984659e-02 -5.09984659e-02 -5.09984659e-02\n",
      "  -5.09984659e-02 -5.09984659e-02 -5.09984659e-02 -5.09984659e-02\n",
      "  -5.09984659e-02 -5.09984659e-02 -5.09984659e-02 -5.09984659e-02]\n",
      " [-2.53028888e+02 -2.53028888e+02 -2.53028888e+02 -2.53028888e+02\n",
      "  -2.53028888e+02 -2.53028888e+02 -2.53028888e+02 -2.53028888e+02\n",
      "  -2.53028888e+02 -2.53028888e+02 -2.53028888e+02 -2.53028888e+02\n",
      "  -2.53028888e+02 -2.53028888e+02 -2.53028888e+02 -2.53028888e+02\n",
      "  -3.87311273e-02 -3.87311273e-02 -3.87311273e-02 -3.87311273e-02\n",
      "  -3.87311273e-02 -3.87311273e-02 -3.87311273e-02 -3.87311273e-02\n",
      "  -3.87311273e-02 -3.87311273e-02 -3.87311273e-02 -3.87311273e-02\n",
      "  -3.87311273e-02 -3.87311273e-02 -3.87311273e-02 -3.87311273e-02]\n",
      " [ 3.98950222e+02  3.98950222e+02  3.98950222e+02  3.98950222e+02\n",
      "   3.98950222e+02  3.98950222e+02  3.98950222e+02  3.98950222e+02\n",
      "   3.98950222e+02  3.98950222e+02  3.98950222e+02  3.98950222e+02\n",
      "   3.98950222e+02  3.98950222e+02  3.98950222e+02  3.98950222e+02\n",
      "  -5.23887017e-02 -5.23887017e-02 -5.23887017e-02 -5.23887017e-02\n",
      "  -5.23887017e-02 -5.23887017e-02 -5.23887017e-02 -5.23887017e-02\n",
      "  -5.23887017e-02 -5.23887017e-02 -5.23887017e-02 -5.23887017e-02\n",
      "  -5.23887017e-02 -5.23887017e-02 -5.23887017e-02 -5.23887017e-02]\n",
      " [-5.92729522e+02 -5.92729522e+02 -5.92729522e+02 -5.92729522e+02\n",
      "  -5.92729522e+02 -5.92729522e+02 -5.92729522e+02 -5.92729522e+02\n",
      "  -5.92729522e+02 -5.92729522e+02 -5.92729522e+02 -5.92729522e+02\n",
      "  -5.92729522e+02 -5.92729522e+02 -5.92729522e+02 -5.92729522e+02\n",
      "  -3.97316429e-02 -3.97316429e-02 -3.97316429e-02 -3.97316429e-02\n",
      "  -3.97316429e-02 -3.97316429e-02 -3.97316429e-02 -3.97316429e-02\n",
      "  -3.97316429e-02 -3.97316429e-02 -3.97316429e-02 -3.97316429e-02\n",
      "  -3.97316429e-02 -3.97316429e-02 -3.97316429e-02 -3.97316429e-02]\n",
      " [ 8.45292183e+02  8.45292183e+02  8.45292183e+02  8.45292183e+02\n",
      "   8.45292183e+02  8.45292183e+02  8.45292183e+02  8.45292183e+02\n",
      "   8.45292183e+02  8.45292183e+02  8.45292183e+02  8.45292183e+02\n",
      "   8.45292183e+02  8.45292183e+02  8.45292183e+02  8.45292183e+02\n",
      "  -4.98489976e-02 -4.98489975e-02 -4.98489976e-02 -4.98489975e-02\n",
      "  -4.98489976e-02 -4.98489975e-02 -4.98489976e-02 -4.98489975e-02\n",
      "  -4.98489976e-02 -4.98489975e-02 -4.98489976e-02 -4.98489975e-02\n",
      "  -4.98489976e-02 -4.98489975e-02 -4.98489976e-02 -4.98489975e-02]\n",
      " [            nan             nan             nan             nan\n",
      "              nan             nan             nan             nan\n",
      "              nan             nan             nan             nan\n",
      "              nan             nan             nan             nan\n",
      "              nan             nan             nan             nan\n",
      "              nan             nan             nan             nan\n",
      "              nan             nan             nan             nan\n",
      "              nan             nan             nan             nan]\n",
      " [            nan             nan             nan             nan\n",
      "              nan             nan             nan             nan\n",
      "              nan             nan             nan             nan\n",
      "              nan             nan             nan             nan\n",
      "              nan             nan             nan             nan\n",
      "              nan             nan             nan             nan\n",
      "              nan             nan             nan             nan\n",
      "              nan             nan             nan             nan]\n",
      " [            nan             nan             nan             nan\n",
      "              nan             nan             nan             nan\n",
      "              nan             nan             nan             nan\n",
      "              nan             nan             nan             nan\n",
      "              nan             nan             nan             nan\n",
      "              nan             nan             nan             nan\n",
      "              nan             nan             nan             nan\n",
      "              nan             nan             nan             nan]]\n",
      "[[ 2.34578221e+01  2.34578221e+01  2.34578221e+01  2.34578221e+01\n",
      "   2.34578221e+01  2.34578221e+01  2.34578221e+01  2.34578221e+01\n",
      "   2.34578221e+01  2.34578221e+01  2.34578221e+01  2.34578221e+01\n",
      "   2.34578221e+01  2.34578221e+01  2.34578221e+01  2.34578221e+01\n",
      "  -6.80884244e-02 -6.80884244e-02 -6.80884244e-02 -6.80884244e-02\n",
      "  -6.80884244e-02 -6.80884244e-02 -6.80884244e-02 -6.80884244e-02\n",
      "  -6.80884244e-02 -6.80884244e-02 -6.80884244e-02 -6.80884244e-02\n",
      "  -6.80884244e-02 -6.80884244e-02 -6.80884244e-02 -6.80884244e-02]\n",
      " [-7.31028831e+01 -7.31028831e+01 -7.31028831e+01 -7.31028831e+01\n",
      "  -7.31028831e+01 -7.31028831e+01 -7.31028831e+01 -7.31028831e+01\n",
      "  -7.31028831e+01 -7.31028831e+01 -7.31028831e+01 -7.31028831e+01\n",
      "  -7.31028831e+01 -7.31028831e+01 -7.31028831e+01 -7.31028831e+01\n",
      "  -1.20604033e-01 -1.20604033e-01 -1.20604033e-01 -1.20604033e-01\n",
      "  -1.20604033e-01 -1.20604033e-01 -1.20604033e-01 -1.20604033e-01\n",
      "  -1.20604033e-01 -1.20604033e-01 -1.20604033e-01 -1.20604033e-01\n",
      "  -1.20604033e-01 -1.20604033e-01 -1.20604033e-01 -1.20604033e-01]\n",
      " [ 1.47458876e+02  1.47458876e+02  1.47458876e+02  1.47458876e+02\n",
      "   1.47458876e+02  1.47458876e+02  1.47458876e+02  1.47458876e+02\n",
      "   1.47458876e+02  1.47458876e+02  1.47458876e+02  1.47458876e+02\n",
      "   1.47458876e+02  1.47458876e+02  1.47458876e+02  1.47458876e+02\n",
      "  -5.09984659e-02 -5.09984659e-02 -5.09984659e-02 -5.09984659e-02\n",
      "  -5.09984659e-02 -5.09984659e-02 -5.09984659e-02 -5.09984659e-02\n",
      "  -5.09984659e-02 -5.09984659e-02 -5.09984659e-02 -5.09984659e-02\n",
      "  -5.09984659e-02 -5.09984659e-02 -5.09984659e-02 -5.09984659e-02]\n",
      " [-2.53028888e+02 -2.53028888e+02 -2.53028888e+02 -2.53028888e+02\n",
      "  -2.53028888e+02 -2.53028888e+02 -2.53028888e+02 -2.53028888e+02\n",
      "  -2.53028888e+02 -2.53028888e+02 -2.53028888e+02 -2.53028888e+02\n",
      "  -2.53028888e+02 -2.53028888e+02 -2.53028888e+02 -2.53028888e+02\n",
      "  -3.87311273e-02 -3.87311273e-02 -3.87311273e-02 -3.87311273e-02\n",
      "  -3.87311273e-02 -3.87311273e-02 -3.87311273e-02 -3.87311273e-02\n",
      "  -3.87311273e-02 -3.87311273e-02 -3.87311273e-02 -3.87311273e-02\n",
      "  -3.87311273e-02 -3.87311273e-02 -3.87311273e-02 -3.87311273e-02]\n",
      " [ 3.98950222e+02  3.98950222e+02  3.98950222e+02  3.98950222e+02\n",
      "   3.98950222e+02  3.98950222e+02  3.98950222e+02  3.98950222e+02\n",
      "   3.98950222e+02  3.98950222e+02  3.98950222e+02  3.98950222e+02\n",
      "   3.98950222e+02  3.98950222e+02  3.98950222e+02  3.98950222e+02\n",
      "  -5.23887017e-02 -5.23887017e-02 -5.23887017e-02 -5.23887017e-02\n",
      "  -5.23887017e-02 -5.23887017e-02 -5.23887017e-02 -5.23887017e-02\n",
      "  -5.23887017e-02 -5.23887017e-02 -5.23887017e-02 -5.23887017e-02\n",
      "  -5.23887017e-02 -5.23887017e-02 -5.23887017e-02 -5.23887017e-02]\n",
      " [-5.92729522e+02 -5.92729522e+02 -5.92729522e+02 -5.92729522e+02\n",
      "  -5.92729522e+02 -5.92729522e+02 -5.92729522e+02 -5.92729522e+02\n",
      "  -5.92729522e+02 -5.92729522e+02 -5.92729522e+02 -5.92729522e+02\n",
      "  -5.92729522e+02 -5.92729522e+02 -5.92729522e+02 -5.92729522e+02\n",
      "  -3.97316429e-02 -3.97316429e-02 -3.97316429e-02 -3.97316429e-02\n",
      "  -3.97316429e-02 -3.97316429e-02 -3.97316429e-02 -3.97316429e-02\n",
      "  -3.97316429e-02 -3.97316429e-02 -3.97316429e-02 -3.97316429e-02\n",
      "  -3.97316429e-02 -3.97316429e-02 -3.97316429e-02 -3.97316429e-02]\n",
      " [ 8.45292183e+02  8.45292183e+02  8.45292183e+02  8.45292183e+02\n",
      "   8.45292183e+02  8.45292183e+02  8.45292183e+02  8.45292183e+02\n",
      "   8.45292183e+02  8.45292183e+02  8.45292183e+02  8.45292183e+02\n",
      "   8.45292183e+02  8.45292183e+02  8.45292183e+02  8.45292183e+02\n",
      "  -4.98489976e-02 -4.98489975e-02 -4.98489976e-02 -4.98489975e-02\n",
      "  -4.98489976e-02 -4.98489975e-02 -4.98489976e-02 -4.98489975e-02\n",
      "  -4.98489976e-02 -4.98489975e-02 -4.98489976e-02 -4.98489975e-02\n",
      "  -4.98489976e-02 -4.98489975e-02 -4.98489976e-02 -4.98489975e-02]\n",
      " [-1.16673213e+03 -1.16673213e+03 -1.16673213e+03 -1.16673213e+03\n",
      "  -1.16673213e+03 -1.16673213e+03 -1.16673213e+03 -1.16673213e+03\n",
      "  -1.16673213e+03 -1.16673213e+03 -1.16673213e+03 -1.16673213e+03\n",
      "  -1.16673213e+03 -1.16673213e+03 -1.16673213e+03 -1.16673213e+03\n",
      "  -4.25735600e-02 -4.25735600e-02 -4.25735600e-02 -4.25735600e-02\n",
      "  -4.25735600e-02 -4.25735600e-02 -4.25735600e-02 -4.25735600e-02\n",
      "  -4.25735600e-02 -4.25735600e-02 -4.25735600e-02 -4.25735600e-02\n",
      "  -4.25735600e-02 -4.25735600e-02 -4.25735600e-02 -4.25735600e-02]\n",
      " [            nan             nan             nan             nan\n",
      "              nan             nan             nan             nan\n",
      "              nan             nan             nan             nan\n",
      "              nan             nan             nan             nan\n",
      "              nan             nan             nan             nan\n",
      "              nan             nan             nan             nan\n",
      "              nan             nan             nan             nan\n",
      "              nan             nan             nan             nan]\n",
      " [            nan             nan             nan             nan\n",
      "              nan             nan             nan             nan\n",
      "              nan             nan             nan             nan\n",
      "              nan             nan             nan             nan\n",
      "              nan             nan             nan             nan\n",
      "              nan             nan             nan             nan\n",
      "              nan             nan             nan             nan\n",
      "              nan             nan             nan             nan]]\n",
      "[[ 2.34578221e+01  2.34578221e+01  2.34578221e+01  2.34578221e+01\n",
      "   2.34578221e+01  2.34578221e+01  2.34578221e+01  2.34578221e+01\n",
      "   2.34578221e+01  2.34578221e+01  2.34578221e+01  2.34578221e+01\n",
      "   2.34578221e+01  2.34578221e+01  2.34578221e+01  2.34578221e+01\n",
      "  -6.80884244e-02 -6.80884244e-02 -6.80884244e-02 -6.80884244e-02\n",
      "  -6.80884244e-02 -6.80884244e-02 -6.80884244e-02 -6.80884244e-02\n",
      "  -6.80884244e-02 -6.80884244e-02 -6.80884244e-02 -6.80884244e-02\n",
      "  -6.80884244e-02 -6.80884244e-02 -6.80884244e-02 -6.80884244e-02]\n",
      " [-7.31028831e+01 -7.31028831e+01 -7.31028831e+01 -7.31028831e+01\n",
      "  -7.31028831e+01 -7.31028831e+01 -7.31028831e+01 -7.31028831e+01\n",
      "  -7.31028831e+01 -7.31028831e+01 -7.31028831e+01 -7.31028831e+01\n",
      "  -7.31028831e+01 -7.31028831e+01 -7.31028831e+01 -7.31028831e+01\n",
      "  -1.20604033e-01 -1.20604033e-01 -1.20604033e-01 -1.20604033e-01\n",
      "  -1.20604033e-01 -1.20604033e-01 -1.20604033e-01 -1.20604033e-01\n",
      "  -1.20604033e-01 -1.20604033e-01 -1.20604033e-01 -1.20604033e-01\n",
      "  -1.20604033e-01 -1.20604033e-01 -1.20604033e-01 -1.20604033e-01]\n",
      " [ 1.47458876e+02  1.47458876e+02  1.47458876e+02  1.47458876e+02\n",
      "   1.47458876e+02  1.47458876e+02  1.47458876e+02  1.47458876e+02\n",
      "   1.47458876e+02  1.47458876e+02  1.47458876e+02  1.47458876e+02\n",
      "   1.47458876e+02  1.47458876e+02  1.47458876e+02  1.47458876e+02\n",
      "  -5.09984659e-02 -5.09984659e-02 -5.09984659e-02 -5.09984659e-02\n",
      "  -5.09984659e-02 -5.09984659e-02 -5.09984659e-02 -5.09984659e-02\n",
      "  -5.09984659e-02 -5.09984659e-02 -5.09984659e-02 -5.09984659e-02\n",
      "  -5.09984659e-02 -5.09984659e-02 -5.09984659e-02 -5.09984659e-02]\n",
      " [-2.53028888e+02 -2.53028888e+02 -2.53028888e+02 -2.53028888e+02\n",
      "  -2.53028888e+02 -2.53028888e+02 -2.53028888e+02 -2.53028888e+02\n",
      "  -2.53028888e+02 -2.53028888e+02 -2.53028888e+02 -2.53028888e+02\n",
      "  -2.53028888e+02 -2.53028888e+02 -2.53028888e+02 -2.53028888e+02\n",
      "  -3.87311273e-02 -3.87311273e-02 -3.87311273e-02 -3.87311273e-02\n",
      "  -3.87311273e-02 -3.87311273e-02 -3.87311273e-02 -3.87311273e-02\n",
      "  -3.87311273e-02 -3.87311273e-02 -3.87311273e-02 -3.87311273e-02\n",
      "  -3.87311273e-02 -3.87311273e-02 -3.87311273e-02 -3.87311273e-02]\n",
      " [ 3.98950222e+02  3.98950222e+02  3.98950222e+02  3.98950222e+02\n",
      "   3.98950222e+02  3.98950222e+02  3.98950222e+02  3.98950222e+02\n",
      "   3.98950222e+02  3.98950222e+02  3.98950222e+02  3.98950222e+02\n",
      "   3.98950222e+02  3.98950222e+02  3.98950222e+02  3.98950222e+02\n",
      "  -5.23887017e-02 -5.23887017e-02 -5.23887017e-02 -5.23887017e-02\n",
      "  -5.23887017e-02 -5.23887017e-02 -5.23887017e-02 -5.23887017e-02\n",
      "  -5.23887017e-02 -5.23887017e-02 -5.23887017e-02 -5.23887017e-02\n",
      "  -5.23887017e-02 -5.23887017e-02 -5.23887017e-02 -5.23887017e-02]\n",
      " [-5.92729522e+02 -5.92729522e+02 -5.92729522e+02 -5.92729522e+02\n",
      "  -5.92729522e+02 -5.92729522e+02 -5.92729522e+02 -5.92729522e+02\n",
      "  -5.92729522e+02 -5.92729522e+02 -5.92729522e+02 -5.92729522e+02\n",
      "  -5.92729522e+02 -5.92729522e+02 -5.92729522e+02 -5.92729522e+02\n",
      "  -3.97316429e-02 -3.97316429e-02 -3.97316429e-02 -3.97316429e-02\n",
      "  -3.97316429e-02 -3.97316429e-02 -3.97316429e-02 -3.97316429e-02\n",
      "  -3.97316429e-02 -3.97316429e-02 -3.97316429e-02 -3.97316429e-02\n",
      "  -3.97316429e-02 -3.97316429e-02 -3.97316429e-02 -3.97316429e-02]\n",
      " [ 8.45292183e+02  8.45292183e+02  8.45292183e+02  8.45292183e+02\n",
      "   8.45292183e+02  8.45292183e+02  8.45292183e+02  8.45292183e+02\n",
      "   8.45292183e+02  8.45292183e+02  8.45292183e+02  8.45292183e+02\n",
      "   8.45292183e+02  8.45292183e+02  8.45292183e+02  8.45292183e+02\n",
      "  -4.98489976e-02 -4.98489975e-02 -4.98489976e-02 -4.98489975e-02\n",
      "  -4.98489976e-02 -4.98489975e-02 -4.98489976e-02 -4.98489975e-02\n",
      "  -4.98489976e-02 -4.98489975e-02 -4.98489976e-02 -4.98489975e-02\n",
      "  -4.98489976e-02 -4.98489975e-02 -4.98489976e-02 -4.98489975e-02]\n",
      " [-1.16673213e+03 -1.16673213e+03 -1.16673213e+03 -1.16673213e+03\n",
      "  -1.16673213e+03 -1.16673213e+03 -1.16673213e+03 -1.16673213e+03\n",
      "  -1.16673213e+03 -1.16673213e+03 -1.16673213e+03 -1.16673213e+03\n",
      "  -1.16673213e+03 -1.16673213e+03 -1.16673213e+03 -1.16673213e+03\n",
      "  -4.25735600e-02 -4.25735600e-02 -4.25735600e-02 -4.25735600e-02\n",
      "  -4.25735600e-02 -4.25735600e-02 -4.25735600e-02 -4.25735600e-02\n",
      "  -4.25735600e-02 -4.25735600e-02 -4.25735600e-02 -4.25735600e-02\n",
      "  -4.25735600e-02 -4.25735600e-02 -4.25735600e-02 -4.25735600e-02]\n",
      " [ 1.57066544e+03  1.57066544e+03  1.57066544e+03  1.57066544e+03\n",
      "   1.57066544e+03  1.57066544e+03  1.57066544e+03  1.57066544e+03\n",
      "   1.57066544e+03  1.57066544e+03  1.57066544e+03  1.57066544e+03\n",
      "   1.57066544e+03  1.57066544e+03  1.57066544e+03  1.57066544e+03\n",
      "  -4.72592627e-02 -4.72592627e-02 -4.72592627e-02 -4.72592627e-02\n",
      "  -4.72592627e-02 -4.72592627e-02 -4.72592627e-02 -4.72592627e-02\n",
      "  -4.72592627e-02 -4.72592627e-02 -4.72592627e-02 -4.72592627e-02\n",
      "  -4.72592627e-02 -4.72592627e-02 -4.72592627e-02 -4.72592627e-02]\n",
      " [            nan             nan             nan             nan\n",
      "              nan             nan             nan             nan\n",
      "              nan             nan             nan             nan\n",
      "              nan             nan             nan             nan\n",
      "              nan             nan             nan             nan\n",
      "              nan             nan             nan             nan\n",
      "              nan             nan             nan             nan\n",
      "              nan             nan             nan             nan]]\n",
      "[[ 2.34578221e+01  2.34578221e+01  2.34578221e+01  2.34578221e+01\n",
      "   2.34578221e+01  2.34578221e+01  2.34578221e+01  2.34578221e+01\n",
      "   2.34578221e+01  2.34578221e+01  2.34578221e+01  2.34578221e+01\n",
      "   2.34578221e+01  2.34578221e+01  2.34578221e+01  2.34578221e+01\n",
      "  -6.80884244e-02 -6.80884244e-02 -6.80884244e-02 -6.80884244e-02\n",
      "  -6.80884244e-02 -6.80884244e-02 -6.80884244e-02 -6.80884244e-02\n",
      "  -6.80884244e-02 -6.80884244e-02 -6.80884244e-02 -6.80884244e-02\n",
      "  -6.80884244e-02 -6.80884244e-02 -6.80884244e-02 -6.80884244e-02]\n",
      " [-7.31028831e+01 -7.31028831e+01 -7.31028831e+01 -7.31028831e+01\n",
      "  -7.31028831e+01 -7.31028831e+01 -7.31028831e+01 -7.31028831e+01\n",
      "  -7.31028831e+01 -7.31028831e+01 -7.31028831e+01 -7.31028831e+01\n",
      "  -7.31028831e+01 -7.31028831e+01 -7.31028831e+01 -7.31028831e+01\n",
      "  -1.20604033e-01 -1.20604033e-01 -1.20604033e-01 -1.20604033e-01\n",
      "  -1.20604033e-01 -1.20604033e-01 -1.20604033e-01 -1.20604033e-01\n",
      "  -1.20604033e-01 -1.20604033e-01 -1.20604033e-01 -1.20604033e-01\n",
      "  -1.20604033e-01 -1.20604033e-01 -1.20604033e-01 -1.20604033e-01]\n",
      " [ 1.47458876e+02  1.47458876e+02  1.47458876e+02  1.47458876e+02\n",
      "   1.47458876e+02  1.47458876e+02  1.47458876e+02  1.47458876e+02\n",
      "   1.47458876e+02  1.47458876e+02  1.47458876e+02  1.47458876e+02\n",
      "   1.47458876e+02  1.47458876e+02  1.47458876e+02  1.47458876e+02\n",
      "  -5.09984659e-02 -5.09984659e-02 -5.09984659e-02 -5.09984659e-02\n",
      "  -5.09984659e-02 -5.09984659e-02 -5.09984659e-02 -5.09984659e-02\n",
      "  -5.09984659e-02 -5.09984659e-02 -5.09984659e-02 -5.09984659e-02\n",
      "  -5.09984659e-02 -5.09984659e-02 -5.09984659e-02 -5.09984659e-02]\n",
      " [-2.53028888e+02 -2.53028888e+02 -2.53028888e+02 -2.53028888e+02\n",
      "  -2.53028888e+02 -2.53028888e+02 -2.53028888e+02 -2.53028888e+02\n",
      "  -2.53028888e+02 -2.53028888e+02 -2.53028888e+02 -2.53028888e+02\n",
      "  -2.53028888e+02 -2.53028888e+02 -2.53028888e+02 -2.53028888e+02\n",
      "  -3.87311273e-02 -3.87311273e-02 -3.87311273e-02 -3.87311273e-02\n",
      "  -3.87311273e-02 -3.87311273e-02 -3.87311273e-02 -3.87311273e-02\n",
      "  -3.87311273e-02 -3.87311273e-02 -3.87311273e-02 -3.87311273e-02\n",
      "  -3.87311273e-02 -3.87311273e-02 -3.87311273e-02 -3.87311273e-02]\n",
      " [ 3.98950222e+02  3.98950222e+02  3.98950222e+02  3.98950222e+02\n",
      "   3.98950222e+02  3.98950222e+02  3.98950222e+02  3.98950222e+02\n",
      "   3.98950222e+02  3.98950222e+02  3.98950222e+02  3.98950222e+02\n",
      "   3.98950222e+02  3.98950222e+02  3.98950222e+02  3.98950222e+02\n",
      "  -5.23887017e-02 -5.23887017e-02 -5.23887017e-02 -5.23887017e-02\n",
      "  -5.23887017e-02 -5.23887017e-02 -5.23887017e-02 -5.23887017e-02\n",
      "  -5.23887017e-02 -5.23887017e-02 -5.23887017e-02 -5.23887017e-02\n",
      "  -5.23887017e-02 -5.23887017e-02 -5.23887017e-02 -5.23887017e-02]\n",
      " [-5.92729522e+02 -5.92729522e+02 -5.92729522e+02 -5.92729522e+02\n",
      "  -5.92729522e+02 -5.92729522e+02 -5.92729522e+02 -5.92729522e+02\n",
      "  -5.92729522e+02 -5.92729522e+02 -5.92729522e+02 -5.92729522e+02\n",
      "  -5.92729522e+02 -5.92729522e+02 -5.92729522e+02 -5.92729522e+02\n",
      "  -3.97316429e-02 -3.97316429e-02 -3.97316429e-02 -3.97316429e-02\n",
      "  -3.97316429e-02 -3.97316429e-02 -3.97316429e-02 -3.97316429e-02\n",
      "  -3.97316429e-02 -3.97316429e-02 -3.97316429e-02 -3.97316429e-02\n",
      "  -3.97316429e-02 -3.97316429e-02 -3.97316429e-02 -3.97316429e-02]\n",
      " [ 8.45292183e+02  8.45292183e+02  8.45292183e+02  8.45292183e+02\n",
      "   8.45292183e+02  8.45292183e+02  8.45292183e+02  8.45292183e+02\n",
      "   8.45292183e+02  8.45292183e+02  8.45292183e+02  8.45292183e+02\n",
      "   8.45292183e+02  8.45292183e+02  8.45292183e+02  8.45292183e+02\n",
      "  -4.98489976e-02 -4.98489975e-02 -4.98489976e-02 -4.98489975e-02\n",
      "  -4.98489976e-02 -4.98489975e-02 -4.98489976e-02 -4.98489975e-02\n",
      "  -4.98489976e-02 -4.98489975e-02 -4.98489976e-02 -4.98489975e-02\n",
      "  -4.98489976e-02 -4.98489975e-02 -4.98489976e-02 -4.98489975e-02]\n",
      " [-1.16673213e+03 -1.16673213e+03 -1.16673213e+03 -1.16673213e+03\n",
      "  -1.16673213e+03 -1.16673213e+03 -1.16673213e+03 -1.16673213e+03\n",
      "  -1.16673213e+03 -1.16673213e+03 -1.16673213e+03 -1.16673213e+03\n",
      "  -1.16673213e+03 -1.16673213e+03 -1.16673213e+03 -1.16673213e+03\n",
      "  -4.25735600e-02 -4.25735600e-02 -4.25735600e-02 -4.25735600e-02\n",
      "  -4.25735600e-02 -4.25735600e-02 -4.25735600e-02 -4.25735600e-02\n",
      "  -4.25735600e-02 -4.25735600e-02 -4.25735600e-02 -4.25735600e-02\n",
      "  -4.25735600e-02 -4.25735600e-02 -4.25735600e-02 -4.25735600e-02]\n",
      " [ 1.57066544e+03  1.57066544e+03  1.57066544e+03  1.57066544e+03\n",
      "   1.57066544e+03  1.57066544e+03  1.57066544e+03  1.57066544e+03\n",
      "   1.57066544e+03  1.57066544e+03  1.57066544e+03  1.57066544e+03\n",
      "   1.57066544e+03  1.57066544e+03  1.57066544e+03  1.57066544e+03\n",
      "  -4.72592627e-02 -4.72592627e-02 -4.72592627e-02 -4.72592627e-02\n",
      "  -4.72592627e-02 -4.72592627e-02 -4.72592627e-02 -4.72592627e-02\n",
      "  -4.72592627e-02 -4.72592627e-02 -4.72592627e-02 -4.72592627e-02\n",
      "  -4.72592627e-02 -4.72592627e-02 -4.72592627e-02 -4.72592627e-02]\n",
      " [-2.07020533e+03 -2.07020533e+03 -2.07020533e+03 -2.07020533e+03\n",
      "  -2.07020533e+03 -2.07020533e+03 -2.07020533e+03 -2.07020533e+03\n",
      "  -2.07020533e+03 -2.07020533e+03 -2.07020533e+03 -2.07020533e+03\n",
      "  -2.07020533e+03 -2.07020533e+03 -2.07020533e+03 -2.07020533e+03\n",
      "  -4.47018241e-02 -4.47018242e-02 -4.47018241e-02 -4.47018242e-02\n",
      "  -4.47018241e-02 -4.47018242e-02 -4.47018241e-02 -4.47018242e-02\n",
      "  -4.47018241e-02 -4.47018242e-02 -4.47018241e-02 -4.47018241e-02\n",
      "  -4.47018241e-02 -4.47018241e-02 -4.47018241e-02 -4.47018241e-02]]\n"
     ]
    }
   ],
   "source": [
    "for n in range(0, N+1):\n",
    "    F = form_fs_vector_2d(n,\n",
    "                          fundamental_sequence_gamma1,\n",
    "                          fundamental_sequence_gamma2,\n",
    "                          Gamma1,\n",
    "                          Gamma2,\n",
    "                          fs_coefs,\n",
    "                          f1, f2, mfs_data)\n",
    "    from numpy.linalg import lstsq\n",
    "    alpha_n = lstsq(PHI_MAT, F)[0]\n",
    "    fs_coefs.alpha[n] = alpha_n.T\n",
    "    print(fs_coefs.alpha)"
   ]
  },
  {
   "cell_type": "code",
   "execution_count": 26,
   "metadata": {},
   "outputs": [
    {
     "data": {
      "text/plain": [
       "array([23.4578221 , 23.4578221 , 23.4578221 , 23.4578221 , 23.4578221 ,\n",
       "       23.4578221 , 23.4578221 , 23.4578221 , 23.4578221 , 23.4578221 ,\n",
       "       23.4578221 , 23.4578221 , 23.4578221 , 23.4578221 , 23.4578221 ,\n",
       "       23.4578221 , -0.06808842, -0.06808842, -0.06808842, -0.06808842,\n",
       "       -0.06808842, -0.06808842, -0.06808842, -0.06808842, -0.06808842,\n",
       "       -0.06808842, -0.06808842, -0.06808842, -0.06808842, -0.06808842,\n",
       "       -0.06808842, -0.06808842])"
      ]
     },
     "execution_count": 26,
     "metadata": {},
     "output_type": "execute_result"
    }
   ],
   "source": [
    "fs_coefs.alpha[0]"
   ]
  },
  {
   "cell_type": "code",
   "execution_count": 27,
   "metadata": {},
   "outputs": [],
   "source": [
    "from gpbr.direct.heat_equation.helpers import u_2d"
   ]
  },
  {
   "cell_type": "code",
   "execution_count": 28,
   "metadata": {},
   "outputs": [
    {
     "name": "stdout",
     "output_type": "stream",
     "text": [
      "m = 0\n",
      "2.4046597024416196\n",
      "m = 0\n",
      "2.4046597024416267\n"
     ]
    }
   ],
   "source": [
    "for p in test_points:\n",
    "    print(u_2d(p, 0, source_points, fs_coefs, mfs_polynomyals, mfs_data))"
   ]
  },
  {
   "cell_type": "code",
   "execution_count": 29,
   "metadata": {},
   "outputs": [
    {
     "name": "stdout",
     "output_type": "stream",
     "text": [
      "2.8\n",
      "2.8\n"
     ]
    }
   ],
   "source": [
    "for p in test_points:\n",
    "    print(u2de(p, tn[0]))"
   ]
  },
  {
   "cell_type": "code",
   "execution_count": 30,
   "metadata": {},
   "outputs": [
    {
     "ename": "AssertionError",
     "evalue": "",
     "output_type": "error",
     "traceback": [
      "\u001b[0;31m---------------------------------------------------------------------------\u001b[0m",
      "\u001b[0;31mAssertionError\u001b[0m                            Traceback (most recent call last)",
      "Cell \u001b[0;32mIn[30], line 1\u001b[0m\n\u001b[0;32m----> 1\u001b[0m \u001b[38;5;28;01massert\u001b[39;00m \u001b[38;5;28;01mFalse\u001b[39;00m\n",
      "\u001b[0;31mAssertionError\u001b[0m: "
     ]
    }
   ],
   "source": [
    "assert False"
   ]
  },
  {
   "cell_type": "code",
   "execution_count": 21,
   "metadata": {},
   "outputs": [
    {
     "data": {
      "text/plain": [
       "[Point2D(x=np.float64(1.8369701987210297e-16), y=np.float64(3.0)),\n",
       " Point2D(x=np.float64(-3.0), y=np.float64(3.6739403974420594e-16)),\n",
       " Point2D(x=np.float64(-5.51091059616309e-16), y=np.float64(-3.0)),\n",
       " Point2D(x=np.float64(3.0), y=np.float64(-7.347880794884119e-16)),\n",
       " Point2D(x=np.float64(1.5308084989341915e-17), y=np.float64(0.25)),\n",
       " Point2D(x=np.float64(-0.25), y=np.float64(3.061616997868383e-17)),\n",
       " Point2D(x=np.float64(-4.592425496802574e-17), y=np.float64(-0.25)),\n",
       " Point2D(x=np.float64(0.25), y=np.float64(-6.123233995736766e-17))]"
      ]
     },
     "execution_count": 21,
     "metadata": {},
     "output_type": "execute_result"
    }
   ],
   "source": [
    "yj = [source_points[i] for i in range(0, M)]\n",
    "yj"
   ]
  },
  {
   "cell_type": "code",
   "execution_count": 69,
   "metadata": {},
   "outputs": [
    {
     "name": "stdout",
     "output_type": "stream",
     "text": [
      "3.5\n"
     ]
    },
    {
     "data": {
      "text/plain": [
       "np.float64(0.25)"
      ]
     },
     "execution_count": 69,
     "metadata": {},
     "output_type": "execute_result"
    }
   ],
   "source": [
    "from scipy.special import k0\n",
    "PHI0_MATRIX_G1 = np.zeros((M, M))\n",
    "vals = []\n",
    "for xx in Gamma1.points:\n",
    "    for yy in yj:\n",
    "        vals.append(np.sqrt((xx.x-yy.x)**2 + (xx.y-yy.y)**2))\n",
    "        # print(xx, yy, k0(nu*np.sqrt((xx.x-yy.x)**2 + (xx.y-yy.y)**2)))\n",
    "print(max(vals))\n",
    "min(vals)"
   ]
  },
  {
   "cell_type": "code",
   "execution_count": 49,
   "metadata": {},
   "outputs": [
    {
     "data": {
      "text/plain": [
       "array([[0.05102223, 0.02266603, 0.02266603, 0.05102223, 1.18700247,\n",
       "        0.66106297, 0.66106297, 1.18700247],\n",
       "       [0.06234755, 0.03311828, 0.0195989 , 0.03311828, 1.54150675,\n",
       "        0.83351148, 0.61058242, 0.83351148],\n",
       "       [0.05102223, 0.05102223, 0.02266603, 0.02266603, 1.18700247,\n",
       "        1.18700247, 0.66106297, 0.66106297],\n",
       "       [0.03311828, 0.06234755, 0.03311828, 0.0195989 , 0.83351148,\n",
       "        1.54150675, 0.83351148, 0.61058242],\n",
       "       [0.02266603, 0.05102223, 0.05102223, 0.02266603, 0.66106297,\n",
       "        1.18700247, 1.18700247, 0.66106297],\n",
       "       [0.0195989 , 0.03311828, 0.06234755, 0.03311828, 0.61058242,\n",
       "        0.83351148, 1.54150675, 0.83351148],\n",
       "       [0.02266603, 0.02266603, 0.05102223, 0.05102223, 0.66106297,\n",
       "        0.66106297, 1.18700247, 1.18700247],\n",
       "       [0.03311828, 0.0195989 , 0.03311828, 0.06234755, 0.83351148,\n",
       "        0.61058242, 0.83351148, 1.54150675]])"
      ]
     },
     "execution_count": 49,
     "metadata": {},
     "output_type": "execute_result"
    }
   ],
   "source": [
    "from scipy.special import k0\n",
    "PHI0_MATRIX_G1 = np.zeros((M, M))\n",
    "for xx in Gamma1.points:\n",
    "    for yy in yj:\n",
    "        PHI0_MATRIX_G1[Gamma1.points.index(xx), yj.index(yy)] = k0(nu*np.sqrt((xx.x-yy.x)**2 + (xx.y-yy.y)**2))\n",
    "        # print(xx, yy, k0(nu*np.sqrt((xx.x-yy.x)**2 + (xx.y-yy.y)**2)))\n",
    "PHI0_MATRIX_G1"
   ]
  },
  {
   "cell_type": "code",
   "execution_count": 50,
   "metadata": {},
   "outputs": [
    {
     "data": {
      "text/plain": [
       "array([[0.08815021, 0.00895832, 0.00895832, 0.08815021, 0.26555453,\n",
       "        0.16844107, 0.16844107, 0.26555453],\n",
       "       [0.21380556, 0.02313688, 0.00639986, 0.02313688, 0.29760309,\n",
       "        0.20815061, 0.15537981, 0.20815061],\n",
       "       [0.08815021, 0.08815021, 0.00895832, 0.00895832, 0.26555453,\n",
       "        0.26555453, 0.16844107, 0.16844107],\n",
       "       [0.02313688, 0.21380556, 0.02313688, 0.00639986, 0.20815061,\n",
       "        0.29760309, 0.20815061, 0.15537981],\n",
       "       [0.00895832, 0.08815021, 0.08815021, 0.00895832, 0.16844107,\n",
       "        0.26555453, 0.26555453, 0.16844107],\n",
       "       [0.00639986, 0.02313688, 0.21380556, 0.02313688, 0.15537981,\n",
       "        0.20815061, 0.29760309, 0.20815061],\n",
       "       [0.00895832, 0.00895832, 0.08815021, 0.08815021, 0.16844107,\n",
       "        0.16844107, 0.26555453, 0.26555453],\n",
       "       [0.02313688, 0.00639986, 0.02313688, 0.21380556, 0.20815061,\n",
       "        0.15537981, 0.20815061, 0.29760309]])"
      ]
     },
     "execution_count": 50,
     "metadata": {},
     "output_type": "execute_result"
    }
   ],
   "source": [
    "from scipy.special import k0\n",
    "PHI0_MATRIX_G2 = np.zeros((M, M))\n",
    "for xx in Gamma2.points:\n",
    "    for yy in yj:\n",
    "        PHI0_MATRIX_G2[Gamma2.points.index(xx), yj.index(yy)] = k0(nu*np.sqrt((xx.x-yy.x)**2 + (xx.y-yy.y)**2))\n",
    "        # print(xx, yy, k0(nu*np.sqrt((xx.x-yy.x)**2 + (xx.y-yy.y)**2)))\n",
    "PHI0_MATRIX_G2"
   ]
  },
  {
   "cell_type": "code",
   "execution_count": 51,
   "metadata": {},
   "outputs": [
    {
     "data": {
      "text/plain": [
       "array([[0.05102223, 0.02266603, 0.02266603, 0.05102223, 1.18700247,\n",
       "        0.66106297, 0.66106297, 1.18700247],\n",
       "       [0.06234755, 0.03311828, 0.0195989 , 0.03311828, 1.54150675,\n",
       "        0.83351148, 0.61058242, 0.83351148],\n",
       "       [0.05102223, 0.05102223, 0.02266603, 0.02266603, 1.18700247,\n",
       "        1.18700247, 0.66106297, 0.66106297],\n",
       "       [0.03311828, 0.06234755, 0.03311828, 0.0195989 , 0.83351148,\n",
       "        1.54150675, 0.83351148, 0.61058242],\n",
       "       [0.02266603, 0.05102223, 0.05102223, 0.02266603, 0.66106297,\n",
       "        1.18700247, 1.18700247, 0.66106297],\n",
       "       [0.0195989 , 0.03311828, 0.06234755, 0.03311828, 0.61058242,\n",
       "        0.83351148, 1.54150675, 0.83351148],\n",
       "       [0.02266603, 0.02266603, 0.05102223, 0.05102223, 0.66106297,\n",
       "        0.66106297, 1.18700247, 1.18700247],\n",
       "       [0.03311828, 0.0195989 , 0.03311828, 0.06234755, 0.83351148,\n",
       "        0.61058242, 0.83351148, 1.54150675],\n",
       "       [0.08815021, 0.00895832, 0.00895832, 0.08815021, 0.26555453,\n",
       "        0.16844107, 0.16844107, 0.26555453],\n",
       "       [0.21380556, 0.02313688, 0.00639986, 0.02313688, 0.29760309,\n",
       "        0.20815061, 0.15537981, 0.20815061],\n",
       "       [0.08815021, 0.08815021, 0.00895832, 0.00895832, 0.26555453,\n",
       "        0.26555453, 0.16844107, 0.16844107],\n",
       "       [0.02313688, 0.21380556, 0.02313688, 0.00639986, 0.20815061,\n",
       "        0.29760309, 0.20815061, 0.15537981],\n",
       "       [0.00895832, 0.08815021, 0.08815021, 0.00895832, 0.16844107,\n",
       "        0.26555453, 0.26555453, 0.16844107],\n",
       "       [0.00639986, 0.02313688, 0.21380556, 0.02313688, 0.15537981,\n",
       "        0.20815061, 0.29760309, 0.20815061],\n",
       "       [0.00895832, 0.00895832, 0.08815021, 0.08815021, 0.16844107,\n",
       "        0.16844107, 0.26555453, 0.26555453],\n",
       "       [0.02313688, 0.00639986, 0.02313688, 0.21380556, 0.20815061,\n",
       "        0.15537981, 0.20815061, 0.29760309]])"
      ]
     },
     "execution_count": 51,
     "metadata": {},
     "output_type": "execute_result"
    }
   ],
   "source": [
    "PHI_MATRIX_TEST = np.concatenate((PHI0_MATRIX_G1, PHI0_MATRIX_G2), axis=0)\n",
    "PHI_MATRIX_TEST"
   ]
  },
  {
   "cell_type": "code",
   "execution_count": 52,
   "metadata": {},
   "outputs": [],
   "source": [
    "def f2(x: Point2D , t: float) -> np.array:\n",
    "    return (t**2)*np.exp(-4*t+2)*np.sqrt(x.x**2 + x.y**2)"
   ]
  },
  {
   "cell_type": "code",
   "execution_count": 53,
   "metadata": {},
   "outputs": [],
   "source": [
    "RIGHT_SIDE_G1 = np.zeros(M)\n",
    "for xx in Gamma1.points:\n",
    "    RIGHT_SIDE_G1[Gamma1.points.index(xx)] = 0"
   ]
  },
  {
   "cell_type": "code",
   "execution_count": 54,
   "metadata": {},
   "outputs": [],
   "source": [
    "RIGHT_SIDE_G2 = np.zeros(M)\n",
    "for xx in Gamma2.points:\n",
    "    RIGHT_SIDE_G2[Gamma2.points.index(xx)] = f2(xx, 0.2)"
   ]
  },
  {
   "cell_type": "code",
   "execution_count": 55,
   "metadata": {},
   "outputs": [
    {
     "data": {
      "text/plain": [
       "array([0., 0., 0., 0., 0., 0., 0., 0.])"
      ]
     },
     "execution_count": 55,
     "metadata": {},
     "output_type": "execute_result"
    }
   ],
   "source": [
    "RIGHT_SIDE_G1"
   ]
  },
  {
   "cell_type": "code",
   "execution_count": 56,
   "metadata": {},
   "outputs": [
    {
     "data": {
      "text/plain": [
       "array([0.19920702, 0.19920702, 0.19920702, 0.19920702, 0.19920702,\n",
       "       0.19920702, 0.19920702, 0.19920702])"
      ]
     },
     "execution_count": 56,
     "metadata": {},
     "output_type": "execute_result"
    }
   ],
   "source": [
    "RIGHT_SIDE_G2"
   ]
  },
  {
   "cell_type": "code",
   "execution_count": 57,
   "metadata": {},
   "outputs": [
    {
     "data": {
      "text/plain": [
       "array([0.        , 0.        , 0.        , 0.        , 0.        ,\n",
       "       0.        , 0.        , 0.        , 0.19920702, 0.19920702,\n",
       "       0.19920702, 0.19920702, 0.19920702, 0.19920702, 0.19920702,\n",
       "       0.19920702])"
      ]
     },
     "execution_count": 57,
     "metadata": {},
     "output_type": "execute_result"
    }
   ],
   "source": [
    "RIGHT_SIDE = np.concatenate((RIGHT_SIDE_G1, RIGHT_SIDE_G2), axis=0)\n",
    "RIGHT_SIDE"
   ]
  },
  {
   "cell_type": "code",
   "execution_count": 58,
   "metadata": {},
   "outputs": [
    {
     "data": {
      "text/plain": [
       "array([ 0.98028253,  0.98028253,  0.98028253,  0.98028253, -0.03814373,\n",
       "       -0.03814373, -0.03814373, -0.03814373])"
      ]
     },
     "execution_count": 58,
     "metadata": {},
     "output_type": "execute_result"
    }
   ],
   "source": [
    "from numpy.linalg import lstsq\n",
    "sol_n_eq_0 = lstsq(PHI_MATRIX_TEST, RIGHT_SIDE)[0]\n",
    "sol_n_eq_0"
   ]
  },
  {
   "cell_type": "code",
   "execution_count": 59,
   "metadata": {},
   "outputs": [
    {
     "data": {
      "text/plain": [
       "(array([ 0.98028253,  0.98028253,  0.98028253,  0.98028253, -0.03814373,\n",
       "        -0.03814373, -0.03814373, -0.03814373]),\n",
       " array([0.01041271]),\n",
       " np.int32(8),\n",
       " array([5.46195707, 1.2117086 , 1.2117086 , 0.48742314, 0.27477094,\n",
       "        0.22291709, 0.22291709, 0.17190834]))"
      ]
     },
     "execution_count": 59,
     "metadata": {},
     "output_type": "execute_result"
    }
   ],
   "source": [
    "lstsq(PHI_MATRIX_TEST, RIGHT_SIDE)"
   ]
  },
  {
   "cell_type": "code",
   "execution_count": 60,
   "metadata": {},
   "outputs": [
    {
     "data": {
      "text/plain": [
       "array([ 0.00348642, -0.00041395,  0.00348642, -0.00041395,  0.00348642,\n",
       "       -0.00041395,  0.00348642, -0.00041395,  0.15727918,  0.22806715,\n",
       "        0.15727918,  0.22806715,  0.15727918,  0.22806715,  0.15727918,\n",
       "        0.22806715])"
      ]
     },
     "execution_count": 60,
     "metadata": {},
     "output_type": "execute_result"
    }
   ],
   "source": [
    "PHI_MATRIX_TEST.dot(sol_n_eq_0)"
   ]
  },
  {
   "cell_type": "code",
   "execution_count": null,
   "metadata": {},
   "outputs": [],
   "source": [
    "import matplotlib.pyplot as plt\n",
    "_ = plt.plot(x, y, 'o', label='Original data', markersize=10)\n",
    "_ = plt.plot(x, m*x + c, 'r', label='Fitted line')\n",
    "_ = plt.legend()\n",
    "plt.show()"
   ]
  }
 ],
 "metadata": {
  "kernelspec": {
   "display_name": "3.12.6",
   "language": "python",
   "name": "python3"
  },
  "language_info": {
   "codemirror_mode": {
    "name": "ipython",
    "version": 3
   },
   "file_extension": ".py",
   "mimetype": "text/x-python",
   "name": "python",
   "nbconvert_exporter": "python",
   "pygments_lexer": "ipython3",
   "version": "3.12.6"
  }
 },
 "nbformat": 4,
 "nbformat_minor": 2
}
