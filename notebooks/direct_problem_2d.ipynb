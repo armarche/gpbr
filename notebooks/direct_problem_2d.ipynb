{
 "cells": [
  {
   "cell_type": "code",
   "execution_count": 1,
   "metadata": {},
   "outputs": [],
   "source": [
    "import sys\n",
    "import os\n",
    "sys.path.append(os.path.abspath('..'))  # or the full path to the \"project\" directory\n",
    "import numpy as np\n",
    "import gpbr"
   ]
  },
  {
   "cell_type": "code",
   "execution_count": 2,
   "metadata": {},
   "outputs": [],
   "source": [
    "T = 2 # final time\n",
    "N = 9 # N+1=10 time points\n",
    "# M = 64 # number of collocation points\n",
    "# M = 16 # number of collocation points\n",
    "M = 8 # number of collocation points"
   ]
  },
  {
   "cell_type": "code",
   "execution_count": 3,
   "metadata": {},
   "outputs": [],
   "source": [
    "tn = np.array([(n+1)*(T/(N+1)) for n in range(0, N+1)])\n",
    "h = T/(N+1)"
   ]
  },
  {
   "cell_type": "code",
   "execution_count": 4,
   "metadata": {},
   "outputs": [
    {
     "data": {
      "text/plain": [
       "0.2"
      ]
     },
     "execution_count": 4,
     "metadata": {},
     "output_type": "execute_result"
    }
   ],
   "source": [
    "h"
   ]
  },
  {
   "cell_type": "code",
   "execution_count": 5,
   "metadata": {},
   "outputs": [
    {
     "data": {
      "text/plain": [
       "array([0.2, 0.4, 0.6, 0.8, 1. , 1.2, 1.4, 1.6, 1.8, 2. ])"
      ]
     },
     "execution_count": 5,
     "metadata": {},
     "output_type": "execute_result"
    }
   ],
   "source": [
    "tn"
   ]
  },
  {
   "cell_type": "code",
   "execution_count": 6,
   "metadata": {},
   "outputs": [
    {
     "data": {
      "text/plain": [
       "3.1622776601683795"
      ]
     },
     "execution_count": 6,
     "metadata": {},
     "output_type": "execute_result"
    }
   ],
   "source": [
    "nu = np.sqrt(2/h)\n",
    "nu"
   ]
  },
  {
   "cell_type": "code",
   "execution_count": 7,
   "metadata": {},
   "outputs": [
    {
     "data": {
      "text/plain": [
       "[nan, -20.0, 20.0, -20.0, 20.0, -20.0, 20.0, -20.0, 20.0, -20.0]"
      ]
     },
     "execution_count": 7,
     "metadata": {},
     "output_type": "execute_result"
    }
   ],
   "source": [
    "betta_array = []\n",
    "for n in range(0, N+1):\n",
    "    sign = (-1)**n\n",
    "    betta_array.append(sign*(4/h))\n",
    "betta_array[0] = np.nan\n",
    "betta_array"
   ]
  },
  {
   "cell_type": "code",
   "execution_count": 8,
   "metadata": {},
   "outputs": [],
   "source": [
    "from gpbr.direct.heat_equation.common import MFSData\n",
    "mfs_data =MFSData(N, T, tn, M, betta_array, nu)"
   ]
  },
  {
   "cell_type": "code",
   "execution_count": 9,
   "metadata": {},
   "outputs": [
    {
     "data": {
      "text/plain": [
       "MFSData(N=9, T=2, tn=array([0.2, 0.4, 0.6, 0.8, 1. , 1.2, 1.4, 1.6, 1.8, 2. ]), M=8, Beta=[nan, -20.0, 20.0, -20.0, 20.0, -20.0, 20.0, -20.0, 20.0, -20.0], nu=3.1622776601683795)"
      ]
     },
     "execution_count": 9,
     "metadata": {},
     "output_type": "execute_result"
    }
   ],
   "source": [
    "mfs_data"
   ]
  },
  {
   "cell_type": "code",
   "execution_count": 10,
   "metadata": {},
   "outputs": [
    {
     "data": {
      "text/plain": [
       "CollocationData2D(n=8, theta=array([0.78539816, 1.57079633, 2.35619449, 3.14159265, 3.92699082,\n",
       "       4.71238898, 5.49778714, 6.28318531]))"
      ]
     },
     "execution_count": 10,
     "metadata": {},
     "output_type": "execute_result"
    }
   ],
   "source": [
    "from gpbr.direct.common.collocation import collocation_points_2d, CollocationData2D\n",
    "coll_2d = collocation_points_2d(M, startpoint=False)\n",
    "coll_2d"
   ]
  },
  {
   "cell_type": "code",
   "execution_count": 11,
   "metadata": {},
   "outputs": [],
   "source": [
    "from gpbr.direct.common.boundary import StarlikeCurve, starlike_circle_base, starlike_curve\n",
    "point_circle = starlike_circle_base(coll_2d)\n",
    "\n",
    "Gamma1 = point_circle*0.5\n",
    "Gamma2 = point_circle*1.5"
   ]
  },
  {
   "cell_type": "code",
   "execution_count": 12,
   "metadata": {},
   "outputs": [
    {
     "data": {
      "text/plain": [
       "StarlikeCurve(collocation=CollocationData2D(n=8, theta=array([0.78539816, 1.57079633, 2.35619449, 3.14159265, 3.92699082,\n",
       "       4.71238898, 5.49778714, 6.28318531])), points=[Point2D(x=0.3535533905932738, y=0.3535533905932738), Point2D(x=3.061616997868383e-17, y=0.5), Point2D(x=-0.35355339059327373, y=0.3535533905932738), Point2D(x=-0.5, y=6.123233995736766e-17), Point2D(x=-0.35355339059327384, y=-0.35355339059327373), Point2D(x=-9.184850993605148e-17, y=-0.5), Point2D(x=0.3535533905932737, y=-0.35355339059327384), Point2D(x=0.5, y=-1.2246467991473532e-16)])"
      ]
     },
     "execution_count": 12,
     "metadata": {},
     "output_type": "execute_result"
    }
   ],
   "source": [
    "Gamma1"
   ]
  },
  {
   "cell_type": "code",
   "execution_count": 13,
   "metadata": {},
   "outputs": [],
   "source": [
    "from gpbr.direct.common.source import SourcePoints2D, source_points_2d\n",
    "source_coll_2d = collocation_points_2d(M//2, startpoint=False)\n",
    "source_point_circle = starlike_circle_base(source_coll_2d)\n",
    "eta1 = 0.5\n",
    "eta2 = 2\n",
    "\n",
    "\n",
    "Gamma1_source = source_point_circle*0.5\n",
    "Gamma2_source = source_point_circle*1.5\n",
    "\n",
    "source_points = source_points_2d(eta1, eta2, Gamma1_source, Gamma2_source)"
   ]
  },
  {
   "cell_type": "code",
   "execution_count": 14,
   "metadata": {},
   "outputs": [],
   "source": [
    "## Plot\n",
    "import matplotlib.pyplot as plt\n",
    "def plot_2d(G1: StarlikeCurve, G2: StarlikeCurve, artG1: StarlikeCurve, artG2: StarlikeCurve):\n",
    "    fig_plot, ax_plot = plt.subplots()\n",
    "    g1_x, g1_y = G1.raw_points()\n",
    "    g2_x, g2_y = G2.raw_points()\n",
    "    art1_x, art1_y = artG1.raw_points()\n",
    "    art2_x, art2_y = artG2.raw_points()\n",
    "    ax_plot.plot(g1_x, g1_y, 'b--')\n",
    "    ax_plot.plot(g2_x, g2_y, 'r--')\n",
    "    ax_plot.plot(art1_x, art1_y, 'bo')\n",
    "    ax_plot.plot(art2_x, art2_y, 'ro')\n",
    "\n",
    "    ax_plot.axis('equal')\n",
    "    plt.grid()\n",
    "    plt.show()\n",
    "    plt.close()\n"
   ]
  },
  {
   "cell_type": "code",
   "execution_count": 15,
   "metadata": {},
   "outputs": [
    {
     "data": {
      "image/png": "[encoded data removed]",
      "text/plain": [
       "<Figure size 640x480 with 1 Axes>"
      ]
     },
     "metadata": {},
     "output_type": "display_data"
    }
   ],
   "source": [
    "plot_2d(Gamma1, Gamma2, source_points.gart1, source_points.gart2)"
   ]
  },
  {
   "cell_type": "code",
   "execution_count": 16,
   "metadata": {},
   "outputs": [],
   "source": [
    "from gpbr.direct.heat_equation.polynomial import MFSPolinomials2D, calculate_2d_polinomials\n",
    "\n",
    "mfs_polynomyals = calculate_2d_polinomials(mfs_data, N)"
   ]
  },
  {
   "cell_type": "code",
   "execution_count": 17,
   "metadata": {},
   "outputs": [],
   "source": [
    "from gpbr.direct.heat_equation.fundamental_sequence import fundamental_sequence_2d, FundamentalSequence\n",
    "\n",
    "fundamental_sequence_gamma1 = fundamental_sequence_2d(Gamma1, source_points, mfs_data, mfs_polynomyals)\n",
    "fundamental_sequence_gamma2 = fundamental_sequence_2d(Gamma2, source_points, mfs_data, mfs_polynomyals)"
   ]
  },
  {
   "cell_type": "code",
   "execution_count": 18,
   "metadata": {},
   "outputs": [
    {
     "data": {
      "text/plain": [
       "FundamentalSequence(M=8, phis=array([[[9.16020027e-05, 8.87309086e-06, 8.87309086e-06, 9.16020027e-05,\n",
       "         3.34143799e-01, 8.79883994e-02, 8.79883994e-02, 3.34143799e-01],\n",
       "        [1.61886227e-04, 2.65604475e-05, 5.81520719e-06, 2.65604475e-05,\n",
       "         5.73547853e-01, 1.51948546e-01, 7.26286694e-02, 1.51948546e-01],\n",
       "        [9.16020027e-05, 9.16020027e-05, 8.87309086e-06, 8.87309086e-06,\n",
       "         3.34143799e-01, 3.34143799e-01, 8.79883994e-02, 8.79883994e-02],\n",
       "        [2.65604475e-05, 1.61886227e-04, 2.65604475e-05, 5.81520719e-06,\n",
       "         1.51948546e-01, 5.73547853e-01, 1.51948546e-01, 7.26286694e-02],\n",
       "        [8.87309086e-06, 9.16020027e-05, 9.16020027e-05, 8.87309086e-06,\n",
       "         8.79883994e-02, 3.34143799e-01, 3.34143799e-01, 8.79883994e-02],\n",
       "        [5.81520719e-06, 2.65604475e-05, 1.61886227e-04, 2.65604475e-05,\n",
       "         7.26286694e-02, 1.51948546e-01, 5.73547853e-01, 1.51948546e-01],\n",
       "        [8.87309086e-06, 8.87309086e-06, 9.16020027e-05, 9.16020027e-05,\n",
       "         8.79883994e-02, 8.79883994e-02, 3.34143799e-01, 3.34143799e-01],\n",
       "        [2.65604475e-05, 5.81520719e-06, 2.65604475e-05, 1.61886227e-04,\n",
       "         1.51948546e-01, 7.26286694e-02, 1.51948546e-01, 5.73547853e-01]],\n",
       "\n",
       "       [[9.09592937e-04, 1.07833616e-04, 1.07833616e-04, 9.09592937e-04,\n",
       "         8.69154603e-01, 3.23023107e-01, 3.23023107e-01, 8.69154603e-01],\n",
       "        [1.52036531e-03, 2.94976737e-04, 7.30249087e-05, 2.94976737e-04,\n",
       "         1.26724386e+00, 4.89232391e-01, 2.78388692e-01, 4.89232391e-01],\n",
       "        [9.09592937e-04, 9.09592937e-04, 1.07833616e-04, 1.07833616e-04,\n",
       "         8.69154603e-01, 8.69154603e-01, 3.23023107e-01, 3.23023107e-01],\n",
       "        [2.94976737e-04, 1.52036531e-03, 2.94976737e-04, 7.30249087e-05,\n",
       "         4.89232391e-01, 1.26724386e+00, 4.89232391e-01, 2.78388692e-01],\n",
       "        [1.07833616e-04, 9.09592937e-04, 9.09592937e-04, 1.07833616e-04,\n",
       "         3.23023107e-01, 8.69154603e-01, 8.69154603e-01, 3.23023107e-01],\n",
       "        [7.30249087e-05, 2.94976737e-04, 1.52036531e-03, 2.94976737e-04,\n",
       "         2.78388692e-01, 4.89232391e-01, 1.26724386e+00, 4.89232391e-01],\n",
       "        [1.07833616e-04, 1.07833616e-04, 9.09592937e-04, 9.09592937e-04,\n",
       "         3.23023107e-01, 3.23023107e-01, 8.69154603e-01, 8.69154603e-01],\n",
       "        [2.94976737e-04, 7.30249087e-05, 2.94976737e-04, 1.52036531e-03,\n",
       "         4.89232391e-01, 2.78388692e-01, 4.89232391e-01, 1.26724386e+00]],\n",
       "\n",
       "       [[4.17459960e-03, 6.12327409e-04, 6.12327409e-04, 4.17459960e-03,\n",
       "         1.09591011e+00, 5.38276473e-01, 5.38276473e-01, 1.09591011e+00],\n",
       "        [6.57930992e-03, 1.52339744e-03, 4.29206349e-04, 1.52339744e-03,\n",
       "         1.44647757e+00, 7.26651993e-01, 4.82656825e-01, 7.26651993e-01],\n",
       "        [4.17459960e-03, 4.17459960e-03, 6.12327409e-04, 6.12327409e-04,\n",
       "         1.09591011e+00, 1.09591011e+00, 5.38276473e-01, 5.38276473e-01],\n",
       "        [1.52339744e-03, 6.57930992e-03, 1.52339744e-03, 4.29206349e-04,\n",
       "         7.26651993e-01, 1.44647757e+00, 7.26651993e-01, 4.82656825e-01],\n",
       "        [6.12327409e-04, 4.17459960e-03, 4.17459960e-03, 6.12327409e-04,\n",
       "         5.38276473e-01, 1.09591011e+00, 1.09591011e+00, 5.38276473e-01],\n",
       "        [4.29206349e-04, 1.52339744e-03, 6.57930992e-03, 1.52339744e-03,\n",
       "         4.82656825e-01, 7.26651993e-01, 1.44647757e+00, 7.26651993e-01],\n",
       "        [6.12327409e-04, 6.12327409e-04, 4.17459960e-03, 4.17459960e-03,\n",
       "         5.38276473e-01, 5.38276473e-01, 1.09591011e+00, 1.09591011e+00],\n",
       "        [1.52339744e-03, 4.29206349e-04, 1.52339744e-03, 6.57930992e-03,\n",
       "         7.26651993e-01, 4.82656825e-01, 7.26651993e-01, 1.44647757e+00]],\n",
       "\n",
       "       [[1.19892510e-02, 2.18450479e-03, 2.18450479e-03, 1.19892510e-02,\n",
       "         1.24409910e+00, 6.64780806e-01, 6.64780806e-01, 1.24409910e+00],\n",
       "        [1.78103303e-02, 4.93200686e-03, 1.58635336e-03, 4.93200686e-03,\n",
       "         1.63048044e+00, 8.56468876e-01, 6.07964765e-01, 8.56468876e-01],\n",
       "        [1.19892510e-02, 1.19892510e-02, 2.18450479e-03, 2.18450479e-03,\n",
       "         1.24409910e+00, 1.24409910e+00, 6.64780806e-01, 6.64780806e-01],\n",
       "        [4.93200686e-03, 1.78103303e-02, 4.93200686e-03, 1.58635336e-03,\n",
       "         8.56468876e-01, 1.63048044e+00, 8.56468876e-01, 6.07964765e-01],\n",
       "        [2.18450479e-03, 1.19892510e-02, 1.19892510e-02, 2.18450479e-03,\n",
       "         6.64780806e-01, 1.24409910e+00, 1.24409910e+00, 6.64780806e-01],\n",
       "        [1.58635336e-03, 4.93200686e-03, 1.78103303e-02, 4.93200686e-03,\n",
       "         6.07964765e-01, 8.56468876e-01, 1.63048044e+00, 8.56468876e-01],\n",
       "        [2.18450479e-03, 2.18450479e-03, 1.19892510e-02, 1.19892510e-02,\n",
       "         6.64780806e-01, 6.64780806e-01, 1.24409910e+00, 1.24409910e+00],\n",
       "        [4.93200686e-03, 1.58635336e-03, 4.93200686e-03, 1.78103303e-02,\n",
       "         8.56468876e-01, 6.07964765e-01, 8.56468876e-01, 1.63048044e+00]],\n",
       "\n",
       "       [[2.49315876e-02, 5.59411263e-03, 5.59411263e-03, 2.49315876e-02,\n",
       "         1.37547888e+00, 7.76137878e-01, 7.76137878e-01, 1.37547888e+00],\n",
       "        [3.50671210e-02, 1.14914193e-02, 4.20635560e-03, 1.14914193e-02,\n",
       "         1.74678923e+00, 9.80047831e-01, 7.15083564e-01, 9.80047831e-01],\n",
       "        [2.49315876e-02, 2.49315876e-02, 5.59411263e-03, 5.59411263e-03,\n",
       "         1.37547888e+00, 1.37547888e+00, 7.76137878e-01, 7.76137878e-01],\n",
       "        [1.14914193e-02, 3.50671210e-02, 1.14914193e-02, 4.20635560e-03,\n",
       "         9.80047831e-01, 1.74678923e+00, 9.80047831e-01, 7.15083564e-01],\n",
       "        [5.59411263e-03, 2.49315876e-02, 2.49315876e-02, 5.59411263e-03,\n",
       "         7.76137878e-01, 1.37547888e+00, 1.37547888e+00, 7.76137878e-01],\n",
       "        [4.20635560e-03, 1.14914193e-02, 3.50671210e-02, 1.14914193e-02,\n",
       "         7.15083564e-01, 9.80047831e-01, 1.74678923e+00, 9.80047831e-01],\n",
       "        [5.59411263e-03, 5.59411263e-03, 2.49315876e-02, 2.49315876e-02,\n",
       "         7.76137878e-01, 7.76137878e-01, 1.37547888e+00, 1.37547888e+00],\n",
       "        [1.14914193e-02, 4.20635560e-03, 1.14914193e-02, 3.50671210e-02,\n",
       "         9.80047831e-01, 7.15083564e-01, 9.80047831e-01, 1.74678923e+00]],\n",
       "\n",
       "       [[4.16400555e-02, 1.12256950e-02, 1.12256950e-02, 4.16400555e-02,\n",
       "         1.46189057e+00, 8.64063993e-01, 8.64063993e-01, 1.46189057e+00],\n",
       "        [5.59964318e-02, 2.11714198e-02, 8.71745230e-03, 2.11714198e-02,\n",
       "         1.84507945e+00, 1.06716218e+00, 8.02513128e-01, 1.06716218e+00],\n",
       "        [4.16400555e-02, 4.16400555e-02, 1.12256950e-02, 1.12256950e-02,\n",
       "         1.46189057e+00, 1.46189057e+00, 8.64063993e-01, 8.64063993e-01],\n",
       "        [2.11714198e-02, 5.59964318e-02, 2.11714198e-02, 8.71745230e-03,\n",
       "         1.06716218e+00, 1.84507945e+00, 1.06716218e+00, 8.02513128e-01],\n",
       "        [1.12256950e-02, 4.16400555e-02, 4.16400555e-02, 1.12256950e-02,\n",
       "         8.64063993e-01, 1.46189057e+00, 1.46189057e+00, 8.64063993e-01],\n",
       "        [8.71745230e-03, 2.11714198e-02, 5.59964318e-02, 2.11714198e-02,\n",
       "         8.02513128e-01, 1.06716218e+00, 1.84507945e+00, 1.06716218e+00],\n",
       "        [1.12256950e-02, 1.12256950e-02, 4.16400555e-02, 4.16400555e-02,\n",
       "         8.64063993e-01, 8.64063993e-01, 1.46189057e+00, 1.46189057e+00],\n",
       "        [2.11714198e-02, 8.71745230e-03, 2.11714198e-02, 5.59964318e-02,\n",
       "         1.06716218e+00, 8.02513128e-01, 1.06716218e+00, 1.84507945e+00]],\n",
       "\n",
       "       [[6.04720345e-02, 1.89087022e-02, 1.89087022e-02, 6.04720345e-02,\n",
       "         1.55155565e+00, 9.38940004e-01, 9.38940004e-01, 1.55155565e+00],\n",
       "        [7.86407473e-02, 3.32113559e-02, 1.50966204e-02, 3.32113559e-02,\n",
       "         1.93051363e+00, 1.14817434e+00, 8.75690142e-01, 1.14817434e+00],\n",
       "        [6.04720345e-02, 6.04720345e-02, 1.89087022e-02, 1.89087022e-02,\n",
       "         1.55155565e+00, 1.55155565e+00, 9.38940004e-01, 9.38940004e-01],\n",
       "        [3.32113559e-02, 7.86407473e-02, 3.32113559e-02, 1.50966204e-02,\n",
       "         1.14817434e+00, 1.93051363e+00, 1.14817434e+00, 8.75690142e-01],\n",
       "        [1.89087022e-02, 6.04720345e-02, 6.04720345e-02, 1.89087022e-02,\n",
       "         9.38940004e-01, 1.55155565e+00, 1.55155565e+00, 9.38940004e-01],\n",
       "        [1.50966204e-02, 3.32113559e-02, 7.86407473e-02, 3.32113559e-02,\n",
       "         8.75690142e-01, 1.14817434e+00, 1.93051363e+00, 1.14817434e+00],\n",
       "        [1.89087022e-02, 1.89087022e-02, 6.04720345e-02, 6.04720345e-02,\n",
       "         9.38940004e-01, 9.38940004e-01, 1.55155565e+00, 1.55155565e+00],\n",
       "        [3.32113559e-02, 1.50966204e-02, 3.32113559e-02, 7.86407473e-02,\n",
       "         1.14817434e+00, 8.75690142e-01, 1.14817434e+00, 1.93051363e+00]],\n",
       "\n",
       "       [[8.04655671e-02, 2.82175382e-02, 2.82175382e-02, 8.04655671e-02,\n",
       "         1.61429260e+00, 1.00535042e+00, 1.00535042e+00, 1.61429260e+00],\n",
       "        [1.02063604e-01, 4.68562059e-02, 2.30408128e-02, 4.68562059e-02,\n",
       "         1.99667241e+00, 1.21445071e+00, 9.41497601e-01, 1.21445071e+00],\n",
       "        [8.04655671e-02, 8.04655671e-02, 2.82175382e-02, 2.82175382e-02,\n",
       "         1.61429260e+00, 1.61429260e+00, 1.00535042e+00, 1.00535042e+00],\n",
       "        [4.68562059e-02, 1.02063604e-01, 4.68562059e-02, 2.30408128e-02,\n",
       "         1.21445071e+00, 1.99667241e+00, 1.21445071e+00, 9.41497601e-01],\n",
       "        [2.82175382e-02, 8.04655671e-02, 8.04655671e-02, 2.82175382e-02,\n",
       "         1.00535042e+00, 1.61429260e+00, 1.61429260e+00, 1.00535042e+00],\n",
       "        [2.30408128e-02, 4.68562059e-02, 1.02063604e-01, 4.68562059e-02,\n",
       "         9.41497601e-01, 1.21445071e+00, 1.99667241e+00, 1.21445071e+00],\n",
       "        [2.82175382e-02, 2.82175382e-02, 8.04655671e-02, 8.04655671e-02,\n",
       "         1.00535042e+00, 1.00535042e+00, 1.61429260e+00, 1.61429260e+00],\n",
       "        [4.68562059e-02, 2.30408128e-02, 4.68562059e-02, 1.02063604e-01,\n",
       "         1.21445071e+00, 9.41497601e-01, 1.21445071e+00, 1.99667241e+00]],\n",
       "\n",
       "       [[1.01007590e-01, 3.87532583e-02, 3.87532583e-02, 1.01007590e-01,\n",
       "         1.68107958e+00, 1.06229857e+00, 1.06229857e+00, 1.68107958e+00],\n",
       "        [1.25641747e-01, 6.15703881e-02, 3.22149518e-02, 6.15703881e-02,\n",
       "         2.06354488e+00, 1.27438881e+00, 9.97748818e-01, 1.27438881e+00],\n",
       "        [1.01007590e-01, 1.01007590e-01, 3.87532583e-02, 3.87532583e-02,\n",
       "         1.68107958e+00, 1.68107958e+00, 1.06229857e+00, 1.06229857e+00],\n",
       "        [6.15703881e-02, 1.25641747e-01, 6.15703881e-02, 3.22149518e-02,\n",
       "         1.27438881e+00, 2.06354488e+00, 1.27438881e+00, 9.97748818e-01],\n",
       "        [3.87532583e-02, 1.01007590e-01, 1.01007590e-01, 3.87532583e-02,\n",
       "         1.06229857e+00, 1.68107958e+00, 1.68107958e+00, 1.06229857e+00],\n",
       "        [3.22149518e-02, 6.15703881e-02, 1.25641747e-01, 6.15703881e-02,\n",
       "         9.97748818e-01, 1.27438881e+00, 2.06354488e+00, 1.27438881e+00],\n",
       "        [3.87532583e-02, 3.87532583e-02, 1.01007590e-01, 1.01007590e-01,\n",
       "         1.06229857e+00, 1.06229857e+00, 1.68107958e+00, 1.68107958e+00],\n",
       "        [6.15703881e-02, 3.22149518e-02, 6.15703881e-02, 1.25641747e-01,\n",
       "         1.27438881e+00, 9.97748818e-01, 1.27438881e+00, 2.06354488e+00]],\n",
       "\n",
       "       [[1.21668952e-01, 5.01863235e-02, 5.01863235e-02, 1.21668952e-01,\n",
       "         1.73118433e+00, 1.11512984e+00, 1.11512984e+00, 1.73118433e+00],\n",
       "        [1.48990335e-01, 7.69445932e-02, 4.23269202e-02, 7.69445932e-02,\n",
       "         2.11358702e+00, 1.32772723e+00, 1.04998620e+00, 1.32772723e+00],\n",
       "        [1.21668952e-01, 1.21668952e-01, 5.01863235e-02, 5.01863235e-02,\n",
       "         1.73118433e+00, 1.73118433e+00, 1.11512984e+00, 1.11512984e+00],\n",
       "        [7.69445932e-02, 1.48990335e-01, 7.69445932e-02, 4.23269202e-02,\n",
       "         1.32772723e+00, 2.11358702e+00, 1.32772723e+00, 1.04998620e+00],\n",
       "        [5.01863235e-02, 1.21668952e-01, 1.21668952e-01, 5.01863235e-02,\n",
       "         1.11512984e+00, 1.73118433e+00, 1.73118433e+00, 1.11512984e+00],\n",
       "        [4.23269202e-02, 7.69445932e-02, 1.48990335e-01, 7.69445932e-02,\n",
       "         1.04998620e+00, 1.32772723e+00, 2.11358702e+00, 1.32772723e+00],\n",
       "        [5.01863235e-02, 5.01863235e-02, 1.21668952e-01, 1.21668952e-01,\n",
       "         1.11512984e+00, 1.11512984e+00, 1.73118433e+00, 1.73118433e+00],\n",
       "        [7.69445932e-02, 4.23269202e-02, 7.69445932e-02, 1.48990335e-01,\n",
       "         1.32772723e+00, 1.04998620e+00, 1.32772723e+00, 2.11358702e+00]]]))"
      ]
     },
     "execution_count": 18,
     "metadata": {},
     "output_type": "execute_result"
    }
   ],
   "source": [
    "fundamental_sequence_gamma1"
   ]
  },
  {
   "cell_type": "code",
   "execution_count": 19,
   "metadata": {},
   "outputs": [],
   "source": [
    "from gpbr.direct.common.boundary import Point2D, Point3D\n",
    "from gpbr.direct.common.distance import point_distance\n",
    "\n",
    "\n",
    "def f1(x: Point2D | Point3D , t):\n",
    "    return 0\n",
    "\n",
    "def f2(x: Point2D | Point3D, t: float) -> np.array:\n",
    "    return (t**2)*np.exp(-4*t+2)*point_distance(x, Point2D(0,0))"
   ]
  },
  {
   "cell_type": "code",
   "execution_count": 20,
   "metadata": {},
   "outputs": [
    {
     "data": {
      "text/plain": [
       "(16, 8)"
      ]
     },
     "execution_count": 20,
     "metadata": {},
     "output_type": "execute_result"
    }
   ],
   "source": [
    "from gpbr.direct.heat_equation.helpers import form_fs_matrix, form_fs_vector_2d\n",
    "PHI_MAT = form_fs_matrix(fundamental_sequence_gamma1, fundamental_sequence_gamma2)\n",
    "PHI_MAT.shape"
   ]
  },
  {
   "cell_type": "code",
   "execution_count": 21,
   "metadata": {},
   "outputs": [],
   "source": [
    "from gpbr.direct.heat_equation.fundamental_sequence import FundamentalSequenceCoefs\n",
    "\n",
    "alpha_coeeff = np.empty((N+1, M), dtype=np.float64)\n",
    "alpha_coeeff[:] = np.nan\n",
    "fs_coefs = FundamentalSequenceCoefs(alpha_coeeff)"
   ]
  },
  {
   "cell_type": "code",
   "execution_count": 22,
   "metadata": {},
   "outputs": [
    {
     "name": "stdout",
     "output_type": "stream",
     "text": [
      "[[ 4.62618774e+01  4.62618774e+01  4.62618774e+01  4.62618774e+01\n",
      "  -9.03120339e-03 -9.03120339e-03 -9.03120339e-03 -9.03120339e-03]\n",
      " [            nan             nan             nan             nan\n",
      "              nan             nan             nan             nan]\n",
      " [            nan             nan             nan             nan\n",
      "              nan             nan             nan             nan]\n",
      " [            nan             nan             nan             nan\n",
      "              nan             nan             nan             nan]\n",
      " [            nan             nan             nan             nan\n",
      "              nan             nan             nan             nan]\n",
      " [            nan             nan             nan             nan\n",
      "              nan             nan             nan             nan]\n",
      " [            nan             nan             nan             nan\n",
      "              nan             nan             nan             nan]\n",
      " [            nan             nan             nan             nan\n",
      "              nan             nan             nan             nan]\n",
      " [            nan             nan             nan             nan\n",
      "              nan             nan             nan             nan]\n",
      " [            nan             nan             nan             nan\n",
      "              nan             nan             nan             nan]]\n",
      "[[ 4.62618774e+01  4.62618774e+01  4.62618774e+01  4.62618774e+01\n",
      "  -9.03120339e-03 -9.03120339e-03 -9.03120339e-03 -9.03120339e-03]\n",
      " [-2.08418477e+02 -2.08418477e+02 -2.08418477e+02 -2.08418477e+02\n",
      "  -3.26654736e-02 -3.26654736e-02 -3.26654736e-02 -3.26654736e-02]\n",
      " [            nan             nan             nan             nan\n",
      "              nan             nan             nan             nan]\n",
      " [            nan             nan             nan             nan\n",
      "              nan             nan             nan             nan]\n",
      " [            nan             nan             nan             nan\n",
      "              nan             nan             nan             nan]\n",
      " [            nan             nan             nan             nan\n",
      "              nan             nan             nan             nan]\n",
      " [            nan             nan             nan             nan\n",
      "              nan             nan             nan             nan]\n",
      " [            nan             nan             nan             nan\n",
      "              nan             nan             nan             nan]\n",
      " [            nan             nan             nan             nan\n",
      "              nan             nan             nan             nan]\n",
      " [            nan             nan             nan             nan\n",
      "              nan             nan             nan             nan]]\n",
      "[[ 4.62618774e+01  4.62618774e+01  4.62618774e+01  4.62618774e+01\n",
      "  -9.03120339e-03 -9.03120339e-03 -9.03120339e-03 -9.03120339e-03]\n",
      " [-2.08418477e+02 -2.08418477e+02 -2.08418477e+02 -2.08418477e+02\n",
      "  -3.26654736e-02 -3.26654736e-02 -3.26654736e-02 -3.26654736e-02]\n",
      " [ 5.62647067e+02  5.62647067e+02  5.62647067e+02  5.62647067e+02\n",
      "  -2.42772144e-02 -2.42772144e-02 -2.42772144e-02 -2.42772144e-02]\n",
      " [            nan             nan             nan             nan\n",
      "              nan             nan             nan             nan]\n",
      " [            nan             nan             nan             nan\n",
      "              nan             nan             nan             nan]\n",
      " [            nan             nan             nan             nan\n",
      "              nan             nan             nan             nan]\n",
      " [            nan             nan             nan             nan\n",
      "              nan             nan             nan             nan]\n",
      " [            nan             nan             nan             nan\n",
      "              nan             nan             nan             nan]\n",
      " [            nan             nan             nan             nan\n",
      "              nan             nan             nan             nan]\n",
      " [            nan             nan             nan             nan\n",
      "              nan             nan             nan             nan]]\n",
      "[[ 4.62618774e+01  4.62618774e+01  4.62618774e+01  4.62618774e+01\n",
      "  -9.03120339e-03 -9.03120339e-03 -9.03120339e-03 -9.03120339e-03]\n",
      " [-2.08418477e+02 -2.08418477e+02 -2.08418477e+02 -2.08418477e+02\n",
      "  -3.26654736e-02 -3.26654736e-02 -3.26654736e-02 -3.26654736e-02]\n",
      " [ 5.62647067e+02  5.62647067e+02  5.62647067e+02  5.62647067e+02\n",
      "  -2.42772144e-02 -2.42772144e-02 -2.42772144e-02 -2.42772144e-02]\n",
      " [-1.25353017e+03 -1.25353017e+03 -1.25353017e+03 -1.25353017e+03\n",
      "  -6.48136568e-03 -6.48136568e-03 -6.48136568e-03 -6.48136568e-03]\n",
      " [            nan             nan             nan             nan\n",
      "              nan             nan             nan             nan]\n",
      " [            nan             nan             nan             nan\n",
      "              nan             nan             nan             nan]\n",
      " [            nan             nan             nan             nan\n",
      "              nan             nan             nan             nan]\n",
      " [            nan             nan             nan             nan\n",
      "              nan             nan             nan             nan]\n",
      " [            nan             nan             nan             nan\n",
      "              nan             nan             nan             nan]\n",
      " [            nan             nan             nan             nan\n",
      "              nan             nan             nan             nan]]\n",
      "[[ 4.62618774e+01  4.62618774e+01  4.62618774e+01  4.62618774e+01\n",
      "  -9.03120339e-03 -9.03120339e-03 -9.03120339e-03 -9.03120339e-03]\n",
      " [-2.08418477e+02 -2.08418477e+02 -2.08418477e+02 -2.08418477e+02\n",
      "  -3.26654736e-02 -3.26654736e-02 -3.26654736e-02 -3.26654736e-02]\n",
      " [ 5.62647067e+02  5.62647067e+02  5.62647067e+02  5.62647067e+02\n",
      "  -2.42772144e-02 -2.42772144e-02 -2.42772144e-02 -2.42772144e-02]\n",
      " [-1.25353017e+03 -1.25353017e+03 -1.25353017e+03 -1.25353017e+03\n",
      "  -6.48136568e-03 -6.48136568e-03 -6.48136568e-03 -6.48136568e-03]\n",
      " [ 2.48396894e+03  2.48396894e+03  2.48396894e+03  2.48396894e+03\n",
      "   1.28795920e-02  1.28795920e-02  1.28795920e-02  1.28795920e-02]\n",
      " [            nan             nan             nan             nan\n",
      "              nan             nan             nan             nan]\n",
      " [            nan             nan             nan             nan\n",
      "              nan             nan             nan             nan]\n",
      " [            nan             nan             nan             nan\n",
      "              nan             nan             nan             nan]\n",
      " [            nan             nan             nan             nan\n",
      "              nan             nan             nan             nan]\n",
      " [            nan             nan             nan             nan\n",
      "              nan             nan             nan             nan]]\n",
      "[[ 4.62618774e+01  4.62618774e+01  4.62618774e+01  4.62618774e+01\n",
      "  -9.03120339e-03 -9.03120339e-03 -9.03120339e-03 -9.03120339e-03]\n",
      " [-2.08418477e+02 -2.08418477e+02 -2.08418477e+02 -2.08418477e+02\n",
      "  -3.26654736e-02 -3.26654736e-02 -3.26654736e-02 -3.26654736e-02]\n",
      " [ 5.62647067e+02  5.62647067e+02  5.62647067e+02  5.62647067e+02\n",
      "  -2.42772144e-02 -2.42772144e-02 -2.42772144e-02 -2.42772144e-02]\n",
      " [-1.25353017e+03 -1.25353017e+03 -1.25353017e+03 -1.25353017e+03\n",
      "  -6.48136568e-03 -6.48136568e-03 -6.48136568e-03 -6.48136568e-03]\n",
      " [ 2.48396894e+03  2.48396894e+03  2.48396894e+03  2.48396894e+03\n",
      "   1.28795920e-02  1.28795920e-02  1.28795920e-02  1.28795920e-02]\n",
      " [-4.53755261e+03 -4.53755261e+03 -4.53755261e+03 -4.53755261e+03\n",
      "   1.22882834e-02  1.22882834e-02  1.22882834e-02  1.22882834e-02]\n",
      " [            nan             nan             nan             nan\n",
      "              nan             nan             nan             nan]\n",
      " [            nan             nan             nan             nan\n",
      "              nan             nan             nan             nan]\n",
      " [            nan             nan             nan             nan\n",
      "              nan             nan             nan             nan]\n",
      " [            nan             nan             nan             nan\n",
      "              nan             nan             nan             nan]]\n",
      "[[ 4.62618774e+01  4.62618774e+01  4.62618774e+01  4.62618774e+01\n",
      "  -9.03120339e-03 -9.03120339e-03 -9.03120339e-03 -9.03120339e-03]\n",
      " [-2.08418477e+02 -2.08418477e+02 -2.08418477e+02 -2.08418477e+02\n",
      "  -3.26654736e-02 -3.26654736e-02 -3.26654736e-02 -3.26654736e-02]\n",
      " [ 5.62647067e+02  5.62647067e+02  5.62647067e+02  5.62647067e+02\n",
      "  -2.42772144e-02 -2.42772144e-02 -2.42772144e-02 -2.42772144e-02]\n",
      " [-1.25353017e+03 -1.25353017e+03 -1.25353017e+03 -1.25353017e+03\n",
      "  -6.48136568e-03 -6.48136568e-03 -6.48136568e-03 -6.48136568e-03]\n",
      " [ 2.48396894e+03  2.48396894e+03  2.48396894e+03  2.48396894e+03\n",
      "   1.28795920e-02  1.28795920e-02  1.28795920e-02  1.28795920e-02]\n",
      " [-4.53755261e+03 -4.53755261e+03 -4.53755261e+03 -4.53755261e+03\n",
      "   1.22882834e-02  1.22882834e-02  1.22882834e-02  1.22882834e-02]\n",
      " [ 7.81142853e+03  7.81142853e+03  7.81142853e+03  7.81142853e+03\n",
      "   1.78283798e-02  1.78283798e-02  1.78283798e-02  1.78283798e-02]\n",
      " [            nan             nan             nan             nan\n",
      "              nan             nan             nan             nan]\n",
      " [            nan             nan             nan             nan\n",
      "              nan             nan             nan             nan]\n",
      " [            nan             nan             nan             nan\n",
      "              nan             nan             nan             nan]]\n",
      "[[ 4.62618774e+01  4.62618774e+01  4.62618774e+01  4.62618774e+01\n",
      "  -9.03120339e-03 -9.03120339e-03 -9.03120339e-03 -9.03120339e-03]\n",
      " [-2.08418477e+02 -2.08418477e+02 -2.08418477e+02 -2.08418477e+02\n",
      "  -3.26654736e-02 -3.26654736e-02 -3.26654736e-02 -3.26654736e-02]\n",
      " [ 5.62647067e+02  5.62647067e+02  5.62647067e+02  5.62647067e+02\n",
      "  -2.42772144e-02 -2.42772144e-02 -2.42772144e-02 -2.42772144e-02]\n",
      " [-1.25353017e+03 -1.25353017e+03 -1.25353017e+03 -1.25353017e+03\n",
      "  -6.48136568e-03 -6.48136568e-03 -6.48136568e-03 -6.48136568e-03]\n",
      " [ 2.48396894e+03  2.48396894e+03  2.48396894e+03  2.48396894e+03\n",
      "   1.28795920e-02  1.28795920e-02  1.28795920e-02  1.28795920e-02]\n",
      " [-4.53755261e+03 -4.53755261e+03 -4.53755261e+03 -4.53755261e+03\n",
      "   1.22882834e-02  1.22882834e-02  1.22882834e-02  1.22882834e-02]\n",
      " [ 7.81142853e+03  7.81142853e+03  7.81142853e+03  7.81142853e+03\n",
      "   1.78283798e-02  1.78283798e-02  1.78283798e-02  1.78283798e-02]\n",
      " [-1.28389042e+04 -1.28389042e+04 -1.28389042e+04 -1.28389042e+04\n",
      "   7.17627860e-03  7.17627860e-03  7.17627861e-03  7.17627862e-03]\n",
      " [            nan             nan             nan             nan\n",
      "              nan             nan             nan             nan]\n",
      " [            nan             nan             nan             nan\n",
      "              nan             nan             nan             nan]]\n",
      "[[ 4.62618774e+01  4.62618774e+01  4.62618774e+01  4.62618774e+01\n",
      "  -9.03120339e-03 -9.03120339e-03 -9.03120339e-03 -9.03120339e-03]\n",
      " [-2.08418477e+02 -2.08418477e+02 -2.08418477e+02 -2.08418477e+02\n",
      "  -3.26654736e-02 -3.26654736e-02 -3.26654736e-02 -3.26654736e-02]\n",
      " [ 5.62647067e+02  5.62647067e+02  5.62647067e+02  5.62647067e+02\n",
      "  -2.42772144e-02 -2.42772144e-02 -2.42772144e-02 -2.42772144e-02]\n",
      " [-1.25353017e+03 -1.25353017e+03 -1.25353017e+03 -1.25353017e+03\n",
      "  -6.48136568e-03 -6.48136568e-03 -6.48136568e-03 -6.48136568e-03]\n",
      " [ 2.48396894e+03  2.48396894e+03  2.48396894e+03  2.48396894e+03\n",
      "   1.28795920e-02  1.28795920e-02  1.28795920e-02  1.28795920e-02]\n",
      " [-4.53755261e+03 -4.53755261e+03 -4.53755261e+03 -4.53755261e+03\n",
      "   1.22882834e-02  1.22882834e-02  1.22882834e-02  1.22882834e-02]\n",
      " [ 7.81142853e+03  7.81142853e+03  7.81142853e+03  7.81142853e+03\n",
      "   1.78283798e-02  1.78283798e-02  1.78283798e-02  1.78283798e-02]\n",
      " [-1.28389042e+04 -1.28389042e+04 -1.28389042e+04 -1.28389042e+04\n",
      "   7.17627860e-03  7.17627860e-03  7.17627861e-03  7.17627862e-03]\n",
      " [ 2.03331394e+04  2.03331394e+04  2.03331394e+04  2.03331394e+04\n",
      "   1.20399092e-02  1.20399092e-02  1.20399091e-02  1.20399091e-02]\n",
      " [            nan             nan             nan             nan\n",
      "              nan             nan             nan             nan]]\n",
      "[[ 4.62618774e+01  4.62618774e+01  4.62618774e+01  4.62618774e+01\n",
      "  -9.03120339e-03 -9.03120339e-03 -9.03120339e-03 -9.03120339e-03]\n",
      " [-2.08418477e+02 -2.08418477e+02 -2.08418477e+02 -2.08418477e+02\n",
      "  -3.26654736e-02 -3.26654736e-02 -3.26654736e-02 -3.26654736e-02]\n",
      " [ 5.62647067e+02  5.62647067e+02  5.62647067e+02  5.62647067e+02\n",
      "  -2.42772144e-02 -2.42772144e-02 -2.42772144e-02 -2.42772144e-02]\n",
      " [-1.25353017e+03 -1.25353017e+03 -1.25353017e+03 -1.25353017e+03\n",
      "  -6.48136568e-03 -6.48136568e-03 -6.48136568e-03 -6.48136568e-03]\n",
      " [ 2.48396894e+03  2.48396894e+03  2.48396894e+03  2.48396894e+03\n",
      "   1.28795920e-02  1.28795920e-02  1.28795920e-02  1.28795920e-02]\n",
      " [-4.53755261e+03 -4.53755261e+03 -4.53755261e+03 -4.53755261e+03\n",
      "   1.22882834e-02  1.22882834e-02  1.22882834e-02  1.22882834e-02]\n",
      " [ 7.81142853e+03  7.81142853e+03  7.81142853e+03  7.81142853e+03\n",
      "   1.78283798e-02  1.78283798e-02  1.78283798e-02  1.78283798e-02]\n",
      " [-1.28389042e+04 -1.28389042e+04 -1.28389042e+04 -1.28389042e+04\n",
      "   7.17627860e-03  7.17627860e-03  7.17627861e-03  7.17627862e-03]\n",
      " [ 2.03331394e+04  2.03331394e+04  2.03331394e+04  2.03331394e+04\n",
      "   1.20399092e-02  1.20399092e-02  1.20399091e-02  1.20399091e-02]\n",
      " [-3.12289264e+04 -3.12289264e+04 -3.12289264e+04 -3.12289264e+04\n",
      "   1.81610460e-04  1.81610465e-04  1.81610502e-04  1.81610523e-04]]\n"
     ]
    },
    {
     "name": "stderr",
     "output_type": "stream",
     "text": [
      "C:\\Users\\Programmer\\AppData\\Local\\Temp\\ipykernel_16232\\465525164.py:10: FutureWarning: `rcond` parameter will change to the default of machine precision times ``max(M, N)`` where M and N are the input matrix dimensions.\n",
      "To use the future default and silence this warning we advise to pass `rcond=None`, to keep using the old, explicitly pass `rcond=-1`.\n",
      "  alpha_n = lstsq(PHI_MAT, F)[0]\n"
     ]
    }
   ],
   "source": [
    "for n in range(0, N+1):\n",
    "    F = form_fs_vector_2d(n,\n",
    "                          fundamental_sequence_gamma1,\n",
    "                          fundamental_sequence_gamma2,\n",
    "                          Gamma1,\n",
    "                          Gamma2,\n",
    "                          fs_coefs,\n",
    "                          f1, f2, mfs_data)\n",
    "    from numpy.linalg import lstsq\n",
    "    alpha_n = lstsq(PHI_MAT, F)[0]\n",
    "    fs_coefs.alpha[n] = alpha_n.T\n",
    "    print(fs_coefs.alpha)"
   ]
  },
  {
   "cell_type": "code",
   "execution_count": 23,
   "metadata": {},
   "outputs": [],
   "source": [
    "from gpbr.direct.heat_equation.helpers import u_2d"
   ]
  },
  {
   "cell_type": "code",
   "execution_count": 26,
   "metadata": {},
   "outputs": [],
   "source": [
    "x = Point2D(0,0.76)"
   ]
  },
  {
   "cell_type": "code",
   "execution_count": 29,
   "metadata": {},
   "outputs": [
    {
     "data": {
      "text/plain": [
       "-6987.6391162146365"
      ]
     },
     "execution_count": 29,
     "metadata": {},
     "output_type": "execute_result"
    }
   ],
   "source": [
    "u_2d(Point2D(0,0.5), source_points, fs_coefs, mfs_polynomyals, mfs_data)"
   ]
  },
  {
   "cell_type": "code",
   "execution_count": null,
   "metadata": {},
   "outputs": [],
   "source": []
  },
  {
   "cell_type": "code",
   "execution_count": null,
   "metadata": {},
   "outputs": [],
   "source": []
  },
  {
   "cell_type": "code",
   "execution_count": 24,
   "metadata": {},
   "outputs": [
    {
     "ename": "AssertionError",
     "evalue": "",
     "output_type": "error",
     "traceback": [
      "\u001b[1;31m---------------------------------------------------------------------------\u001b[0m",
      "\u001b[1;31mAssertionError\u001b[0m                            Traceback (most recent call last)",
      "\u001b[1;32md:\\Study\\PhD\\repos\\gpbr\\notebooks\\direct_problem_2d.ipynb Cell 24\u001b[0m line \u001b[0;36m1\n\u001b[1;32m----> <a href='vscode-notebook-cell:/d%3A/Study/PhD/repos/gpbr/notebooks/direct_problem_2d.ipynb#Y103sZmlsZQ%3D%3D?line=0'>1</a>\u001b[0m \u001b[39massert\u001b[39;00m \u001b[39mFalse\u001b[39;00m\n",
      "\u001b[1;31mAssertionError\u001b[0m: "
     ]
    }
   ],
   "source": [
    "assert False"
   ]
  },
  {
   "cell_type": "code",
   "execution_count": null,
   "metadata": {},
   "outputs": [],
   "source": [
    "assert True"
   ]
  },
  {
   "cell_type": "code",
   "execution_count": null,
   "metadata": {},
   "outputs": [
    {
     "name": "stdout",
     "output_type": "stream",
     "text": [
      "[[ 4.62618774e+01  4.62618774e+01  4.62618774e+01  4.62618774e+01\n",
      "  -9.03120339e-03 -9.03120339e-03 -9.03120339e-03 -9.03120339e-03]\n",
      " [            nan             nan             nan             nan\n",
      "              nan             nan             nan             nan]\n",
      " [            nan             nan             nan             nan\n",
      "              nan             nan             nan             nan]\n",
      " [            nan             nan             nan             nan\n",
      "              nan             nan             nan             nan]\n",
      " [            nan             nan             nan             nan\n",
      "              nan             nan             nan             nan]\n",
      " [            nan             nan             nan             nan\n",
      "              nan             nan             nan             nan]\n",
      " [            nan             nan             nan             nan\n",
      "              nan             nan             nan             nan]\n",
      " [            nan             nan             nan             nan\n",
      "              nan             nan             nan             nan]\n",
      " [            nan             nan             nan             nan\n",
      "              nan             nan             nan             nan]\n",
      " [            nan             nan             nan             nan\n",
      "              nan             nan             nan             nan]]\n",
      "[[ 4.62618774e+01  4.62618774e+01  4.62618774e+01  4.62618774e+01\n",
      "  -9.03120339e-03 -9.03120339e-03 -9.03120339e-03 -9.03120339e-03]\n",
      " [-2.08418477e+02 -2.08418477e+02 -2.08418477e+02 -2.08418477e+02\n",
      "  -3.26654736e-02 -3.26654736e-02 -3.26654736e-02 -3.26654736e-02]\n",
      " [            nan             nan             nan             nan\n",
      "              nan             nan             nan             nan]\n",
      " [            nan             nan             nan             nan\n",
      "              nan             nan             nan             nan]\n",
      " [            nan             nan             nan             nan\n",
      "              nan             nan             nan             nan]\n",
      " [            nan             nan             nan             nan\n",
      "              nan             nan             nan             nan]\n",
      " [            nan             nan             nan             nan\n",
      "              nan             nan             nan             nan]\n",
      " [            nan             nan             nan             nan\n",
      "              nan             nan             nan             nan]\n",
      " [            nan             nan             nan             nan\n",
      "              nan             nan             nan             nan]\n",
      " [            nan             nan             nan             nan\n",
      "              nan             nan             nan             nan]]\n",
      "[[ 4.62618774e+01  4.62618774e+01  4.62618774e+01  4.62618774e+01\n",
      "  -9.03120339e-03 -9.03120339e-03 -9.03120339e-03 -9.03120339e-03]\n",
      " [-2.08418477e+02 -2.08418477e+02 -2.08418477e+02 -2.08418477e+02\n",
      "  -3.26654736e-02 -3.26654736e-02 -3.26654736e-02 -3.26654736e-02]\n",
      " [ 5.62647067e+02  5.62647067e+02  5.62647067e+02  5.62647067e+02\n",
      "  -2.42772144e-02 -2.42772144e-02 -2.42772144e-02 -2.42772144e-02]\n",
      " [            nan             nan             nan             nan\n",
      "              nan             nan             nan             nan]\n",
      " [            nan             nan             nan             nan\n",
      "              nan             nan             nan             nan]\n",
      " [            nan             nan             nan             nan\n",
      "              nan             nan             nan             nan]\n",
      " [            nan             nan             nan             nan\n",
      "              nan             nan             nan             nan]\n",
      " [            nan             nan             nan             nan\n",
      "              nan             nan             nan             nan]\n",
      " [            nan             nan             nan             nan\n",
      "              nan             nan             nan             nan]\n",
      " [            nan             nan             nan             nan\n",
      "              nan             nan             nan             nan]]\n",
      "[[ 4.62618774e+01  4.62618774e+01  4.62618774e+01  4.62618774e+01\n",
      "  -9.03120339e-03 -9.03120339e-03 -9.03120339e-03 -9.03120339e-03]\n",
      " [-2.08418477e+02 -2.08418477e+02 -2.08418477e+02 -2.08418477e+02\n",
      "  -3.26654736e-02 -3.26654736e-02 -3.26654736e-02 -3.26654736e-02]\n",
      " [ 5.62647067e+02  5.62647067e+02  5.62647067e+02  5.62647067e+02\n",
      "  -2.42772144e-02 -2.42772144e-02 -2.42772144e-02 -2.42772144e-02]\n",
      " [-1.25353017e+03 -1.25353017e+03 -1.25353017e+03 -1.25353017e+03\n",
      "  -6.48136568e-03 -6.48136568e-03 -6.48136568e-03 -6.48136568e-03]\n",
      " [            nan             nan             nan             nan\n",
      "              nan             nan             nan             nan]\n",
      " [            nan             nan             nan             nan\n",
      "              nan             nan             nan             nan]\n",
      " [            nan             nan             nan             nan\n",
      "              nan             nan             nan             nan]\n",
      " [            nan             nan             nan             nan\n",
      "              nan             nan             nan             nan]\n",
      " [            nan             nan             nan             nan\n",
      "              nan             nan             nan             nan]\n",
      " [            nan             nan             nan             nan\n",
      "              nan             nan             nan             nan]]\n",
      "[[ 4.62618774e+01  4.62618774e+01  4.62618774e+01  4.62618774e+01\n",
      "  -9.03120339e-03 -9.03120339e-03 -9.03120339e-03 -9.03120339e-03]\n",
      " [-2.08418477e+02 -2.08418477e+02 -2.08418477e+02 -2.08418477e+02\n",
      "  -3.26654736e-02 -3.26654736e-02 -3.26654736e-02 -3.26654736e-02]\n",
      " [ 5.62647067e+02  5.62647067e+02  5.62647067e+02  5.62647067e+02\n",
      "  -2.42772144e-02 -2.42772144e-02 -2.42772144e-02 -2.42772144e-02]\n",
      " [-1.25353017e+03 -1.25353017e+03 -1.25353017e+03 -1.25353017e+03\n",
      "  -6.48136568e-03 -6.48136568e-03 -6.48136568e-03 -6.48136568e-03]\n",
      " [ 2.48396894e+03  2.48396894e+03  2.48396894e+03  2.48396894e+03\n",
      "   1.28795920e-02  1.28795920e-02  1.28795920e-02  1.28795920e-02]\n",
      " [            nan             nan             nan             nan\n",
      "              nan             nan             nan             nan]\n",
      " [            nan             nan             nan             nan\n",
      "              nan             nan             nan             nan]\n",
      " [            nan             nan             nan             nan\n",
      "              nan             nan             nan             nan]\n",
      " [            nan             nan             nan             nan\n",
      "              nan             nan             nan             nan]\n",
      " [            nan             nan             nan             nan\n",
      "              nan             nan             nan             nan]]\n",
      "[[ 4.62618774e+01  4.62618774e+01  4.62618774e+01  4.62618774e+01\n",
      "  -9.03120339e-03 -9.03120339e-03 -9.03120339e-03 -9.03120339e-03]\n",
      " [-2.08418477e+02 -2.08418477e+02 -2.08418477e+02 -2.08418477e+02\n",
      "  -3.26654736e-02 -3.26654736e-02 -3.26654736e-02 -3.26654736e-02]\n",
      " [ 5.62647067e+02  5.62647067e+02  5.62647067e+02  5.62647067e+02\n",
      "  -2.42772144e-02 -2.42772144e-02 -2.42772144e-02 -2.42772144e-02]\n",
      " [-1.25353017e+03 -1.25353017e+03 -1.25353017e+03 -1.25353017e+03\n",
      "  -6.48136568e-03 -6.48136568e-03 -6.48136568e-03 -6.48136568e-03]\n",
      " [ 2.48396894e+03  2.48396894e+03  2.48396894e+03  2.48396894e+03\n",
      "   1.28795920e-02  1.28795920e-02  1.28795920e-02  1.28795920e-02]\n",
      " [-4.53755261e+03 -4.53755261e+03 -4.53755261e+03 -4.53755261e+03\n",
      "   1.22882834e-02  1.22882834e-02  1.22882834e-02  1.22882834e-02]\n",
      " [            nan             nan             nan             nan\n",
      "              nan             nan             nan             nan]\n",
      " [            nan             nan             nan             nan\n",
      "              nan             nan             nan             nan]\n",
      " [            nan             nan             nan             nan\n",
      "              nan             nan             nan             nan]\n",
      " [            nan             nan             nan             nan\n",
      "              nan             nan             nan             nan]]\n",
      "[[ 4.62618774e+01  4.62618774e+01  4.62618774e+01  4.62618774e+01\n",
      "  -9.03120339e-03 -9.03120339e-03 -9.03120339e-03 -9.03120339e-03]\n",
      " [-2.08418477e+02 -2.08418477e+02 -2.08418477e+02 -2.08418477e+02\n",
      "  -3.26654736e-02 -3.26654736e-02 -3.26654736e-02 -3.26654736e-02]\n",
      " [ 5.62647067e+02  5.62647067e+02  5.62647067e+02  5.62647067e+02\n",
      "  -2.42772144e-02 -2.42772144e-02 -2.42772144e-02 -2.42772144e-02]\n",
      " [-1.25353017e+03 -1.25353017e+03 -1.25353017e+03 -1.25353017e+03\n",
      "  -6.48136568e-03 -6.48136568e-03 -6.48136568e-03 -6.48136568e-03]\n",
      " [ 2.48396894e+03  2.48396894e+03  2.48396894e+03  2.48396894e+03\n",
      "   1.28795920e-02  1.28795920e-02  1.28795920e-02  1.28795920e-02]\n",
      " [-4.53755261e+03 -4.53755261e+03 -4.53755261e+03 -4.53755261e+03\n",
      "   1.22882834e-02  1.22882834e-02  1.22882834e-02  1.22882834e-02]\n",
      " [ 7.81142853e+03  7.81142853e+03  7.81142853e+03  7.81142853e+03\n",
      "   1.78283798e-02  1.78283798e-02  1.78283798e-02  1.78283798e-02]\n",
      " [            nan             nan             nan             nan\n",
      "              nan             nan             nan             nan]\n",
      " [            nan             nan             nan             nan\n",
      "              nan             nan             nan             nan]\n",
      " [            nan             nan             nan             nan\n",
      "              nan             nan             nan             nan]]\n",
      "[[ 4.62618774e+01  4.62618774e+01  4.62618774e+01  4.62618774e+01\n",
      "  -9.03120339e-03 -9.03120339e-03 -9.03120339e-03 -9.03120339e-03]\n",
      " [-2.08418477e+02 -2.08418477e+02 -2.08418477e+02 -2.08418477e+02\n",
      "  -3.26654736e-02 -3.26654736e-02 -3.26654736e-02 -3.26654736e-02]\n",
      " [ 5.62647067e+02  5.62647067e+02  5.62647067e+02  5.62647067e+02\n",
      "  -2.42772144e-02 -2.42772144e-02 -2.42772144e-02 -2.42772144e-02]\n",
      " [-1.25353017e+03 -1.25353017e+03 -1.25353017e+03 -1.25353017e+03\n",
      "  -6.48136568e-03 -6.48136568e-03 -6.48136568e-03 -6.48136568e-03]\n",
      " [ 2.48396894e+03  2.48396894e+03  2.48396894e+03  2.48396894e+03\n",
      "   1.28795920e-02  1.28795920e-02  1.28795920e-02  1.28795920e-02]\n",
      " [-4.53755261e+03 -4.53755261e+03 -4.53755261e+03 -4.53755261e+03\n",
      "   1.22882834e-02  1.22882834e-02  1.22882834e-02  1.22882834e-02]\n",
      " [ 7.81142853e+03  7.81142853e+03  7.81142853e+03  7.81142853e+03\n",
      "   1.78283798e-02  1.78283798e-02  1.78283798e-02  1.78283798e-02]\n",
      " [-1.28389042e+04 -1.28389042e+04 -1.28389042e+04 -1.28389042e+04\n",
      "   7.17627859e-03  7.17627861e-03  7.17627861e-03  7.17627861e-03]\n",
      " [            nan             nan             nan             nan\n",
      "              nan             nan             nan             nan]\n",
      " [            nan             nan             nan             nan\n",
      "              nan             nan             nan             nan]]\n",
      "[[ 4.62618774e+01  4.62618774e+01  4.62618774e+01  4.62618774e+01\n",
      "  -9.03120339e-03 -9.03120339e-03 -9.03120339e-03 -9.03120339e-03]\n",
      " [-2.08418477e+02 -2.08418477e+02 -2.08418477e+02 -2.08418477e+02\n",
      "  -3.26654736e-02 -3.26654736e-02 -3.26654736e-02 -3.26654736e-02]\n",
      " [ 5.62647067e+02  5.62647067e+02  5.62647067e+02  5.62647067e+02\n",
      "  -2.42772144e-02 -2.42772144e-02 -2.42772144e-02 -2.42772144e-02]\n",
      " [-1.25353017e+03 -1.25353017e+03 -1.25353017e+03 -1.25353017e+03\n",
      "  -6.48136568e-03 -6.48136568e-03 -6.48136568e-03 -6.48136568e-03]\n",
      " [ 2.48396894e+03  2.48396894e+03  2.48396894e+03  2.48396894e+03\n",
      "   1.28795920e-02  1.28795920e-02  1.28795920e-02  1.28795920e-02]\n",
      " [-4.53755261e+03 -4.53755261e+03 -4.53755261e+03 -4.53755261e+03\n",
      "   1.22882834e-02  1.22882834e-02  1.22882834e-02  1.22882834e-02]\n",
      " [ 7.81142853e+03  7.81142853e+03  7.81142853e+03  7.81142853e+03\n",
      "   1.78283798e-02  1.78283798e-02  1.78283798e-02  1.78283798e-02]\n",
      " [-1.28389042e+04 -1.28389042e+04 -1.28389042e+04 -1.28389042e+04\n",
      "   7.17627859e-03  7.17627861e-03  7.17627861e-03  7.17627861e-03]\n",
      " [ 2.03331394e+04  2.03331394e+04  2.03331394e+04  2.03331394e+04\n",
      "   1.20399092e-02  1.20399092e-02  1.20399091e-02  1.20399091e-02]\n",
      " [            nan             nan             nan             nan\n",
      "              nan             nan             nan             nan]]\n",
      "[[ 4.62618774e+01  4.62618774e+01  4.62618774e+01  4.62618774e+01\n",
      "  -9.03120339e-03 -9.03120339e-03 -9.03120339e-03 -9.03120339e-03]\n",
      " [-2.08418477e+02 -2.08418477e+02 -2.08418477e+02 -2.08418477e+02\n",
      "  -3.26654736e-02 -3.26654736e-02 -3.26654736e-02 -3.26654736e-02]\n",
      " [ 5.62647067e+02  5.62647067e+02  5.62647067e+02  5.62647067e+02\n",
      "  -2.42772144e-02 -2.42772144e-02 -2.42772144e-02 -2.42772144e-02]\n",
      " [-1.25353017e+03 -1.25353017e+03 -1.25353017e+03 -1.25353017e+03\n",
      "  -6.48136568e-03 -6.48136568e-03 -6.48136568e-03 -6.48136568e-03]\n",
      " [ 2.48396894e+03  2.48396894e+03  2.48396894e+03  2.48396894e+03\n",
      "   1.28795920e-02  1.28795920e-02  1.28795920e-02  1.28795920e-02]\n",
      " [-4.53755261e+03 -4.53755261e+03 -4.53755261e+03 -4.53755261e+03\n",
      "   1.22882834e-02  1.22882834e-02  1.22882834e-02  1.22882834e-02]\n",
      " [ 7.81142853e+03  7.81142853e+03  7.81142853e+03  7.81142853e+03\n",
      "   1.78283798e-02  1.78283798e-02  1.78283798e-02  1.78283798e-02]\n",
      " [-1.28389042e+04 -1.28389042e+04 -1.28389042e+04 -1.28389042e+04\n",
      "   7.17627859e-03  7.17627861e-03  7.17627861e-03  7.17627861e-03]\n",
      " [ 2.03331394e+04  2.03331394e+04  2.03331394e+04  2.03331394e+04\n",
      "   1.20399092e-02  1.20399092e-02  1.20399091e-02  1.20399091e-02]\n",
      " [-3.12289264e+04 -3.12289264e+04 -3.12289264e+04 -3.12289264e+04\n",
      "   1.81610460e-04  1.81610490e-04  1.81610499e-04  1.81610515e-04]]\n"
     ]
    }
   ],
   "source": [
    "for n in range(0, N+1):\n",
    "    F = form_fs_vector_2d(n,\n",
    "                          fundamental_sequence_gamma1,\n",
    "                          fundamental_sequence_gamma2,\n",
    "                          Gamma1,\n",
    "                          Gamma2,\n",
    "                          fs_coefs,\n",
    "                          f1, f2, mfs_data)\n",
    "    from numpy.linalg import lstsq\n",
    "    alpha_n = lstsq(PHI_MAT, F)[0]\n",
    "    fs_coefs.alpha[n] = alpha_n.T\n",
    "    print(fs_coefs.alpha)"
   ]
  },
  {
   "cell_type": "code",
   "execution_count": null,
   "metadata": {},
   "outputs": [],
   "source": []
  },
  {
   "cell_type": "code",
   "execution_count": null,
   "metadata": {},
   "outputs": [],
   "source": []
  },
  {
   "cell_type": "code",
   "execution_count": null,
   "metadata": {},
   "outputs": [],
   "source": []
  }
 ],
 "metadata": {
  "kernelspec": {
   "display_name": "Python 3",
   "language": "python",
   "name": "python3"
  },
  "language_info": {
   "codemirror_mode": {
    "name": "ipython",
    "version": 3
   },
   "file_extension": ".py",
   "mimetype": "text/x-python",
   "name": "python",
   "nbconvert_exporter": "python",
   "pygments_lexer": "ipython3",
   "version": "3.12.0"
  }
 },
 "nbformat": 4,
 "nbformat_minor": 2
}
