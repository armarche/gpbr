{
 "cells": [
  {
   "cell_type": "code",
   "execution_count": 1,
   "metadata": {},
   "outputs": [],
   "source": [
    "import sys\n",
    "import os\n",
    "sys.path.append(os.path.abspath('..'))  # or the full path to the \"project\" directory\n",
    "import numpy as np\n",
    "import gpbr"
   ]
  },
  {
   "cell_type": "code",
   "execution_count": 2,
   "metadata": {},
   "outputs": [],
   "source": [
    "def f1(x, t):\n",
    "    return 0\n",
    "\n",
    "def f2(x: np.array, t: float) -> np.array:\n",
    "    return (t**2)*np.exp(-4*t+2)*np.abs(x)"
   ]
  },
  {
   "cell_type": "code",
   "execution_count": 3,
   "metadata": {},
   "outputs": [],
   "source": [
    "T = 2 # final time\n",
    "N = 9 # N+1=10 time points\n",
    "# M = 64 # number of collocation points\n",
    "M = 8 # number of collocation points"
   ]
  },
  {
   "cell_type": "code",
   "execution_count": 4,
   "metadata": {},
   "outputs": [],
   "source": [
    "tn = np.array([(n+1)*(T/(N+1)) for n in range(-1, N+1)])\n",
    "h = T/(N+1)"
   ]
  },
  {
   "cell_type": "code",
   "execution_count": 5,
   "metadata": {},
   "outputs": [
    {
     "data": {
      "text/plain": [
       "array([0. , 0.2, 0.4, 0.6, 0.8, 1. , 1.2, 1.4, 1.6, 1.8, 2. ])"
      ]
     },
     "execution_count": 5,
     "metadata": {},
     "output_type": "execute_result"
    }
   ],
   "source": [
    "tn"
   ]
  },
  {
   "cell_type": "code",
   "execution_count": 6,
   "metadata": {},
   "outputs": [
    {
     "data": {
      "text/plain": [
       "np.float64(3.1622776601683795)"
      ]
     },
     "execution_count": 6,
     "metadata": {},
     "output_type": "execute_result"
    }
   ],
   "source": [
    "nu = np.sqrt(2/h)\n",
    "nu"
   ]
  },
  {
   "cell_type": "code",
   "execution_count": 7,
   "metadata": {},
   "outputs": [
    {
     "data": {
      "text/plain": [
       "[20.0, -20.0, 20.0, -20.0, 20.0, -20.0, 20.0, -20.0, 20.0, -20.0]"
      ]
     },
     "execution_count": 7,
     "metadata": {},
     "output_type": "execute_result"
    }
   ],
   "source": [
    "betta_array = []\n",
    "for n in range(0, N+1):\n",
    "    sign = (-1)**n\n",
    "    betta_array.append(sign*(4/h))\n",
    "betta_array"
   ]
  },
  {
   "cell_type": "code",
   "execution_count": 8,
   "metadata": {},
   "outputs": [],
   "source": [
    "from gpbr.gpbr.mfs.data import MfSData\n",
    "mfs_data =MfSData(N, T, tn, M, betta_array, nu)"
   ]
  },
  {
   "cell_type": "code",
   "execution_count": 9,
   "metadata": {},
   "outputs": [
    {
     "data": {
      "text/plain": [
       "MfSData(N=9, T=2, tn=array([0. , 0.2, 0.4, 0.6, 0.8, 1. , 1.2, 1.4, 1.6, 1.8, 2. ]), M=8, Beta=[20.0, -20.0, 20.0, -20.0, 20.0, -20.0, 20.0, -20.0, 20.0, -20.0], nu=np.float64(3.1622776601683795))"
      ]
     },
     "execution_count": 9,
     "metadata": {},
     "output_type": "execute_result"
    }
   ],
   "source": [
    "mfs_data"
   ]
  },
  {
   "cell_type": "code",
   "execution_count": 10,
   "metadata": {},
   "outputs": [
    {
     "data": {
      "text/plain": [
       "CollocationData2D(n=8, theta=array([0.78539816, 1.57079633, 2.35619449, 3.14159265, 3.92699082,\n",
       "       4.71238898, 5.49778714, 6.28318531]))"
      ]
     },
     "execution_count": 10,
     "metadata": {},
     "output_type": "execute_result"
    }
   ],
   "source": [
    "from gpbr.gpbr.collocation import collocation_points_2d, CollocationData2D\n",
    "coll_2d = collocation_points_2d(M, startpoint=False)\n",
    "coll_2d"
   ]
  },
  {
   "cell_type": "code",
   "execution_count": 11,
   "metadata": {},
   "outputs": [],
   "source": [
    "from gpbr.gpbr.boundary import StarlikeCurve, starlike_circle_base, starlike_curve\n",
    "point_circle = starlike_circle_base(coll_2d)\n",
    "\n",
    "g1_r_values = np.ones(coll_2d.n)*2\n",
    "Gamma1 = starlike_curve(g1_r_values, point_circle)\n",
    "\n",
    "g2_r_values = np.ones(coll_2d.n)*3\n",
    "Gamma2 = starlike_curve(g2_r_values, point_circle)"
   ]
  },
  {
   "cell_type": "code",
   "execution_count": 12,
   "metadata": {},
   "outputs": [],
   "source": [
    "from gpbr.gpbr.source import SourcePoints2D, source_points_2d\n",
    "source_coll_2d = collocation_points_2d(M//2, startpoint=False)\n",
    "source_coll_2d\n",
    "source_point_circle = starlike_circle_base(source_coll_2d)\n",
    "eta1 = 0.5\n",
    "eta2 = 2\n",
    "\n",
    "\n",
    "g1_source_r_values = np.ones(source_coll_2d.n)*2\n",
    "Gamma1_source = starlike_curve(g1_source_r_values, source_point_circle)\n",
    "\n",
    "g2_source_r_values = np.ones(source_coll_2d.n)*3\n",
    "Gamma2_source = starlike_curve(g2_source_r_values, source_point_circle)\n",
    "\n",
    "source_points = source_points_2d(eta1, eta2, Gamma1_source, Gamma2_source)"
   ]
  },
  {
   "cell_type": "code",
   "execution_count": 13,
   "metadata": {},
   "outputs": [],
   "source": [
    "## Plot\n",
    "import matplotlib.pyplot as plt\n",
    "def plot_2d(G1: StarlikeCurve, G2: StarlikeCurve, artG1: StarlikeCurve, artG2: StarlikeCurve):\n",
    "    fig_plot, ax_plot = plt.subplots()\n",
    "    ax_plot.plot(G1.x, G1.y, 'b--')\n",
    "    ax_plot.plot(G2.x, G2.y, 'r--')\n",
    "    ax_plot.plot(artG1.x, artG1.y, 'bo')\n",
    "    ax_plot.plot(artG2.x, artG2.y, 'ro')\n",
    "\n",
    "    ax_plot.axis('equal')\n",
    "    plt.grid()\n",
    "    plt.show()\n",
    "    plt.close()\n"
   ]
  },
  {
   "cell_type": "code",
   "execution_count": 14,
   "metadata": {},
   "outputs": [
    {
     "data": {
      "image/png": "[encoded data removed]",
      "text/plain": [
       "<Figure size 640x480 with 1 Axes>"
      ]
     },
     "metadata": {},
     "output_type": "display_data"
    }
   ],
   "source": [
    "plot_2d(Gamma1, Gamma2, source_points.gart1, source_points.gart2)"
   ]
  },
  {
   "cell_type": "code",
   "execution_count": 15,
   "metadata": {},
   "outputs": [],
   "source": [
    "from gpbr.gpbr.mfs.polynomial import MFSPolinomials2D, calculate_2d_polinomials\n",
    "\n",
    "mfs_polynomyals = calculate_2d_polinomials(mfs_data, N)"
   ]
  },
  {
   "cell_type": "code",
   "execution_count": null,
   "metadata": {},
   "outputs": [],
   "source": []
  },
  {
   "cell_type": "markdown",
   "metadata": {},
   "source": [
    "Calclucate fundamental sequences in points"
   ]
  },
  {
   "cell_type": "code",
   "execution_count": 37,
   "metadata": {},
   "outputs": [],
   "source": [
    "from gpbr.gpbr.mfs.fundamental_sequence import fs_2d\n",
    "def calc_fs(n: int, M: int, Gamma: StarlikeCurve, source_points: SourcePoints2D, mfs_data: MfSData, mfs_poly: MFSPolinomials2D) -> np.ndarray:\n",
    "    phi_vals = np.empty((M, M), dtype=np.float64)\n",
    "    phi_vals[:] = np.nan\n",
    "    for i in range(1, M+1):\n",
    "        for j in range(1, M+1):\n",
    "            artx, arty = source_points.get_point(j-1)\n",
    "            delta = np.sqrt((Gamma.x[i-1]-artx)**2 + (Gamma.y[i-1]-arty)**2 )\n",
    "            phi_vals[i-1, j-1] = fs_2d(n,delta, mfs_data.nu, mfs_poly)\n",
    "    return phi_vals"
   ]
  },
  {
   "cell_type": "code",
   "execution_count": 38,
   "metadata": {},
   "outputs": [
    {
     "name": "stdout",
     "output_type": "stream",
     "text": [
      "n=0\n",
      "n=1\n",
      "n=2\n",
      "n=3\n",
      "n=4\n",
      "n=5\n",
      "n=6\n",
      "n=7\n",
      "n=8\n",
      "n=9\n"
     ]
    }
   ],
   "source": [
    "phi_matrices_gamma1 = []\n",
    "for n in range(0, N+1): # 10 time points\n",
    "    phi_vals = calc_fs(n, M, Gamma1, source_points, mfs_data, mfs_polynomyals)\n",
    "    print(f\"n={n}\")\n",
    "    phi_matrices_gamma1.append(phi_vals)"
   ]
  },
  {
   "cell_type": "code",
   "execution_count": 39,
   "metadata": {},
   "outputs": [
    {
     "name": "stdout",
     "output_type": "stream",
     "text": [
      "n=0\n",
      "n=1\n",
      "n=2\n",
      "n=3\n",
      "n=4\n",
      "n=5\n",
      "n=6\n",
      "n=7\n",
      "n=8\n",
      "n=9\n"
     ]
    }
   ],
   "source": [
    "phi_matrices_gamma2 = []\n",
    "for n in range(0, N+1): # 10 time points\n",
    "    phi_vals = calc_fs(n, M, Gamma2, source_points, mfs_data, mfs_polynomyals)\n",
    "    print(f\"n={n}\")\n",
    "    phi_matrices_gamma2.append(phi_vals)"
   ]
  },
  {
   "cell_type": "code",
   "execution_count": 40,
   "metadata": {},
   "outputs": [
    {
     "data": {
      "text/plain": [
       "array([[nan, nan, nan, nan, nan, nan, nan, nan],\n",
       "       [nan, nan, nan, nan, nan, nan, nan, nan],\n",
       "       [nan, nan, nan, nan, nan, nan, nan, nan],\n",
       "       [nan, nan, nan, nan, nan, nan, nan, nan],\n",
       "       [nan, nan, nan, nan, nan, nan, nan, nan],\n",
       "       [nan, nan, nan, nan, nan, nan, nan, nan],\n",
       "       [nan, nan, nan, nan, nan, nan, nan, nan],\n",
       "       [nan, nan, nan, nan, nan, nan, nan, nan],\n",
       "       [nan, nan, nan, nan, nan, nan, nan, nan],\n",
       "       [nan, nan, nan, nan, nan, nan, nan, nan]])"
      ]
     },
     "execution_count": 40,
     "metadata": {},
     "output_type": "execute_result"
    }
   ],
   "source": [
    "alpha_coeeff = np.empty((N+1, M), dtype=np.float64)\n",
    "alpha_coeeff[:] = np.nan\n",
    "alpha_coeeff"
   ]
  },
  {
   "cell_type": "code",
   "execution_count": 42,
   "metadata": {},
   "outputs": [
    {
     "data": {
      "text/plain": [
       "array([[nan],\n",
       "       [nan],\n",
       "       [nan],\n",
       "       [nan],\n",
       "       [nan],\n",
       "       [nan],\n",
       "       [nan],\n",
       "       [nan],\n",
       "       [nan],\n",
       "       [nan],\n",
       "       [nan],\n",
       "       [nan],\n",
       "       [nan],\n",
       "       [nan],\n",
       "       [nan],\n",
       "       [nan]])"
      ]
     },
     "execution_count": 42,
     "metadata": {},
     "output_type": "execute_result"
    }
   ],
   "source": [
    "F = np.empty((2*M, 1), dtype=np.float64)\n",
    "F[:] = np.nan\n",
    "F"
   ]
  },
  {
   "cell_type": "code",
   "execution_count": 43,
   "metadata": {},
   "outputs": [],
   "source": [
    "def f1(x, t):\n",
    "    return 0\n",
    "\n",
    "def f2(x: np.array, t: float) -> np.array:\n",
    "    delta = np.sqrt(x[0]**2 + x[1]**2)\n",
    "    return (t**2)*np.exp(-4*t+2)*delta"
   ]
  },
  {
   "cell_type": "code",
   "execution_count": 44,
   "metadata": {},
   "outputs": [],
   "source": [
    "n = 0 # t=0\n",
    "for i in range(1, M+1):\n",
    "    F[i-1] = f1([Gamma1.x[i-1], Gamma1.y[i-1]], tn[n])\n",
    "\n",
    "    F[M+i-1] = f2([Gamma2.x[i-1], Gamma2.y[i-1]], tn[n])"
   ]
  },
  {
   "cell_type": "code",
   "execution_count": 45,
   "metadata": {},
   "outputs": [
    {
     "data": {
      "text/plain": [
       "array([[0.],\n",
       "       [0.],\n",
       "       [0.],\n",
       "       [0.],\n",
       "       [0.],\n",
       "       [0.],\n",
       "       [0.],\n",
       "       [0.],\n",
       "       [0.],\n",
       "       [0.],\n",
       "       [0.],\n",
       "       [0.],\n",
       "       [0.],\n",
       "       [0.],\n",
       "       [0.],\n",
       "       [0.]])"
      ]
     },
     "execution_count": 45,
     "metadata": {},
     "output_type": "execute_result"
    }
   ],
   "source": [
    "F"
   ]
  },
  {
   "cell_type": "code",
   "execution_count": 47,
   "metadata": {},
   "outputs": [],
   "source": [
    "Phi0_gamma1 = phi_matrices_gamma1[n]\n",
    "Phi0_gamma2 = phi_matrices_gamma2[n]"
   ]
  },
  {
   "cell_type": "code",
   "execution_count": 48,
   "metadata": {},
   "outputs": [
    {
     "data": {
      "text/plain": [
       "array([[5.36333947e-03, 5.97378306e-05, 5.97378306e-05, 5.36333947e-03,\n",
       "        8.19231904e-08, 1.09889880e-11, 1.09889880e-11, 8.19231904e-08],\n",
       "       [2.88157314e-02, 3.93723287e-04, 3.04768970e-05, 3.93723287e-04,\n",
       "        1.12061493e-06, 5.74123782e-10, 2.55582981e-12, 5.74123782e-10],\n",
       "       [5.36333947e-03, 5.36333947e-03, 5.97378306e-05, 5.97378306e-05,\n",
       "        8.19231904e-08, 8.19231904e-08, 1.09889880e-11, 1.09889880e-11],\n",
       "       [3.93723287e-04, 2.88157314e-02, 3.93723287e-04, 3.04768970e-05,\n",
       "        5.74123782e-10, 1.12061493e-06, 5.74123782e-10, 2.55582981e-12],\n",
       "       [5.97378306e-05, 5.36333947e-03, 5.36333947e-03, 5.97378306e-05,\n",
       "        1.09889880e-11, 8.19231904e-08, 8.19231904e-08, 1.09889880e-11],\n",
       "       [3.04768970e-05, 3.93723287e-04, 2.88157314e-02, 3.93723287e-04,\n",
       "        2.55582981e-12, 5.74123782e-10, 1.12061493e-06, 5.74123782e-10],\n",
       "       [5.97378306e-05, 5.97378306e-05, 5.36333947e-03, 5.36333947e-03,\n",
       "        1.09889880e-11, 1.09889880e-11, 8.19231904e-08, 8.19231904e-08],\n",
       "       [3.93723287e-04, 3.04768970e-05, 3.93723287e-04, 2.88157314e-02,\n",
       "        5.74123782e-10, 2.55582981e-12, 5.74123782e-10, 1.12061493e-06]])"
      ]
     },
     "execution_count": 48,
     "metadata": {},
     "output_type": "execute_result"
    }
   ],
   "source": [
    "Phi0_gamma1"
   ]
  },
  {
   "cell_type": "code",
   "execution_count": 49,
   "metadata": {},
   "outputs": [
    {
     "data": {
      "text/plain": [
       "array([[2.26965116e-04, 2.35672467e-06, 2.35672467e-06, 2.26965116e-04,\n",
       "        2.81901400e-07, 7.18403463e-13, 7.18403463e-13, 2.81901400e-07],\n",
       "       [8.76657303e-04, 1.77800623e-05, 1.12061493e-06, 1.77800623e-05,\n",
       "        3.04768970e-05, 1.65759362e-10, 1.02053039e-13, 1.65759362e-10],\n",
       "       [2.26965116e-04, 2.26965116e-04, 2.35672467e-06, 2.35672467e-06,\n",
       "        2.81901400e-07, 2.81901400e-07, 7.18403463e-13, 7.18403463e-13],\n",
       "       [1.77800623e-05, 8.76657303e-04, 1.77800623e-05, 1.12061493e-06,\n",
       "        1.65759362e-10, 3.04768970e-05, 1.65759362e-10, 1.02053039e-13],\n",
       "       [2.35672467e-06, 2.26965116e-04, 2.26965116e-04, 2.35672467e-06,\n",
       "        7.18403463e-13, 2.81901400e-07, 2.81901400e-07, 7.18403463e-13],\n",
       "       [1.12061493e-06, 1.77800623e-05, 8.76657303e-04, 1.77800623e-05,\n",
       "        1.02053039e-13, 1.65759362e-10, 3.04768970e-05, 1.65759362e-10],\n",
       "       [2.35672467e-06, 2.35672467e-06, 2.26965116e-04, 2.26965116e-04,\n",
       "        7.18403463e-13, 7.18403463e-13, 2.81901400e-07, 2.81901400e-07],\n",
       "       [1.77800623e-05, 1.12061493e-06, 1.77800623e-05, 8.76657303e-04,\n",
       "        1.65759362e-10, 1.02053039e-13, 1.65759362e-10, 3.04768970e-05]])"
      ]
     },
     "execution_count": 49,
     "metadata": {},
     "output_type": "execute_result"
    }
   ],
   "source": [
    "Phi0_gamma2"
   ]
  },
  {
   "cell_type": "code",
   "execution_count": 52,
   "metadata": {},
   "outputs": [],
   "source": [
    "PHI_MAT = np.concatenate((Phi0_gamma1, Phi0_gamma2), axis=0)"
   ]
  },
  {
   "cell_type": "code",
   "execution_count": 54,
   "metadata": {},
   "outputs": [
    {
     "data": {
      "text/plain": [
       "(16, 8)"
      ]
     },
     "execution_count": 54,
     "metadata": {},
     "output_type": "execute_result"
    }
   ],
   "source": [
    "PHI_MAT.shape"
   ]
  },
  {
   "cell_type": "code",
   "execution_count": 55,
   "metadata": {},
   "outputs": [],
   "source": [
    "from numpy.linalg import lstsq\n",
    "PHI_MAT = np.concatenate((Phi0_gamma1, Phi0_gamma2), axis=0)\n",
    "res = lstsq(PHI_MAT, F)"
   ]
  },
  {
   "cell_type": "code",
   "execution_count": 56,
   "metadata": {},
   "outputs": [
    {
     "data": {
      "text/plain": [
       "(array([[0.],\n",
       "        [0.],\n",
       "        [0.],\n",
       "        [0.],\n",
       "        [0.],\n",
       "        [0.],\n",
       "        [0.],\n",
       "        [0.]]),\n",
       " array([0.]),\n",
       " np.int32(8),\n",
       " array([3.15727274e-02, 2.97609598e-02, 2.97609598e-02, 2.80713991e-02,\n",
       "        3.04379457e-05, 3.04337557e-05, 3.04337557e-05, 3.04292584e-05]))"
      ]
     },
     "execution_count": 56,
     "metadata": {},
     "output_type": "execute_result"
    }
   ],
   "source": [
    "res"
   ]
  },
  {
   "cell_type": "code",
   "execution_count": 60,
   "metadata": {},
   "outputs": [
    {
     "data": {
      "text/plain": [
       "array([[ 0.,  0.,  0.,  0.,  0.,  0.,  0.,  0.],\n",
       "       [nan, nan, nan, nan, nan, nan, nan, nan],\n",
       "       [nan, nan, nan, nan, nan, nan, nan, nan],\n",
       "       [nan, nan, nan, nan, nan, nan, nan, nan],\n",
       "       [nan, nan, nan, nan, nan, nan, nan, nan],\n",
       "       [nan, nan, nan, nan, nan, nan, nan, nan],\n",
       "       [nan, nan, nan, nan, nan, nan, nan, nan],\n",
       "       [nan, nan, nan, nan, nan, nan, nan, nan],\n",
       "       [nan, nan, nan, nan, nan, nan, nan, nan],\n",
       "       [nan, nan, nan, nan, nan, nan, nan, nan]])"
      ]
     },
     "execution_count": 60,
     "metadata": {},
     "output_type": "execute_result"
    }
   ],
   "source": [
    "alpha_coeeff"
   ]
  },
  {
   "cell_type": "code",
   "execution_count": 62,
   "metadata": {},
   "outputs": [
    {
     "data": {
      "text/plain": [
       "array([[nan],\n",
       "       [nan],\n",
       "       [nan],\n",
       "       [nan],\n",
       "       [nan],\n",
       "       [nan],\n",
       "       [nan],\n",
       "       [nan],\n",
       "       [nan],\n",
       "       [nan],\n",
       "       [nan],\n",
       "       [nan],\n",
       "       [nan],\n",
       "       [nan],\n",
       "       [nan],\n",
       "       [nan]])"
      ]
     },
     "execution_count": 62,
     "metadata": {},
     "output_type": "execute_result"
    }
   ],
   "source": [
    "F = np.empty((2*M, 1), dtype=np.float64)\n",
    "F[:] = np.nan\n",
    "F"
   ]
  },
  {
   "cell_type": "code",
   "execution_count": 102,
   "metadata": {},
   "outputs": [],
   "source": [
    "n = 5 # t=0.2\n",
    "for i in range(1, M+1):\n",
    "    right_sum = 0\n",
    "    for m in range(0, n): # m in [0,...,n-1]\n",
    "        for j in range(1, M+1):\n",
    "            phi_index = n-m\n",
    "            phi_g1 = phi_matrices_gamma1[phi_index]\n",
    "            right_sum += alpha_coeeff[m, j-1]*phi_g1[i-1, j-1]\n",
    "    F[i-1] = f1([Gamma1.x[i-1], Gamma1.y[i-1]], tn[n]) - right_sum\n",
    "    \n",
    "    right_sum = 0\n",
    "    for m in range(0, n): # m in [0,...,n-1]\n",
    "        for j in range(1, M+1):\n",
    "            phi_index = n-m\n",
    "            phi_g2 = phi_matrices_gamma2[phi_index]\n",
    "            right_sum += alpha_coeeff[m, j-1]*phi_g2[i-1, j-1]\n",
    "    F[M+i-1] = f2([Gamma2.x[i-1], Gamma2.y[i-1]], tn[n]) - right_sum"
   ]
  },
  {
   "cell_type": "code",
   "execution_count": 103,
   "metadata": {},
   "outputs": [
    {
     "data": {
      "text/plain": [
       "array([[  1.25361916],\n",
       "       [  8.18760569],\n",
       "       [  1.25361916],\n",
       "       [  8.18760569],\n",
       "       [  1.25361916],\n",
       "       [  8.18760569],\n",
       "       [  1.25361916],\n",
       "       [  8.18760569],\n",
       "       [  4.21721652],\n",
       "       [220.29656909],\n",
       "       [  4.21721652],\n",
       "       [220.29656909],\n",
       "       [  4.21721652],\n",
       "       [220.29656909],\n",
       "       [  4.21721652],\n",
       "       [220.29656909]])"
      ]
     },
     "execution_count": 103,
     "metadata": {},
     "output_type": "execute_result"
    }
   ],
   "source": [
    "F"
   ]
  },
  {
   "cell_type": "code",
   "execution_count": 104,
   "metadata": {},
   "outputs": [],
   "source": [
    "from numpy.linalg import lstsq\n",
    "PHI_MAT = np.concatenate((Phi0_gamma1, Phi0_gamma2), axis=0)\n",
    "res = lstsq(PHI_MAT, F)"
   ]
  },
  {
   "cell_type": "code",
   "execution_count": 105,
   "metadata": {},
   "outputs": [
    {
     "data": {
      "text/plain": [
       "(array([[3.17395366e+00],\n",
       "        [3.17395366e+00],\n",
       "        [3.17395366e+00],\n",
       "        [3.17395366e+00],\n",
       "        [7.22821332e+06],\n",
       "        [7.22821332e+06],\n",
       "        [7.22821332e+06],\n",
       "        [7.22821332e+06]]),\n",
       " array([0.08463917]),\n",
       " np.int32(8),\n",
       " array([3.15727274e-02, 2.97609598e-02, 2.97609598e-02, 2.80713991e-02,\n",
       "        3.04379457e-05, 3.04337557e-05, 3.04337557e-05, 3.04292584e-05]))"
      ]
     },
     "execution_count": 105,
     "metadata": {},
     "output_type": "execute_result"
    }
   ],
   "source": [
    "res"
   ]
  },
  {
   "cell_type": "code",
   "execution_count": 106,
   "metadata": {},
   "outputs": [],
   "source": [
    "alpha_coeeff[5,:] = res[0].T"
   ]
  },
  {
   "cell_type": "code",
   "execution_count": 107,
   "metadata": {},
   "outputs": [
    {
     "data": {
      "text/plain": [
       "array([[ 0.00000000e+00,  0.00000000e+00,  0.00000000e+00,\n",
       "         0.00000000e+00,  0.00000000e+00,  0.00000000e+00,\n",
       "         0.00000000e+00,  0.00000000e+00],\n",
       "       [-2.94448387e-01, -2.94448387e-01, -2.94448387e-01,\n",
       "        -2.94448387e-01,  1.33113796e+04,  1.33113796e+04,\n",
       "         1.33113796e+04,  1.33113796e+04],\n",
       "       [-6.43977617e-01, -6.43977617e-01, -6.43977617e-01,\n",
       "        -6.43977617e-01, -1.22115180e+05, -1.22115180e+05,\n",
       "        -1.22115180e+05, -1.22115180e+05],\n",
       "       [ 1.20535392e+00,  1.20535392e+00,  1.20535392e+00,\n",
       "         1.20535392e+00,  6.19554659e+05,  6.19554659e+05,\n",
       "         6.19554659e+05,  6.19554659e+05],\n",
       "       [-1.65881173e+00, -1.65881173e+00, -1.65881173e+00,\n",
       "        -1.65881173e+00, -2.32579550e+06, -2.32579550e+06,\n",
       "        -2.32579550e+06, -2.32579550e+06],\n",
       "       [ 3.17395366e+00,  3.17395366e+00,  3.17395366e+00,\n",
       "         3.17395366e+00,  7.22821332e+06,  7.22821332e+06,\n",
       "         7.22821332e+06,  7.22821332e+06],\n",
       "       [            nan,             nan,             nan,\n",
       "                    nan,             nan,             nan,\n",
       "                    nan,             nan],\n",
       "       [            nan,             nan,             nan,\n",
       "                    nan,             nan,             nan,\n",
       "                    nan,             nan],\n",
       "       [            nan,             nan,             nan,\n",
       "                    nan,             nan,             nan,\n",
       "                    nan,             nan],\n",
       "       [            nan,             nan,             nan,\n",
       "                    nan,             nan,             nan,\n",
       "                    nan,             nan]])"
      ]
     },
     "execution_count": 107,
     "metadata": {},
     "output_type": "execute_result"
    }
   ],
   "source": [
    "alpha_coeeff"
   ]
  },
  {
   "cell_type": "code",
   "execution_count": null,
   "metadata": {},
   "outputs": [],
   "source": [
    "for i in range(0, N+1):\n",
    "    alpha_coeeff[n, i] = res[0][i]"
   ]
  },
  {
   "cell_type": "code",
   "execution_count": null,
   "metadata": {},
   "outputs": [],
   "source": []
  },
  {
   "cell_type": "code",
   "execution_count": null,
   "metadata": {},
   "outputs": [],
   "source": []
  },
  {
   "cell_type": "code",
   "execution_count": null,
   "metadata": {},
   "outputs": [],
   "source": []
  },
  {
   "cell_type": "code",
   "execution_count": null,
   "metadata": {},
   "outputs": [],
   "source": []
  },
  {
   "cell_type": "markdown",
   "metadata": {},
   "source": [
    "Calculate righhand side of matrices"
   ]
  },
  {
   "cell_type": "code",
   "execution_count": null,
   "metadata": {},
   "outputs": [],
   "source": [
    "for i in range(1, M+1):\n",
    "    for j in range(1, M+1):\n",
    "        artx, arty = source_points.get_point(j-1)\n",
    "        delta = np.sqrt((Gamma.x[i-1]-artx)**2 + (Gamma.y[i-1]-arty)**2 )\n",
    "        phi_vals[i-1, j-1] = fs_2d(n,delta, mfs_data.nu, mfs_poly)"
   ]
  },
  {
   "cell_type": "code",
   "execution_count": null,
   "metadata": {},
   "outputs": [],
   "source": []
  },
  {
   "cell_type": "code",
   "execution_count": null,
   "metadata": {},
   "outputs": [],
   "source": []
  },
  {
   "cell_type": "code",
   "execution_count": 20,
   "metadata": {},
   "outputs": [],
   "source": [
    "from gpbr.gpbr.mfs.fundamental_sequence import fs_2d\n",
    "## l = 0 (inner boundary)\n",
    "n = 0\n",
    "phi0_vals = []\n",
    "i = 1\n",
    "for j in range(1, M+1):\n",
    "    artx, arty = source_points.get_point(j-1)\n",
    "    delta = np.sqrt((Gamma1.x[i-1]-artx)**2 + (Gamma1.y[i-1]-arty)**2 )\n",
    "    phi0_vals.append(fs_2d(n,delta, mfs_data.nu, mfs_polynomyals))"
   ]
  },
  {
   "cell_type": "code",
   "execution_count": 22,
   "metadata": {},
   "outputs": [
    {
     "data": {
      "text/plain": [
       "array([0., 0., 0., 0., 0., 0., 0., 0.])"
      ]
     },
     "execution_count": 22,
     "metadata": {},
     "output_type": "execute_result"
    }
   ],
   "source": [
    "phi0_vals - phi0[0]"
   ]
  },
  {
   "cell_type": "code",
   "execution_count": null,
   "metadata": {},
   "outputs": [],
   "source": []
  },
  {
   "cell_type": "code",
   "execution_count": null,
   "metadata": {},
   "outputs": [],
   "source": []
  },
  {
   "cell_type": "code",
   "execution_count": null,
   "metadata": {},
   "outputs": [],
   "source": []
  },
  {
   "cell_type": "code",
   "execution_count": null,
   "metadata": {},
   "outputs": [],
   "source": []
  },
  {
   "cell_type": "code",
   "execution_count": null,
   "metadata": {},
   "outputs": [],
   "source": []
  },
  {
   "cell_type": "code",
   "execution_count": null,
   "metadata": {},
   "outputs": [],
   "source": []
  },
  {
   "cell_type": "code",
   "execution_count": null,
   "metadata": {},
   "outputs": [],
   "source": []
  },
  {
   "cell_type": "code",
   "execution_count": null,
   "metadata": {},
   "outputs": [],
   "source": []
  },
  {
   "cell_type": "code",
   "execution_count": null,
   "metadata": {},
   "outputs": [],
   "source": []
  },
  {
   "cell_type": "code",
   "execution_count": null,
   "metadata": {},
   "outputs": [],
   "source": []
  },
  {
   "cell_type": "code",
   "execution_count": null,
   "metadata": {},
   "outputs": [],
   "source": []
  },
  {
   "cell_type": "code",
   "execution_count": null,
   "metadata": {},
   "outputs": [],
   "source": []
  },
  {
   "cell_type": "code",
   "execution_count": null,
   "metadata": {},
   "outputs": [],
   "source": []
  },
  {
   "cell_type": "code",
   "execution_count": null,
   "metadata": {},
   "outputs": [],
   "source": []
  },
  {
   "cell_type": "code",
   "execution_count": null,
   "metadata": {},
   "outputs": [],
   "source": []
  },
  {
   "cell_type": "code",
   "execution_count": null,
   "metadata": {},
   "outputs": [],
   "source": []
  },
  {
   "cell_type": "code",
   "execution_count": null,
   "metadata": {},
   "outputs": [],
   "source": []
  },
  {
   "cell_type": "code",
   "execution_count": null,
   "metadata": {},
   "outputs": [],
   "source": []
  },
  {
   "cell_type": "code",
   "execution_count": null,
   "metadata": {},
   "outputs": [],
   "source": []
  }
 ],
 "metadata": {
  "kernelspec": {
   "display_name": "Python 3",
   "language": "python",
   "name": "python3"
  },
  "language_info": {
   "codemirror_mode": {
    "name": "ipython",
    "version": 3
   },
   "file_extension": ".py",
   "mimetype": "text/x-python",
   "name": "python",
   "nbconvert_exporter": "python",
   "pygments_lexer": "ipython3",
   "version": "3.12.6"
  }
 },
 "nbformat": 4,
 "nbformat_minor": 2
}
