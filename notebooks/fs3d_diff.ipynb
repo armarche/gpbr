{
 "cells": [
  {
   "cell_type": "code",
   "execution_count": 1,
   "metadata": {},
   "outputs": [],
   "source": [
    "import sympy as sp"
   ]
  },
  {
   "cell_type": "code",
   "execution_count": 2,
   "metadata": {},
   "outputs": [],
   "source": [
    "x1, x2, x3, y1, y2, y3 = sp.symbols('x1 x2 x3 y1 y2 y3')\n",
    "mu = sp.symbols('mu')\n",
    "dist = sp.sqrt((x1 - y1)**2 + (x2 - y2)**2 + (x3 - y3)**2)\n",
    "vn = sp.Function('vn')(dist)\n"
   ]
  },
  {
   "cell_type": "code",
   "execution_count": 3,
   "metadata": {},
   "outputs": [
    {
     "data": {
      "text/latex": [
       "$\\displaystyle \\operatorname{vn}{\\left(\\sqrt{\\left(x_{1} - y_{1}\\right)^{2} + \\left(x_{2} - y_{2}\\right)^{2} + \\left(x_{3} - y_{3}\\right)^{2}} \\right)}$"
      ],
      "text/plain": [
       "vn(sqrt((x1 - y1)**2 + (x2 - y2)**2 + (x3 - y3)**2))"
      ]
     },
     "execution_count": 3,
     "metadata": {},
     "output_type": "execute_result"
    }
   ],
   "source": [
    "vn"
   ]
  },
  {
   "cell_type": "code",
   "execution_count": 4,
   "metadata": {},
   "outputs": [
    {
     "data": {
      "text/latex": [
       "$\\displaystyle \\frac{\\operatorname{vn}{\\left(\\sqrt{\\left(x_{1} - y_{1}\\right)^{2} + \\left(x_{2} - y_{2}\\right)^{2} + \\left(x_{3} - y_{3}\\right)^{2}} \\right)} e^{- \\mu \\sqrt{\\left(x_{1} - y_{1}\\right)^{2} + \\left(x_{2} - y_{2}\\right)^{2} + \\left(x_{3} - y_{3}\\right)^{2}}}}{\\sqrt{\\left(x_{1} - y_{1}\\right)^{2} + \\left(x_{2} - y_{2}\\right)^{2} + \\left(x_{3} - y_{3}\\right)^{2}}}$"
      ],
      "text/plain": [
       "vn(sqrt((x1 - y1)**2 + (x2 - y2)**2 + (x3 - y3)**2))*exp(-mu*sqrt((x1 - y1)**2 + (x2 - y2)**2 + (x3 - y3)**2))/sqrt((x1 - y1)**2 + (x2 - y2)**2 + (x3 - y3)**2)"
      ]
     },
     "execution_count": 4,
     "metadata": {},
     "output_type": "execute_result"
    }
   ],
   "source": [
    "PHI = (sp.exp(-mu*dist)/dist)*vn\n",
    "PHI"
   ]
  },
  {
   "cell_type": "code",
   "execution_count": 5,
   "metadata": {},
   "outputs": [
    {
     "data": {
      "text/latex": [
       "$\\displaystyle - \\frac{\\mu \\left(x_{1} - y_{1}\\right) \\operatorname{vn}{\\left(\\sqrt{\\left(x_{1} - y_{1}\\right)^{2} + \\left(x_{2} - y_{2}\\right)^{2} + \\left(x_{3} - y_{3}\\right)^{2}} \\right)} e^{- \\mu \\sqrt{\\left(x_{1} - y_{1}\\right)^{2} + \\left(x_{2} - y_{2}\\right)^{2} + \\left(x_{3} - y_{3}\\right)^{2}}}}{\\left(x_{1} - y_{1}\\right)^{2} + \\left(x_{2} - y_{2}\\right)^{2} + \\left(x_{3} - y_{3}\\right)^{2}} + \\frac{\\left(- x_{1} + y_{1}\\right) \\operatorname{vn}{\\left(\\sqrt{\\left(x_{1} - y_{1}\\right)^{2} + \\left(x_{2} - y_{2}\\right)^{2} + \\left(x_{3} - y_{3}\\right)^{2}} \\right)} e^{- \\mu \\sqrt{\\left(x_{1} - y_{1}\\right)^{2} + \\left(x_{2} - y_{2}\\right)^{2} + \\left(x_{3} - y_{3}\\right)^{2}}}}{\\left(\\left(x_{1} - y_{1}\\right)^{2} + \\left(x_{2} - y_{2}\\right)^{2} + \\left(x_{3} - y_{3}\\right)^{2}\\right)^{\\frac{3}{2}}} + \\frac{\\left(x_{1} - y_{1}\\right) e^{- \\mu \\sqrt{\\left(x_{1} - y_{1}\\right)^{2} + \\left(x_{2} - y_{2}\\right)^{2} + \\left(x_{3} - y_{3}\\right)^{2}}} \\left. \\frac{d}{d \\xi_{1}} \\operatorname{vn}{\\left(\\xi_{1} \\right)} \\right|_{\\substack{ \\xi_{1}=\\sqrt{\\left(x_{1} - y_{1}\\right)^{2} + \\left(x_{2} - y_{2}\\right)^{2} + \\left(x_{3} - y_{3}\\right)^{2}} }}}{\\left(x_{1} - y_{1}\\right)^{2} + \\left(x_{2} - y_{2}\\right)^{2} + \\left(x_{3} - y_{3}\\right)^{2}}$"
      ],
      "text/plain": [
       "-mu*(x1 - y1)*vn(sqrt((x1 - y1)**2 + (x2 - y2)**2 + (x3 - y3)**2))*exp(-mu*sqrt((x1 - y1)**2 + (x2 - y2)**2 + (x3 - y3)**2))/((x1 - y1)**2 + (x2 - y2)**2 + (x3 - y3)**2) + (-x1 + y1)*vn(sqrt((x1 - y1)**2 + (x2 - y2)**2 + (x3 - y3)**2))*exp(-mu*sqrt((x1 - y1)**2 + (x2 - y2)**2 + (x3 - y3)**2))/((x1 - y1)**2 + (x2 - y2)**2 + (x3 - y3)**2)**(3/2) + (x1 - y1)*exp(-mu*sqrt((x1 - y1)**2 + (x2 - y2)**2 + (x3 - y3)**2))*Subs(Derivative(vn(_xi_1), _xi_1), _xi_1, sqrt((x1 - y1)**2 + (x2 - y2)**2 + (x3 - y3)**2))/((x1 - y1)**2 + (x2 - y2)**2 + (x3 - y3)**2)"
      ]
     },
     "execution_count": 5,
     "metadata": {},
     "output_type": "execute_result"
    }
   ],
   "source": [
    "sp.diff(PHI, x1)"
   ]
  },
  {
   "cell_type": "code",
   "execution_count": 6,
   "metadata": {},
   "outputs": [
    {
     "data": {
      "text/latex": [
       "$\\displaystyle - \\frac{\\mu \\left(x_{2} - y_{2}\\right) \\operatorname{vn}{\\left(\\sqrt{\\left(x_{1} - y_{1}\\right)^{2} + \\left(x_{2} - y_{2}\\right)^{2} + \\left(x_{3} - y_{3}\\right)^{2}} \\right)} e^{- \\mu \\sqrt{\\left(x_{1} - y_{1}\\right)^{2} + \\left(x_{2} - y_{2}\\right)^{2} + \\left(x_{3} - y_{3}\\right)^{2}}}}{\\left(x_{1} - y_{1}\\right)^{2} + \\left(x_{2} - y_{2}\\right)^{2} + \\left(x_{3} - y_{3}\\right)^{2}} + \\frac{\\left(- x_{2} + y_{2}\\right) \\operatorname{vn}{\\left(\\sqrt{\\left(x_{1} - y_{1}\\right)^{2} + \\left(x_{2} - y_{2}\\right)^{2} + \\left(x_{3} - y_{3}\\right)^{2}} \\right)} e^{- \\mu \\sqrt{\\left(x_{1} - y_{1}\\right)^{2} + \\left(x_{2} - y_{2}\\right)^{2} + \\left(x_{3} - y_{3}\\right)^{2}}}}{\\left(\\left(x_{1} - y_{1}\\right)^{2} + \\left(x_{2} - y_{2}\\right)^{2} + \\left(x_{3} - y_{3}\\right)^{2}\\right)^{\\frac{3}{2}}} + \\frac{\\left(x_{2} - y_{2}\\right) e^{- \\mu \\sqrt{\\left(x_{1} - y_{1}\\right)^{2} + \\left(x_{2} - y_{2}\\right)^{2} + \\left(x_{3} - y_{3}\\right)^{2}}} \\left. \\frac{d}{d \\xi_{1}} \\operatorname{vn}{\\left(\\xi_{1} \\right)} \\right|_{\\substack{ \\xi_{1}=\\sqrt{\\left(x_{1} - y_{1}\\right)^{2} + \\left(x_{2} - y_{2}\\right)^{2} + \\left(x_{3} - y_{3}\\right)^{2}} }}}{\\left(x_{1} - y_{1}\\right)^{2} + \\left(x_{2} - y_{2}\\right)^{2} + \\left(x_{3} - y_{3}\\right)^{2}}$"
      ],
      "text/plain": [
       "-mu*(x2 - y2)*vn(sqrt((x1 - y1)**2 + (x2 - y2)**2 + (x3 - y3)**2))*exp(-mu*sqrt((x1 - y1)**2 + (x2 - y2)**2 + (x3 - y3)**2))/((x1 - y1)**2 + (x2 - y2)**2 + (x3 - y3)**2) + (-x2 + y2)*vn(sqrt((x1 - y1)**2 + (x2 - y2)**2 + (x3 - y3)**2))*exp(-mu*sqrt((x1 - y1)**2 + (x2 - y2)**2 + (x3 - y3)**2))/((x1 - y1)**2 + (x2 - y2)**2 + (x3 - y3)**2)**(3/2) + (x2 - y2)*exp(-mu*sqrt((x1 - y1)**2 + (x2 - y2)**2 + (x3 - y3)**2))*Subs(Derivative(vn(_xi_1), _xi_1), _xi_1, sqrt((x1 - y1)**2 + (x2 - y2)**2 + (x3 - y3)**2))/((x1 - y1)**2 + (x2 - y2)**2 + (x3 - y3)**2)"
      ]
     },
     "execution_count": 6,
     "metadata": {},
     "output_type": "execute_result"
    }
   ],
   "source": [
    "sp.diff(PHI, x2)"
   ]
  },
  {
   "cell_type": "code",
   "execution_count": 7,
   "metadata": {},
   "outputs": [
    {
     "data": {
      "text/latex": [
       "$\\displaystyle - \\frac{\\mu \\left(x_{3} - y_{3}\\right) \\operatorname{vn}{\\left(\\sqrt{\\left(x_{1} - y_{1}\\right)^{2} + \\left(x_{2} - y_{2}\\right)^{2} + \\left(x_{3} - y_{3}\\right)^{2}} \\right)} e^{- \\mu \\sqrt{\\left(x_{1} - y_{1}\\right)^{2} + \\left(x_{2} - y_{2}\\right)^{2} + \\left(x_{3} - y_{3}\\right)^{2}}}}{\\left(x_{1} - y_{1}\\right)^{2} + \\left(x_{2} - y_{2}\\right)^{2} + \\left(x_{3} - y_{3}\\right)^{2}} + \\frac{\\left(- x_{3} + y_{3}\\right) \\operatorname{vn}{\\left(\\sqrt{\\left(x_{1} - y_{1}\\right)^{2} + \\left(x_{2} - y_{2}\\right)^{2} + \\left(x_{3} - y_{3}\\right)^{2}} \\right)} e^{- \\mu \\sqrt{\\left(x_{1} - y_{1}\\right)^{2} + \\left(x_{2} - y_{2}\\right)^{2} + \\left(x_{3} - y_{3}\\right)^{2}}}}{\\left(\\left(x_{1} - y_{1}\\right)^{2} + \\left(x_{2} - y_{2}\\right)^{2} + \\left(x_{3} - y_{3}\\right)^{2}\\right)^{\\frac{3}{2}}} + \\frac{\\left(x_{3} - y_{3}\\right) e^{- \\mu \\sqrt{\\left(x_{1} - y_{1}\\right)^{2} + \\left(x_{2} - y_{2}\\right)^{2} + \\left(x_{3} - y_{3}\\right)^{2}}} \\left. \\frac{d}{d \\xi_{1}} \\operatorname{vn}{\\left(\\xi_{1} \\right)} \\right|_{\\substack{ \\xi_{1}=\\sqrt{\\left(x_{1} - y_{1}\\right)^{2} + \\left(x_{2} - y_{2}\\right)^{2} + \\left(x_{3} - y_{3}\\right)^{2}} }}}{\\left(x_{1} - y_{1}\\right)^{2} + \\left(x_{2} - y_{2}\\right)^{2} + \\left(x_{3} - y_{3}\\right)^{2}}$"
      ],
      "text/plain": [
       "-mu*(x3 - y3)*vn(sqrt((x1 - y1)**2 + (x2 - y2)**2 + (x3 - y3)**2))*exp(-mu*sqrt((x1 - y1)**2 + (x2 - y2)**2 + (x3 - y3)**2))/((x1 - y1)**2 + (x2 - y2)**2 + (x3 - y3)**2) + (-x3 + y3)*vn(sqrt((x1 - y1)**2 + (x2 - y2)**2 + (x3 - y3)**2))*exp(-mu*sqrt((x1 - y1)**2 + (x2 - y2)**2 + (x3 - y3)**2))/((x1 - y1)**2 + (x2 - y2)**2 + (x3 - y3)**2)**(3/2) + (x3 - y3)*exp(-mu*sqrt((x1 - y1)**2 + (x2 - y2)**2 + (x3 - y3)**2))*Subs(Derivative(vn(_xi_1), _xi_1), _xi_1, sqrt((x1 - y1)**2 + (x2 - y2)**2 + (x3 - y3)**2))/((x1 - y1)**2 + (x2 - y2)**2 + (x3 - y3)**2)"
      ]
     },
     "execution_count": 7,
     "metadata": {},
     "output_type": "execute_result"
    }
   ],
   "source": [
    "sp.diff(PHI, x3)"
   ]
  },
  {
   "cell_type": "code",
   "execution_count": 8,
   "metadata": {},
   "outputs": [
    {
     "ename": "AssertionError",
     "evalue": "",
     "output_type": "error",
     "traceback": [
      "\u001b[0;31m---------------------------------------------------------------------------\u001b[0m",
      "\u001b[0;31mAssertionError\u001b[0m                            Traceback (most recent call last)",
      "Cell \u001b[0;32mIn[8], line 1\u001b[0m\n\u001b[0;32m----> 1\u001b[0m \u001b[38;5;28;01massert\u001b[39;00m \u001b[38;5;28;01mFalse\u001b[39;00m\n",
      "\u001b[0;31mAssertionError\u001b[0m: "
     ]
    }
   ],
   "source": [
    "assert False"
   ]
  },
  {
   "cell_type": "code",
   "execution_count": 10,
   "metadata": {},
   "outputs": [],
   "source": [
    "t = sp.symbols('t')\n",
    "dist1 = sp.sqrt((x1 - 0)**2 + (x2 - 4)**2 + (x3 - 0)**2)\n",
    "u3dex = 1/4/sp.pi/t*sp.exp(-dist1**2/4/t)\n"
   ]
  },
  {
   "cell_type": "code",
   "execution_count": 11,
   "metadata": {},
   "outputs": [],
   "source": [
    "du3dex_x1 = sp.diff(u3dex, x1)"
   ]
  },
  {
   "cell_type": "code",
   "execution_count": 12,
   "metadata": {},
   "outputs": [],
   "source": [
    "du3dex_x2 = sp.diff(u3dex, x2)"
   ]
  },
  {
   "cell_type": "code",
   "execution_count": 13,
   "metadata": {},
   "outputs": [],
   "source": [
    "du3dex_x3 = sp.diff(u3dex, x3)"
   ]
  },
  {
   "cell_type": "code",
   "execution_count": 14,
   "metadata": {},
   "outputs": [
    {
     "data": {
      "text/latex": [
       "$\\displaystyle - \\frac{0.125 x_{3} e^{\\frac{- \\frac{x_{1}^{2}}{4} - \\frac{x_{3}^{2}}{4} - \\frac{\\left(x_{2} - 4\\right)^{2}}{4}}{t}}}{\\pi t^{2}}$"
      ],
      "text/plain": [
       "-0.125*x3*exp((-x1**2/4 - x3**2/4 - (x2 - 4)**2/4)/t)/(pi*t**2)"
      ]
     },
     "execution_count": 14,
     "metadata": {},
     "output_type": "execute_result"
    }
   ],
   "source": [
    "du3dex_x3"
   ]
  },
  {
   "cell_type": "code",
   "execution_count": 15,
   "metadata": {},
   "outputs": [
    {
     "data": {
      "text/plain": [
       "'-0.125*x1*exp((-x1**2/4 - x3**2/4 - (x2 - 4)**2/4)/t)/(pi*t**2)'"
      ]
     },
     "execution_count": 15,
     "metadata": {},
     "output_type": "execute_result"
    }
   ],
   "source": [
    "du3dex_x1.__str__()"
   ]
  },
  {
   "cell_type": "code",
   "execution_count": 16,
   "metadata": {},
   "outputs": [
    {
     "data": {
      "text/plain": [
       "'0.25*(2 - x2/2)*exp((-x1**2/4 - x3**2/4 - (x2 - 4)**2/4)/t)/(pi*t**2)'"
      ]
     },
     "execution_count": 16,
     "metadata": {},
     "output_type": "execute_result"
    }
   ],
   "source": [
    "du3dex_x2.__str__()"
   ]
  },
  {
   "cell_type": "code",
   "execution_count": 17,
   "metadata": {},
   "outputs": [
    {
     "data": {
      "text/plain": [
       "'-0.125*x3*exp((-x1**2/4 - x3**2/4 - (x2 - 4)**2/4)/t)/(pi*t**2)'"
      ]
     },
     "execution_count": 17,
     "metadata": {},
     "output_type": "execute_result"
    }
   ],
   "source": [
    "du3dex_x3.__str__()"
   ]
  },
  {
   "cell_type": "code",
   "execution_count": null,
   "metadata": {},
   "outputs": [],
   "source": []
  },
  {
   "cell_type": "code",
   "execution_count": null,
   "metadata": {},
   "outputs": [],
   "source": []
  },
  {
   "cell_type": "code",
   "execution_count": 15,
   "metadata": {},
   "outputs": [
    {
     "ename": "ValueError",
     "evalue": "\nSince there is more than one variable in the expression, the\nvariable(s) of differentiation must be supplied to differentiate\nvn(sqrt((x1 - y1)**2 + (x2 - y2)**2))",
     "output_type": "error",
     "traceback": [
      "\u001b[0;31m---------------------------------------------------------------------------\u001b[0m",
      "\u001b[0;31mValueError\u001b[0m                                Traceback (most recent call last)",
      "Cell \u001b[0;32mIn[15], line 1\u001b[0m\n\u001b[0;32m----> 1\u001b[0m PHI1_dx1 \u001b[38;5;241m=\u001b[39m ((x1\u001b[38;5;241m-\u001b[39my1)\u001b[38;5;241m/\u001b[39m(dist))\u001b[38;5;241m*\u001b[39m((wn\u001b[38;5;241m/\u001b[39m\u001b[38;5;241m2\u001b[39m)\u001b[38;5;241m*\u001b[39m(sp\u001b[38;5;241m.\u001b[39mbesselk(\u001b[38;5;241m0\u001b[39m, mu \u001b[38;5;241m*\u001b[39m dist) \u001b[38;5;241m-\u001b[39m sp\u001b[38;5;241m.\u001b[39mbesselk(\u001b[38;5;241m2\u001b[39m, mu \u001b[38;5;241m*\u001b[39m dist)) \u001b[38;5;241m-\u001b[39m mu\u001b[38;5;241m*\u001b[39mvn\u001b[38;5;241m*\u001b[39msp\u001b[38;5;241m.\u001b[39mbesselk(\u001b[38;5;241m1\u001b[39m, mu \u001b[38;5;241m*\u001b[39m dist) \u001b[38;5;241m+\u001b[39m sp\u001b[38;5;241m.\u001b[39mbesselk(\u001b[38;5;241m0\u001b[39m, mu \u001b[38;5;241m*\u001b[39m dist)\u001b[38;5;241m*\u001b[39m\u001b[43msp\u001b[49m\u001b[38;5;241;43m.\u001b[39;49m\u001b[43mdiff\u001b[49m\u001b[43m(\u001b[49m\u001b[43mvn\u001b[49m\u001b[43m)\u001b[49m \u001b[38;5;241m+\u001b[39m sp\u001b[38;5;241m.\u001b[39mbesselk(\u001b[38;5;241m1\u001b[39m, mu \u001b[38;5;241m*\u001b[39m dist)\u001b[38;5;241m*\u001b[39msp\u001b[38;5;241m.\u001b[39mdiff(wn))\n",
      "File \u001b[0;32m~/.pyenv/versions/3.12.6/lib/python3.12/site-packages/sympy/core/function.py:2481\u001b[0m, in \u001b[0;36mdiff\u001b[0;34m(f, *symbols, **kwargs)\u001b[0m\n\u001b[1;32m   2417\u001b[0m \u001b[38;5;250m\u001b[39m\u001b[38;5;124;03m\"\"\"\u001b[39;00m\n\u001b[1;32m   2418\u001b[0m \u001b[38;5;124;03mDifferentiate f with respect to symbols.\u001b[39;00m\n\u001b[1;32m   2419\u001b[0m \n\u001b[0;32m   (...)\u001b[0m\n\u001b[1;32m   2478\u001b[0m \n\u001b[1;32m   2479\u001b[0m \u001b[38;5;124;03m\"\"\"\u001b[39;00m\n\u001b[1;32m   2480\u001b[0m \u001b[38;5;28;01mif\u001b[39;00m \u001b[38;5;28mhasattr\u001b[39m(f, \u001b[38;5;124m'\u001b[39m\u001b[38;5;124mdiff\u001b[39m\u001b[38;5;124m'\u001b[39m):\n\u001b[0;32m-> 2481\u001b[0m     \u001b[38;5;28;01mreturn\u001b[39;00m \u001b[43mf\u001b[49m\u001b[38;5;241;43m.\u001b[39;49m\u001b[43mdiff\u001b[49m\u001b[43m(\u001b[49m\u001b[38;5;241;43m*\u001b[39;49m\u001b[43msymbols\u001b[49m\u001b[43m,\u001b[49m\u001b[43m \u001b[49m\u001b[38;5;241;43m*\u001b[39;49m\u001b[38;5;241;43m*\u001b[39;49m\u001b[43mkwargs\u001b[49m\u001b[43m)\u001b[49m\n\u001b[1;32m   2482\u001b[0m kwargs\u001b[38;5;241m.\u001b[39msetdefault(\u001b[38;5;124m'\u001b[39m\u001b[38;5;124mevaluate\u001b[39m\u001b[38;5;124m'\u001b[39m, \u001b[38;5;28;01mTrue\u001b[39;00m)\n\u001b[1;32m   2483\u001b[0m \u001b[38;5;28;01mreturn\u001b[39;00m _derivative_dispatch(f, \u001b[38;5;241m*\u001b[39msymbols, \u001b[38;5;241m*\u001b[39m\u001b[38;5;241m*\u001b[39mkwargs)\n",
      "File \u001b[0;32m~/.pyenv/versions/3.12.6/lib/python3.12/site-packages/sympy/core/expr.py:3575\u001b[0m, in \u001b[0;36mExpr.diff\u001b[0;34m(self, *symbols, **assumptions)\u001b[0m\n\u001b[1;32m   3573\u001b[0m \u001b[38;5;28;01mdef\u001b[39;00m \u001b[38;5;21mdiff\u001b[39m(\u001b[38;5;28mself\u001b[39m, \u001b[38;5;241m*\u001b[39msymbols, \u001b[38;5;241m*\u001b[39m\u001b[38;5;241m*\u001b[39massumptions):\n\u001b[1;32m   3574\u001b[0m     assumptions\u001b[38;5;241m.\u001b[39msetdefault(\u001b[38;5;124m\"\u001b[39m\u001b[38;5;124mevaluate\u001b[39m\u001b[38;5;124m\"\u001b[39m, \u001b[38;5;28;01mTrue\u001b[39;00m)\n\u001b[0;32m-> 3575\u001b[0m     \u001b[38;5;28;01mreturn\u001b[39;00m \u001b[43m_derivative_dispatch\u001b[49m\u001b[43m(\u001b[49m\u001b[38;5;28;43mself\u001b[39;49m\u001b[43m,\u001b[49m\u001b[43m \u001b[49m\u001b[38;5;241;43m*\u001b[39;49m\u001b[43msymbols\u001b[49m\u001b[43m,\u001b[49m\u001b[43m \u001b[49m\u001b[38;5;241;43m*\u001b[39;49m\u001b[38;5;241;43m*\u001b[39;49m\u001b[43massumptions\u001b[49m\u001b[43m)\u001b[49m\n",
      "File \u001b[0;32m~/.pyenv/versions/3.12.6/lib/python3.12/site-packages/sympy/core/function.py:1908\u001b[0m, in \u001b[0;36m_derivative_dispatch\u001b[0;34m(expr, *variables, **kwargs)\u001b[0m\n\u001b[1;32m   1906\u001b[0m     \u001b[38;5;28;01mfrom\u001b[39;00m \u001b[38;5;21;01msympy\u001b[39;00m\u001b[38;5;21;01m.\u001b[39;00m\u001b[38;5;21;01mtensor\u001b[39;00m\u001b[38;5;21;01m.\u001b[39;00m\u001b[38;5;21;01marray\u001b[39;00m\u001b[38;5;21;01m.\u001b[39;00m\u001b[38;5;21;01marray_derivatives\u001b[39;00m \u001b[38;5;28;01mimport\u001b[39;00m ArrayDerivative\n\u001b[1;32m   1907\u001b[0m     \u001b[38;5;28;01mreturn\u001b[39;00m ArrayDerivative(expr, \u001b[38;5;241m*\u001b[39mvariables, \u001b[38;5;241m*\u001b[39m\u001b[38;5;241m*\u001b[39mkwargs)\n\u001b[0;32m-> 1908\u001b[0m \u001b[38;5;28;01mreturn\u001b[39;00m \u001b[43mDerivative\u001b[49m\u001b[43m(\u001b[49m\u001b[43mexpr\u001b[49m\u001b[43m,\u001b[49m\u001b[43m \u001b[49m\u001b[38;5;241;43m*\u001b[39;49m\u001b[43mvariables\u001b[49m\u001b[43m,\u001b[49m\u001b[43m \u001b[49m\u001b[38;5;241;43m*\u001b[39;49m\u001b[38;5;241;43m*\u001b[39;49m\u001b[43mkwargs\u001b[49m\u001b[43m)\u001b[49m\n",
      "File \u001b[0;32m~/.pyenv/versions/3.12.6/lib/python3.12/site-packages/sympy/core/function.py:1254\u001b[0m, in \u001b[0;36mDerivative.__new__\u001b[0;34m(cls, expr, *variables, **kwargs)\u001b[0m\n\u001b[1;32m   1249\u001b[0m             \u001b[38;5;28;01mraise\u001b[39;00m \u001b[38;5;167;01mValueError\u001b[39;00m(filldedent(\u001b[38;5;124m'''\u001b[39m\n\u001b[1;32m   1250\u001b[0m \u001b[38;5;124m                Since there are no variables in the expression,\u001b[39m\n\u001b[1;32m   1251\u001b[0m \u001b[38;5;124m                the variable(s) of differentiation must be supplied\u001b[39m\n\u001b[1;32m   1252\u001b[0m \u001b[38;5;124m                to differentiate \u001b[39m\u001b[38;5;132;01m%s\u001b[39;00m\u001b[38;5;124m'''\u001b[39m \u001b[38;5;241m%\u001b[39m expr))\n\u001b[1;32m   1253\u001b[0m         \u001b[38;5;28;01melse\u001b[39;00m:\n\u001b[0;32m-> 1254\u001b[0m             \u001b[38;5;28;01mraise\u001b[39;00m \u001b[38;5;167;01mValueError\u001b[39;00m(filldedent(\u001b[38;5;124m'''\u001b[39m\n\u001b[1;32m   1255\u001b[0m \u001b[38;5;124m                Since there is more than one variable in the\u001b[39m\n\u001b[1;32m   1256\u001b[0m \u001b[38;5;124m                expression, the variable(s) of differentiation\u001b[39m\n\u001b[1;32m   1257\u001b[0m \u001b[38;5;124m                must be supplied to differentiate \u001b[39m\u001b[38;5;132;01m%s\u001b[39;00m\u001b[38;5;124m'''\u001b[39m \u001b[38;5;241m%\u001b[39m expr))\n\u001b[1;32m   1259\u001b[0m \u001b[38;5;66;03m# Split the list of variables into a list of the variables we are diff\u001b[39;00m\n\u001b[1;32m   1260\u001b[0m \u001b[38;5;66;03m# wrt, where each element of the list has the form (s, count) where\u001b[39;00m\n\u001b[1;32m   1261\u001b[0m \u001b[38;5;66;03m# s is the entity to diff wrt and count is the order of the\u001b[39;00m\n\u001b[1;32m   1262\u001b[0m \u001b[38;5;66;03m# derivative.\u001b[39;00m\n\u001b[1;32m   1263\u001b[0m variable_count \u001b[38;5;241m=\u001b[39m []\n",
      "\u001b[0;31mValueError\u001b[0m: \nSince there is more than one variable in the expression, the\nvariable(s) of differentiation must be supplied to differentiate\nvn(sqrt((x1 - y1)**2 + (x2 - y2)**2))"
     ]
    }
   ],
   "source": [
    "PHI1_dx1 = ((x1-y1)/(dist))*((wn/2)*(sp.besselk(0, mu * dist) - sp.besselk(2, mu * dist)) - mu*vn*sp.besselk(1, mu * dist) + sp.besselk(0, mu * dist)*sp.diff(vn) + sp.besselk(1, mu * dist)*sp.diff(wn))"
   ]
  },
  {
   "cell_type": "code",
   "execution_count": 29,
   "metadata": {},
   "outputs": [
    {
     "data": {
      "text/latex": [
       "$\\displaystyle \\frac{\\left(x_{1} - x_{2}\\right) \\left. \\frac{d}{d \\xi_{1}} \\operatorname{vn}{\\left(\\xi_{1} \\right)} \\right|_{\\substack{ \\xi_{1}=\\sqrt{\\left(x_{1} - x_{2}\\right)^{2} + \\left(y_{1} - y_{2}\\right)^{2}} }}}{\\sqrt{\\left(x_{1} - x_{2}\\right)^{2} + \\left(y_{1} - y_{2}\\right)^{2}}}$"
      ],
      "text/plain": [
       "(x1 - x2)*Subs(Derivative(vn(_xi_1), _xi_1), _xi_1, sqrt((x1 - x2)**2 + (y1 - y2)**2))/sqrt((x1 - x2)**2 + (y1 - y2)**2)"
      ]
     },
     "execution_count": 29,
     "metadata": {},
     "output_type": "execute_result"
    }
   ],
   "source": [
    "sp.diff(vn, x1, evaluate=True)"
   ]
  },
  {
   "cell_type": "code",
   "execution_count": 7,
   "metadata": {},
   "outputs": [
    {
     "data": {
      "text/latex": [
       "$\\displaystyle \\frac{\\mu \\left(x_{1} - x_{2}\\right) \\left(- \\frac{K_{0}\\left(\\mu \\sqrt{\\left(x_{1} - x_{2}\\right)^{2} + \\left(y_{1} - y_{2}\\right)^{2}}\\right)}{2} - \\frac{K_{2}\\left(\\mu \\sqrt{\\left(x_{1} - x_{2}\\right)^{2} + \\left(y_{1} - y_{2}\\right)^{2}}\\right)}{2}\\right) \\operatorname{wn}{\\left(\\sqrt{\\left(x_{1} - x_{2}\\right)^{2} + \\left(y_{1} - y_{2}\\right)^{2}} \\right)}}{\\sqrt{\\left(x_{1} - x_{2}\\right)^{2} + \\left(y_{1} - y_{2}\\right)^{2}}} - \\frac{\\mu \\left(x_{1} - x_{2}\\right) \\operatorname{vn}{\\left(\\sqrt{\\left(x_{1} - x_{2}\\right)^{2} + \\left(y_{1} - y_{2}\\right)^{2}} \\right)} K_{1}\\left(\\mu \\sqrt{\\left(x_{1} - x_{2}\\right)^{2} + \\left(y_{1} - y_{2}\\right)^{2}}\\right)}{\\sqrt{\\left(x_{1} - x_{2}\\right)^{2} + \\left(y_{1} - y_{2}\\right)^{2}}} + \\frac{\\left(x_{1} - x_{2}\\right) K_{0}\\left(\\mu \\sqrt{\\left(x_{1} - x_{2}\\right)^{2} + \\left(y_{1} - y_{2}\\right)^{2}}\\right) \\left. \\frac{d}{d \\xi_{1}} \\operatorname{vn}{\\left(\\xi_{1} \\right)} \\right|_{\\substack{ \\xi_{1}=\\sqrt{\\left(x_{1} - x_{2}\\right)^{2} + \\left(y_{1} - y_{2}\\right)^{2}} }}}{\\sqrt{\\left(x_{1} - x_{2}\\right)^{2} + \\left(y_{1} - y_{2}\\right)^{2}}} + \\frac{\\left(x_{1} - x_{2}\\right) K_{1}\\left(\\mu \\sqrt{\\left(x_{1} - x_{2}\\right)^{2} + \\left(y_{1} - y_{2}\\right)^{2}}\\right) \\left. \\frac{d}{d \\xi_{1}} \\operatorname{wn}{\\left(\\xi_{1} \\right)} \\right|_{\\substack{ \\xi_{1}=\\sqrt{\\left(x_{1} - x_{2}\\right)^{2} + \\left(y_{1} - y_{2}\\right)^{2}} }}}{\\sqrt{\\left(x_{1} - x_{2}\\right)^{2} + \\left(y_{1} - y_{2}\\right)^{2}}}$"
      ],
      "text/plain": [
       "mu*(x1 - x2)*(-besselk(0, mu*sqrt((x1 - x2)**2 + (y1 - y2)**2))/2 - besselk(2, mu*sqrt((x1 - x2)**2 + (y1 - y2)**2))/2)*wn(sqrt((x1 - x2)**2 + (y1 - y2)**2))/sqrt((x1 - x2)**2 + (y1 - y2)**2) - mu*(x1 - x2)*vn(sqrt((x1 - x2)**2 + (y1 - y2)**2))*besselk(1, mu*sqrt((x1 - x2)**2 + (y1 - y2)**2))/sqrt((x1 - x2)**2 + (y1 - y2)**2) + (x1 - x2)*besselk(0, mu*sqrt((x1 - x2)**2 + (y1 - y2)**2))*Subs(Derivative(vn(_xi_1), _xi_1), _xi_1, sqrt((x1 - x2)**2 + (y1 - y2)**2))/sqrt((x1 - x2)**2 + (y1 - y2)**2) + (x1 - x2)*besselk(1, mu*sqrt((x1 - x2)**2 + (y1 - y2)**2))*Subs(Derivative(wn(_xi_1), _xi_1), _xi_1, sqrt((x1 - x2)**2 + (y1 - y2)**2))/sqrt((x1 - x2)**2 + (y1 - y2)**2)"
      ]
     },
     "execution_count": 7,
     "metadata": {},
     "output_type": "execute_result"
    }
   ],
   "source": [
    "sp.diff(PHI, x1)"
   ]
  },
  {
   "cell_type": "code",
   "execution_count": 13,
   "metadata": {},
   "outputs": [
    {
     "data": {
      "text/latex": [
       "$\\displaystyle \\frac{\\mu \\left(- x_{1} + x_{2}\\right) \\left(- \\frac{K_{0}\\left(\\mu \\sqrt{\\left(x_{1} - x_{2}\\right)^{2} + \\left(y_{1} - y_{2}\\right)^{2}}\\right)}{2} - \\frac{K_{2}\\left(\\mu \\sqrt{\\left(x_{1} - x_{2}\\right)^{2} + \\left(y_{1} - y_{2}\\right)^{2}}\\right)}{2}\\right) \\operatorname{wn}{\\left(\\sqrt{\\left(x_{1} - x_{2}\\right)^{2} + \\left(y_{1} - y_{2}\\right)^{2}} \\right)}}{\\sqrt{\\left(x_{1} - x_{2}\\right)^{2} + \\left(y_{1} - y_{2}\\right)^{2}}} - \\frac{\\mu \\left(- x_{1} + x_{2}\\right) \\operatorname{vn}{\\left(\\sqrt{\\left(x_{1} - x_{2}\\right)^{2} + \\left(y_{1} - y_{2}\\right)^{2}} \\right)} K_{1}\\left(\\mu \\sqrt{\\left(x_{1} - x_{2}\\right)^{2} + \\left(y_{1} - y_{2}\\right)^{2}}\\right)}{\\sqrt{\\left(x_{1} - x_{2}\\right)^{2} + \\left(y_{1} - y_{2}\\right)^{2}}} + \\frac{\\left(- x_{1} + x_{2}\\right) K_{0}\\left(\\mu \\sqrt{\\left(x_{1} - x_{2}\\right)^{2} + \\left(y_{1} - y_{2}\\right)^{2}}\\right) \\left. \\frac{d}{d \\xi_{1}} \\operatorname{vn}{\\left(\\xi_{1} \\right)} \\right|_{\\substack{ \\xi_{1}=\\sqrt{\\left(x_{1} - x_{2}\\right)^{2} + \\left(y_{1} - y_{2}\\right)^{2}} }}}{\\sqrt{\\left(x_{1} - x_{2}\\right)^{2} + \\left(y_{1} - y_{2}\\right)^{2}}} + \\frac{\\left(- x_{1} + x_{2}\\right) K_{1}\\left(\\mu \\sqrt{\\left(x_{1} - x_{2}\\right)^{2} + \\left(y_{1} - y_{2}\\right)^{2}}\\right) \\left. \\frac{d}{d \\xi_{1}} \\operatorname{wn}{\\left(\\xi_{1} \\right)} \\right|_{\\substack{ \\xi_{1}=\\sqrt{\\left(x_{1} - x_{2}\\right)^{2} + \\left(y_{1} - y_{2}\\right)^{2}} }}}{\\sqrt{\\left(x_{1} - x_{2}\\right)^{2} + \\left(y_{1} - y_{2}\\right)^{2}}}$"
      ],
      "text/plain": [
       "mu*(-x1 + x2)*(-besselk(0, mu*sqrt((x1 - x2)**2 + (y1 - y2)**2))/2 - besselk(2, mu*sqrt((x1 - x2)**2 + (y1 - y2)**2))/2)*wn(sqrt((x1 - x2)**2 + (y1 - y2)**2))/sqrt((x1 - x2)**2 + (y1 - y2)**2) - mu*(-x1 + x2)*vn(sqrt((x1 - x2)**2 + (y1 - y2)**2))*besselk(1, mu*sqrt((x1 - x2)**2 + (y1 - y2)**2))/sqrt((x1 - x2)**2 + (y1 - y2)**2) + (-x1 + x2)*besselk(0, mu*sqrt((x1 - x2)**2 + (y1 - y2)**2))*Subs(Derivative(vn(_xi_1), _xi_1), _xi_1, sqrt((x1 - x2)**2 + (y1 - y2)**2))/sqrt((x1 - x2)**2 + (y1 - y2)**2) + (-x1 + x2)*besselk(1, mu*sqrt((x1 - x2)**2 + (y1 - y2)**2))*Subs(Derivative(wn(_xi_1), _xi_1), _xi_1, sqrt((x1 - x2)**2 + (y1 - y2)**2))/sqrt((x1 - x2)**2 + (y1 - y2)**2)"
      ]
     },
     "execution_count": 13,
     "metadata": {},
     "output_type": "execute_result"
    }
   ],
   "source": [
    "sp.diff(PHI, x2)"
   ]
  },
  {
   "cell_type": "code",
   "execution_count": null,
   "metadata": {},
   "outputs": [],
   "source": []
  },
  {
   "cell_type": "code",
   "execution_count": null,
   "metadata": {},
   "outputs": [],
   "source": []
  }
 ],
 "metadata": {
  "kernelspec": {
   "display_name": "3.12.6",
   "language": "python",
   "name": "python3"
  },
  "language_info": {
   "codemirror_mode": {
    "name": "ipython",
    "version": 3
   },
   "file_extension": ".py",
   "mimetype": "text/x-python",
   "name": "python",
   "nbconvert_exporter": "python",
   "pygments_lexer": "ipython3",
   "version": "3.12.6"
  }
 },
 "nbformat": 4,
 "nbformat_minor": 2
}
