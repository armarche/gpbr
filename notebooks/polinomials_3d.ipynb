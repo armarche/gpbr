{
 "cells": [
  {
   "cell_type": "code",
   "execution_count": 5,
   "metadata": {},
   "outputs": [],
   "source": [
    "import numpy as np\n",
    "import sys\n",
    "import os\n",
    "sys.path.append(os.path.abspath('..'))  # or the full path to the \"project\" directory\n",
    "from gpbr.gpbr.mfs.polinomial import calculate_3d_polinomials, MfSData"
   ]
  },
  {
   "cell_type": "code",
   "execution_count": 6,
   "metadata": {},
   "outputs": [],
   "source": [
    "N=8"
   ]
  },
  {
   "cell_type": "code",
   "execution_count": 7,
   "metadata": {},
   "outputs": [],
   "source": [
    "beta = np.ones(N+1)\n",
    "nu = beta[0]\n",
    "mfs_data = MfSData(beta,nu)"
   ]
  },
  {
   "cell_type": "code",
   "execution_count": 8,
   "metadata": {},
   "outputs": [
    {
     "data": {
      "text/plain": [
       "MfSData(Beta=array([1., 1., 1., 1., 1., 1., 1., 1., 1.]), nu=1.0)"
      ]
     },
     "execution_count": 8,
     "metadata": {},
     "output_type": "execute_result"
    }
   ],
   "source": [
    "mfs_data"
   ]
  },
  {
   "cell_type": "code",
   "execution_count": 9,
   "metadata": {},
   "outputs": [],
   "source": [
    "polinomials_data = calculate_3d_polinomials(mfs_data, N)"
   ]
  },
  {
   "cell_type": "code",
   "execution_count": 10,
   "metadata": {},
   "outputs": [
    {
     "name": "stdout",
     "output_type": "stream",
     "text": [
      "[[ 1.         nan     nan     nan     nan     nan     nan     nan     nan]\n",
      " [ 1.     -0.5        nan     nan     nan     nan     nan     nan     nan]\n",
      " [ 1.     -0.875   0.125      nan     nan     nan     nan     nan     nan]\n",
      " [ 1.     -1.1875  0.3125 -0.0208     nan     nan     nan     nan     nan]\n",
      " [ 1.     -1.4609  0.5391 -0.0677  0.0026     nan     nan     nan     nan]\n",
      " [ 1.     -1.707   0.793  -0.1419  0.0104 -0.0003     nan     nan     nan]\n",
      " [ 1.     -1.9326  1.0674 -0.2435  0.0257 -0.0012  0.         nan     nan]\n",
      " [ 1.     -2.1421  1.3579 -0.3719  0.0505 -0.0035  0.0001 -0.         nan]\n",
      " [ 1.     -2.3385  1.6615 -0.5265  0.0863 -0.0078  0.0004 -0.      0.    ]]\n"
     ]
    }
   ],
   "source": [
    "with np.printoptions(precision=4, suppress=True):\n",
    "    print(polinomials_data.A)"
   ]
  },
  {
   "cell_type": "code",
   "execution_count": 11,
   "metadata": {},
   "outputs": [
    {
     "name": "stdout",
     "output_type": "stream",
     "text": [
      "1.0\n",
      "1.0 - 0.5 x\n",
      "1.0 - 0.875 x + 0.125 x**2\n",
      "1.0 - 1.1875 x + 0.3125 x**2 - 0.02083333 x**3\n",
      "1.0 - 1.4609375 x + 0.5390625 x**2 - 0.06770833 x**3 + 0.00260417 x**4\n",
      "1.0 - 1.70703125 x + 0.79296875 x**2 - 0.14192708 x**3 + 0.01041667 x**4 -\n",
      "0.00026042 x**5\n",
      "1.0 - 1.93261719 x + 1.06738281 x**2 - 0.24348958 x**3 + 0.02571615 x**4 -\n",
      "0.00123698 x**5 + (2.17013889e-05) x**6\n",
      "1.0 - 2.14208984 x + 1.35791016 x**2 - 0.37190755 x**3 + 0.05045573 x**4 -\n",
      "0.00351563 x**5 + 0.00011936 x**6 - (1.55009921e-06) x**7\n",
      "1.0 - 2.33847046 x + 1.66152954 x**2 - 0.5265096 x**3 + 0.08631388 x**4 -\n",
      "0.00776774 x**5 + 0.00038384 x**6 - (9.68812004e-06) x**7 +\n",
      "(9.68812004e-08) x**8\n"
     ]
    }
   ],
   "source": [
    "for p in polinomials_data.polinomials:\n",
    "    print(p)"
   ]
  },
  {
   "cell_type": "code",
   "execution_count": 12,
   "metadata": {},
   "outputs": [
    {
     "data": {
      "text/plain": [
       "array([ 0,  1,  2,  3,  4,  5,  6,  7,  8,  9, 10, 11, 12, 13, 14, 15, 16,\n",
       "       17, 18, 19])"
      ]
     },
     "execution_count": 12,
     "metadata": {},
     "output_type": "execute_result"
    }
   ],
   "source": [
    "points = np.arange(0, 20)\n",
    "points"
   ]
  },
  {
   "cell_type": "code",
   "execution_count": 13,
   "metadata": {},
   "outputs": [
    {
     "name": "stdout",
     "output_type": "stream",
     "text": [
      "0.0\n",
      "0.0\n",
      "0.0\n",
      "0.0\n",
      "3.552713678800501e-15\n",
      "1.3322676295501878e-14\n",
      "5.3290705182007514e-14\n",
      "1.1546319456101628e-14\n",
      "1.3482548411047901e-12\n"
     ]
    }
   ],
   "source": [
    "for n, polinomial in enumerate(polinomials_data.polinomials):\n",
    "    v = polinomial(points)\n",
    "    dv = polinomial.deriv()(points)\n",
    "    d2v = polinomial.deriv(2)(points)\n",
    "    right = 0\n",
    "    for m in range(n):\n",
    "        right += mfs_data.Beta[n-m]*polinomials_data.polinomials[m](points)\n",
    "    print(max(d2v - 2*mfs_data.nu*dv - right))"
   ]
  },
  {
   "cell_type": "code",
   "execution_count": null,
   "metadata": {},
   "outputs": [],
   "source": []
  }
 ],
 "metadata": {
  "kernelspec": {
   "display_name": "Python 3",
   "language": "python",
   "name": "python3"
  },
  "language_info": {
   "codemirror_mode": {
    "name": "ipython",
    "version": 3
   },
   "file_extension": ".py",
   "mimetype": "text/x-python",
   "name": "python",
   "nbconvert_exporter": "python",
   "pygments_lexer": "ipython3",
   "version": "3.12.0"
  }
 },
 "nbformat": 4,
 "nbformat_minor": 2
}
