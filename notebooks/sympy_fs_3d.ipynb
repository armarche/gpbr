{
 "cells": [
  {
   "cell_type": "code",
   "execution_count": 1,
   "metadata": {},
   "outputs": [
    {
     "ename": "TypeError",
     "evalue": "Invalid argument types for subtraction",
     "output_type": "error",
     "traceback": [
      "\u001b[0;31m---------------------------------------------------------------------------\u001b[0m",
      "\u001b[0;31mTypeError\u001b[0m                                 Traceback (most recent call last)",
      "Cell \u001b[0;32mIn[1], line 24\u001b[0m\n\u001b[1;32m     21\u001b[0m del_operator \u001b[38;5;241m=\u001b[39m Del()\n\u001b[1;32m     23\u001b[0m \u001b[38;5;66;03m# Define the formula\u001b[39;00m\n\u001b[0;32m---> 24\u001b[0m lhs \u001b[38;5;241m=\u001b[39m \u001b[43mdel_operator\u001b[49m\u001b[38;5;241;43m.\u001b[39;49m\u001b[43mgradient\u001b[49m\u001b[43m(\u001b[49m\u001b[43mdel_operator\u001b[49m\u001b[38;5;241;43m.\u001b[39;49m\u001b[43mdot\u001b[49m\u001b[43m(\u001b[49m\u001b[43mPhi_n\u001b[49m\u001b[43m)\u001b[49m\u001b[43m)\u001b[49m\u001b[43m \u001b[49m\u001b[38;5;241;43m-\u001b[39;49m\u001b[43m \u001b[49m\u001b[43mmu\u001b[49m\u001b[38;5;241;43m*\u001b[39;49m\u001b[38;5;241;43m*\u001b[39;49m\u001b[38;5;241;43m2\u001b[39;49m\u001b[43m \u001b[49m\u001b[38;5;241;43m*\u001b[39;49m\u001b[43m \u001b[49m\u001b[43mPhi_n\u001b[49m \u001b[38;5;241m-\u001b[39m summation(beta(n \u001b[38;5;241m-\u001b[39m m) \u001b[38;5;241m*\u001b[39m Function(\u001b[38;5;124m'\u001b[39m\u001b[38;5;124mPhi_m\u001b[39m\u001b[38;5;124m'\u001b[39m)(x, y), (m, \u001b[38;5;241m0\u001b[39m, n \u001b[38;5;241m-\u001b[39m \u001b[38;5;241m1\u001b[39m))\n\u001b[1;32m     25\u001b[0m rhs \u001b[38;5;241m=\u001b[39m KroneckerDelta(x, y)\n\u001b[1;32m     27\u001b[0m \u001b[38;5;66;03m# Define the equation\u001b[39;00m\n",
      "File \u001b[0;32m~/.pyenv/versions/3.12.6/lib/python3.12/site-packages/sympy/core/decorators.py:106\u001b[0m, in \u001b[0;36mcall_highest_priority.<locals>.priority_decorator.<locals>.binary_op_wrapper\u001b[0;34m(self, other)\u001b[0m\n\u001b[1;32m    104\u001b[0m         \u001b[38;5;28;01mif\u001b[39;00m f \u001b[38;5;129;01mis\u001b[39;00m \u001b[38;5;129;01mnot\u001b[39;00m \u001b[38;5;28;01mNone\u001b[39;00m:\n\u001b[1;32m    105\u001b[0m             \u001b[38;5;28;01mreturn\u001b[39;00m f(\u001b[38;5;28mself\u001b[39m)\n\u001b[0;32m--> 106\u001b[0m \u001b[38;5;28;01mreturn\u001b[39;00m \u001b[43mfunc\u001b[49m\u001b[43m(\u001b[49m\u001b[38;5;28;43mself\u001b[39;49m\u001b[43m,\u001b[49m\u001b[43m \u001b[49m\u001b[43mother\u001b[49m\u001b[43m)\u001b[49m\n",
      "File \u001b[0;32m~/.pyenv/versions/3.12.6/lib/python3.12/site-packages/sympy/vector/basisdependent.py:346\u001b[0m, in \u001b[0;36mBasisDependentZero.__sub__\u001b[0;34m(self, other)\u001b[0m\n\u001b[1;32m    344\u001b[0m     \u001b[38;5;28;01mreturn\u001b[39;00m \u001b[38;5;241m-\u001b[39mother\n\u001b[1;32m    345\u001b[0m \u001b[38;5;28;01melse\u001b[39;00m:\n\u001b[0;32m--> 346\u001b[0m     \u001b[38;5;28;01mraise\u001b[39;00m \u001b[38;5;167;01mTypeError\u001b[39;00m(\u001b[38;5;124m\"\u001b[39m\u001b[38;5;124mInvalid argument types for subtraction\u001b[39m\u001b[38;5;124m\"\u001b[39m)\n",
      "\u001b[0;31mTypeError\u001b[0m: Invalid argument types for subtraction"
     ]
    }
   ],
   "source": [
    "from sympy import symbols, Function, summation, Eq, Derivative, KroneckerDelta\n",
    "from sympy.vector import CoordSys3D, Del\n",
    "\n",
    "# Define the coordinate system\n",
    "N = CoordSys3D('N')\n",
    "\n",
    "# Define vectors x and y\n",
    "x = symbols('x')\n",
    "y = symbols('y')\n",
    "\n",
    "# Define constants\n",
    "mu = symbols('mu')\n",
    "beta = symbols('beta', cls=Function)\n",
    "\n",
    "# Define the function Φn(x, y)\n",
    "n = symbols('n', integer=True)\n",
    "m = symbols('m', integer=True)\n",
    "Phi_n = Function('Phi_n')(x, y)\n",
    "\n",
    "# Define the Laplacian operator\n",
    "del_operator = Del()\n",
    "\n",
    "# Define the formula\n",
    "lhs = del_operator.gradient(del_operator.dot(Phi_n)) - mu**2 * Phi_n - summation(beta(n - m) * Function('Phi_m')(x, y), (m, 0, n - 1))\n",
    "rhs = KroneckerDelta(x, y)\n",
    "\n",
    "# Define the equation\n",
    "equation = Eq(lhs, rhs)\n",
    "\n",
    "# Display the equation\n",
    "equation"
   ]
  },
  {
   "cell_type": "code",
   "execution_count": 2,
   "metadata": {},
   "outputs": [
    {
     "ename": "ImportError",
     "evalue": "cannot import name 'Laplacian' from 'sympy' (/Users/armarche/.pyenv/versions/3.12.6/lib/python3.12/site-packages/sympy/__init__.py)",
     "output_type": "error",
     "traceback": [
      "\u001b[0;31m---------------------------------------------------------------------------\u001b[0m",
      "\u001b[0;31mImportError\u001b[0m                               Traceback (most recent call last)",
      "Cell \u001b[0;32mIn[2], line 1\u001b[0m\n\u001b[0;32m----> 1\u001b[0m \u001b[38;5;28;01mfrom\u001b[39;00m \u001b[38;5;21;01msympy\u001b[39;00m \u001b[38;5;28;01mimport\u001b[39;00m symbols, Function, summation, Eq, KroneckerDelta, Laplacian\n\u001b[1;32m      2\u001b[0m \u001b[38;5;28;01mfrom\u001b[39;00m \u001b[38;5;21;01msympy\u001b[39;00m\u001b[38;5;21;01m.\u001b[39;00m\u001b[38;5;21;01mvector\u001b[39;00m \u001b[38;5;28;01mimport\u001b[39;00m CoordSys3D\n\u001b[1;32m      4\u001b[0m \u001b[38;5;66;03m# Define the coordinate system\u001b[39;00m\n",
      "\u001b[0;31mImportError\u001b[0m: cannot import name 'Laplacian' from 'sympy' (/Users/armarche/.pyenv/versions/3.12.6/lib/python3.12/site-packages/sympy/__init__.py)"
     ]
    }
   ],
   "source": [
    "from sympy import symbols, Function, summation, Eq, KroneckerDelta, Laplacian\n",
    "from sympy.vector import CoordSys3D\n",
    "\n",
    "# Define the coordinate system\n",
    "N = CoordSys3D('N')\n",
    "\n",
    "# Define vectors x and y as symbolic points in the coordinate system\n",
    "x = symbols('x')\n",
    "y = symbols('y')\n",
    "\n",
    "# Define constants\n",
    "mu = symbols('mu')\n",
    "beta = symbols('beta', cls=Function)\n",
    "\n",
    "# Define the function Φn(x, y)\n",
    "n = symbols('n', integer=True)\n",
    "m = symbols('m', integer=True)\n",
    "Phi_n = Function('Phi_n')(x, y)\n",
    "\n",
    "# Define the Laplacian of Φn(x, y)\n",
    "laplacian_Phi_n = Laplacian(Phi_n, N)\n",
    "\n",
    "# Define the formula\n",
    "lhs = laplacian_Phi_n - mu**2 * Phi_n - summation(beta(n - m) * Function('Phi_m')(x, y), (m, 0, n - 1))\n",
    "rhs = KroneckerDelta(x, y)\n",
    "\n",
    "# Define the equation\n",
    "equation = Eq(lhs, rhs)\n",
    "\n",
    "# Display the equation\n",
    "equation"
   ]
  }
 ],
 "metadata": {
  "kernelspec": {
   "display_name": "3.12.6",
   "language": "python",
   "name": "python3"
  },
  "language_info": {
   "codemirror_mode": {
    "name": "ipython",
    "version": 3
   },
   "file_extension": ".py",
   "mimetype": "text/x-python",
   "name": "python",
   "nbconvert_exporter": "python",
   "pygments_lexer": "ipython3",
   "version": "3.12.6"
  }
 },
 "nbformat": 4,
 "nbformat_minor": 2
}
